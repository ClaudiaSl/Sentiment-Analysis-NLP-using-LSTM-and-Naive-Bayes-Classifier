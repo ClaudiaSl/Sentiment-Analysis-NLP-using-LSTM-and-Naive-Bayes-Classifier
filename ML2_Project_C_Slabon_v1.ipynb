{
 "cells": [
  {
   "cell_type": "markdown",
   "metadata": {},
   "source": [
    "# Sentiment analysis based on Women E-commerce store reviews\n",
    "## Prepared by: Claudia Słaboń"
   ]
  },
  {
   "cell_type": "markdown",
   "metadata": {},
   "source": [
    "### The project is divided into steps:\n",
    "#### Introduction\n",
    "#### Missing Values\n",
    "####  Text Data Processing:\n",
    "1. Converting words to lowercase\n",
    "2. Stopwords removal\n",
    "3. Tokenization\n",
    "4. Padding\n",
    "5. Embedding using GloVe and Word2Vec\n",
    "<br><br> Machine Learning Methods:\n",
    "<br> 1) benchmark model: Multinomial Naive Bayes\n",
    "<br> 2) student model: LSTM model using GloVe and Word2Vec approach\n",
    "<br> Conclusions"
   ]
  },
  {
   "cell_type": "code",
   "execution_count": 1,
   "metadata": {
    "colab": {
     "base_uri": "https://localhost:8080/"
    },
    "executionInfo": {
     "elapsed": 583,
     "status": "ok",
     "timestamp": 1610887775407,
     "user": {
      "displayName": "Claudia Słaboń",
      "photoUrl": "",
      "userId": "11186854387326052161"
     },
     "user_tz": -60
    },
    "id": "cFZYRKi2bOC6",
    "outputId": "ca4260cd-fc10-468a-e957-ac2bd4d84f5c"
   },
   "outputs": [
    {
     "name": "stderr",
     "output_type": "stream",
     "text": [
      "Using TensorFlow backend.\n"
     ]
    }
   ],
   "source": [
    "import pandas as pd\n",
    "import numpy as np\n",
    "import re\n",
    "import nltk\n",
    "import warnings\n",
    "warnings.simplefilter(action='ignore', category=FutureWarning)\n",
    "import tensorflow\n",
    "from tensorflow import keras\n",
    "from nltk.corpus import stopwords\n",
    "#nltk.download('stopwords')\n",
    "#nltk.download('punkt')\n",
    "from nltk.tokenize import word_tokenize, sent_tokenize\n",
    "from sklearn.feature_extraction.text import CountVectorizer\n",
    "from sklearn.naive_bayes import MultinomialNB\n",
    "from sklearn.metrics import confusion_matrix\n",
    "from wordcloud import WordCloud\n",
    "import seaborn as sns\n",
    "from matplotlib import pyplot as plt\n",
    "from keras.preprocessing.text import Tokenizer\n",
    "from keras.preprocessing.sequence import pad_sequences\n",
    "from sklearn.model_selection import train_test_split"
   ]
  },
  {
   "cell_type": "code",
   "execution_count": 72,
   "metadata": {
    "colab": {
     "base_uri": "https://localhost:8080/"
    },
    "executionInfo": {
     "elapsed": 1588,
     "status": "ok",
     "timestamp": 1610882640740,
     "user": {
      "displayName": "Claudia Słaboń",
      "photoUrl": "",
      "userId": "11186854387326052161"
     },
     "user_tz": -60
    },
    "id": "rGj6fzDIdcxL",
    "outputId": "ee2f9b88-3142-4403-d23a-4cff9b9791c9"
   },
   "outputs": [
    {
     "name": "stdout",
     "output_type": "stream",
     "text": [
      "Drive already mounted at /content/gdrive; to attempt to forcibly remount, call drive.mount(\"/content/gdrive\", force_remount=True).\n"
     ]
    }
   ],
   "source": [
    "#from google.colab import drive\n",
    "#drive.mount('/content/gdrive')"
   ]
  },
  {
   "cell_type": "markdown",
   "metadata": {},
   "source": [
    "# Introduction"
   ]
  },
  {
   "cell_type": "code",
   "execution_count": 2,
   "metadata": {
    "executionInfo": {
     "elapsed": 1585,
     "status": "ok",
     "timestamp": 1610882640742,
     "user": {
      "displayName": "Claudia Słaboń",
      "photoUrl": "",
      "userId": "11186854387326052161"
     },
     "user_tz": -60
    },
    "id": "eZ9fZ5WxbODG"
   },
   "outputs": [],
   "source": [
    "df_source = pd.read_csv(\"Womens Clothing E-Commerce Reviews.csv\")"
   ]
  },
  {
   "cell_type": "code",
   "execution_count": 3,
   "metadata": {
    "colab": {
     "base_uri": "https://localhost:8080/",
     "height": 296
    },
    "executionInfo": {
     "elapsed": 1574,
     "status": "ok",
     "timestamp": 1610882640743,
     "user": {
      "displayName": "Claudia Słaboń",
      "photoUrl": "",
      "userId": "11186854387326052161"
     },
     "user_tz": -60
    },
    "id": "AdZBWXcDbODG",
    "outputId": "250c272b-0542-4360-9c72-d34e68e37416"
   },
   "outputs": [
    {
     "data": {
      "text/html": [
       "<div>\n",
       "<style scoped>\n",
       "    .dataframe tbody tr th:only-of-type {\n",
       "        vertical-align: middle;\n",
       "    }\n",
       "\n",
       "    .dataframe tbody tr th {\n",
       "        vertical-align: top;\n",
       "    }\n",
       "\n",
       "    .dataframe thead th {\n",
       "        text-align: right;\n",
       "    }\n",
       "</style>\n",
       "<table border=\"1\" class=\"dataframe\">\n",
       "  <thead>\n",
       "    <tr style=\"text-align: right;\">\n",
       "      <th></th>\n",
       "      <th>Unnamed: 0</th>\n",
       "      <th>Clothing ID</th>\n",
       "      <th>Age</th>\n",
       "      <th>Title</th>\n",
       "      <th>Review Text</th>\n",
       "      <th>Rating</th>\n",
       "      <th>Recommended IND</th>\n",
       "      <th>Positive Feedback Count</th>\n",
       "      <th>Division Name</th>\n",
       "      <th>Department Name</th>\n",
       "      <th>Class Name</th>\n",
       "    </tr>\n",
       "  </thead>\n",
       "  <tbody>\n",
       "    <tr>\n",
       "      <th>0</th>\n",
       "      <td>0</td>\n",
       "      <td>767</td>\n",
       "      <td>33</td>\n",
       "      <td>NaN</td>\n",
       "      <td>Absolutely wonderful - silky and sexy and comf...</td>\n",
       "      <td>4</td>\n",
       "      <td>1</td>\n",
       "      <td>0</td>\n",
       "      <td>Initmates</td>\n",
       "      <td>Intimate</td>\n",
       "      <td>Intimates</td>\n",
       "    </tr>\n",
       "    <tr>\n",
       "      <th>1</th>\n",
       "      <td>1</td>\n",
       "      <td>1080</td>\n",
       "      <td>34</td>\n",
       "      <td>NaN</td>\n",
       "      <td>Love this dress!  it's sooo pretty.  i happene...</td>\n",
       "      <td>5</td>\n",
       "      <td>1</td>\n",
       "      <td>4</td>\n",
       "      <td>General</td>\n",
       "      <td>Dresses</td>\n",
       "      <td>Dresses</td>\n",
       "    </tr>\n",
       "    <tr>\n",
       "      <th>2</th>\n",
       "      <td>2</td>\n",
       "      <td>1077</td>\n",
       "      <td>60</td>\n",
       "      <td>Some major design flaws</td>\n",
       "      <td>I had such high hopes for this dress and reall...</td>\n",
       "      <td>3</td>\n",
       "      <td>0</td>\n",
       "      <td>0</td>\n",
       "      <td>General</td>\n",
       "      <td>Dresses</td>\n",
       "      <td>Dresses</td>\n",
       "    </tr>\n",
       "    <tr>\n",
       "      <th>3</th>\n",
       "      <td>3</td>\n",
       "      <td>1049</td>\n",
       "      <td>50</td>\n",
       "      <td>My favorite buy!</td>\n",
       "      <td>I love, love, love this jumpsuit. it's fun, fl...</td>\n",
       "      <td>5</td>\n",
       "      <td>1</td>\n",
       "      <td>0</td>\n",
       "      <td>General Petite</td>\n",
       "      <td>Bottoms</td>\n",
       "      <td>Pants</td>\n",
       "    </tr>\n",
       "    <tr>\n",
       "      <th>4</th>\n",
       "      <td>4</td>\n",
       "      <td>847</td>\n",
       "      <td>47</td>\n",
       "      <td>Flattering shirt</td>\n",
       "      <td>This shirt is very flattering to all due to th...</td>\n",
       "      <td>5</td>\n",
       "      <td>1</td>\n",
       "      <td>6</td>\n",
       "      <td>General</td>\n",
       "      <td>Tops</td>\n",
       "      <td>Blouses</td>\n",
       "    </tr>\n",
       "  </tbody>\n",
       "</table>\n",
       "</div>"
      ],
      "text/plain": [
       "   Unnamed: 0  Clothing ID  Age                    Title  \\\n",
       "0           0          767   33                      NaN   \n",
       "1           1         1080   34                      NaN   \n",
       "2           2         1077   60  Some major design flaws   \n",
       "3           3         1049   50         My favorite buy!   \n",
       "4           4          847   47         Flattering shirt   \n",
       "\n",
       "                                         Review Text  Rating  Recommended IND  \\\n",
       "0  Absolutely wonderful - silky and sexy and comf...       4                1   \n",
       "1  Love this dress!  it's sooo pretty.  i happene...       5                1   \n",
       "2  I had such high hopes for this dress and reall...       3                0   \n",
       "3  I love, love, love this jumpsuit. it's fun, fl...       5                1   \n",
       "4  This shirt is very flattering to all due to th...       5                1   \n",
       "\n",
       "   Positive Feedback Count   Division Name Department Name Class Name  \n",
       "0                        0       Initmates        Intimate  Intimates  \n",
       "1                        4         General         Dresses    Dresses  \n",
       "2                        0         General         Dresses    Dresses  \n",
       "3                        0  General Petite         Bottoms      Pants  \n",
       "4                        6         General            Tops    Blouses  "
      ]
     },
     "execution_count": 3,
     "metadata": {},
     "output_type": "execute_result"
    }
   ],
   "source": [
    "df_source.head()"
   ]
  },
  {
   "cell_type": "code",
   "execution_count": 4,
   "metadata": {
    "colab": {
     "base_uri": "https://localhost:8080/",
     "height": 326
    },
    "executionInfo": {
     "elapsed": 1563,
     "status": "ok",
     "timestamp": 1610882640745,
     "user": {
      "displayName": "Claudia Słaboń",
      "photoUrl": "",
      "userId": "11186854387326052161"
     },
     "user_tz": -60
    },
    "id": "LCkWu3k5bODI",
    "outputId": "ea874cf1-9382-45e8-cb04-de56fdb05272"
   },
   "outputs": [
    {
     "data": {
      "text/html": [
       "<div>\n",
       "<style scoped>\n",
       "    .dataframe tbody tr th:only-of-type {\n",
       "        vertical-align: middle;\n",
       "    }\n",
       "\n",
       "    .dataframe tbody tr th {\n",
       "        vertical-align: top;\n",
       "    }\n",
       "\n",
       "    .dataframe thead th {\n",
       "        text-align: right;\n",
       "    }\n",
       "</style>\n",
       "<table border=\"1\" class=\"dataframe\">\n",
       "  <thead>\n",
       "    <tr style=\"text-align: right;\">\n",
       "      <th></th>\n",
       "      <th>Clothing ID</th>\n",
       "      <th>Age</th>\n",
       "      <th>Title</th>\n",
       "      <th>Review_Text</th>\n",
       "      <th>Rating</th>\n",
       "      <th>Recommended IND</th>\n",
       "      <th>Positive Feedback Count</th>\n",
       "      <th>Division Name</th>\n",
       "      <th>Department Name</th>\n",
       "      <th>Class Name</th>\n",
       "    </tr>\n",
       "    <tr>\n",
       "      <th>ID</th>\n",
       "      <th></th>\n",
       "      <th></th>\n",
       "      <th></th>\n",
       "      <th></th>\n",
       "      <th></th>\n",
       "      <th></th>\n",
       "      <th></th>\n",
       "      <th></th>\n",
       "      <th></th>\n",
       "      <th></th>\n",
       "    </tr>\n",
       "  </thead>\n",
       "  <tbody>\n",
       "    <tr>\n",
       "      <th>0</th>\n",
       "      <td>767</td>\n",
       "      <td>33</td>\n",
       "      <td>NaN</td>\n",
       "      <td>Absolutely wonderful - silky and sexy and comf...</td>\n",
       "      <td>4</td>\n",
       "      <td>1</td>\n",
       "      <td>0</td>\n",
       "      <td>Initmates</td>\n",
       "      <td>Intimate</td>\n",
       "      <td>Intimates</td>\n",
       "    </tr>\n",
       "    <tr>\n",
       "      <th>1</th>\n",
       "      <td>1080</td>\n",
       "      <td>34</td>\n",
       "      <td>NaN</td>\n",
       "      <td>Love this dress!  it's sooo pretty.  i happene...</td>\n",
       "      <td>5</td>\n",
       "      <td>1</td>\n",
       "      <td>4</td>\n",
       "      <td>General</td>\n",
       "      <td>Dresses</td>\n",
       "      <td>Dresses</td>\n",
       "    </tr>\n",
       "    <tr>\n",
       "      <th>2</th>\n",
       "      <td>1077</td>\n",
       "      <td>60</td>\n",
       "      <td>Some major design flaws</td>\n",
       "      <td>I had such high hopes for this dress and reall...</td>\n",
       "      <td>3</td>\n",
       "      <td>0</td>\n",
       "      <td>0</td>\n",
       "      <td>General</td>\n",
       "      <td>Dresses</td>\n",
       "      <td>Dresses</td>\n",
       "    </tr>\n",
       "    <tr>\n",
       "      <th>3</th>\n",
       "      <td>1049</td>\n",
       "      <td>50</td>\n",
       "      <td>My favorite buy!</td>\n",
       "      <td>I love, love, love this jumpsuit. it's fun, fl...</td>\n",
       "      <td>5</td>\n",
       "      <td>1</td>\n",
       "      <td>0</td>\n",
       "      <td>General Petite</td>\n",
       "      <td>Bottoms</td>\n",
       "      <td>Pants</td>\n",
       "    </tr>\n",
       "    <tr>\n",
       "      <th>4</th>\n",
       "      <td>847</td>\n",
       "      <td>47</td>\n",
       "      <td>Flattering shirt</td>\n",
       "      <td>This shirt is very flattering to all due to th...</td>\n",
       "      <td>5</td>\n",
       "      <td>1</td>\n",
       "      <td>6</td>\n",
       "      <td>General</td>\n",
       "      <td>Tops</td>\n",
       "      <td>Blouses</td>\n",
       "    </tr>\n",
       "  </tbody>\n",
       "</table>\n",
       "</div>"
      ],
      "text/plain": [
       "    Clothing ID  Age                    Title  \\\n",
       "ID                                              \n",
       "0           767   33                      NaN   \n",
       "1          1080   34                      NaN   \n",
       "2          1077   60  Some major design flaws   \n",
       "3          1049   50         My favorite buy!   \n",
       "4           847   47         Flattering shirt   \n",
       "\n",
       "                                          Review_Text  Rating  \\\n",
       "ID                                                              \n",
       "0   Absolutely wonderful - silky and sexy and comf...       4   \n",
       "1   Love this dress!  it's sooo pretty.  i happene...       5   \n",
       "2   I had such high hopes for this dress and reall...       3   \n",
       "3   I love, love, love this jumpsuit. it's fun, fl...       5   \n",
       "4   This shirt is very flattering to all due to th...       5   \n",
       "\n",
       "    Recommended IND  Positive Feedback Count   Division Name Department Name  \\\n",
       "ID                                                                             \n",
       "0                 1                        0       Initmates        Intimate   \n",
       "1                 1                        4         General         Dresses   \n",
       "2                 0                        0         General         Dresses   \n",
       "3                 1                        0  General Petite         Bottoms   \n",
       "4                 1                        6         General            Tops   \n",
       "\n",
       "   Class Name  \n",
       "ID             \n",
       "0   Intimates  \n",
       "1     Dresses  \n",
       "2     Dresses  \n",
       "3       Pants  \n",
       "4     Blouses  "
      ]
     },
     "execution_count": 4,
     "metadata": {},
     "output_type": "execute_result"
    }
   ],
   "source": [
    "df_source.rename(columns = {'Unnamed: 0':'ID', 'Review Text':'Review_Text'}, inplace = True)\n",
    "df_source.set_index('ID', inplace = True)\n",
    "df_source.head()"
   ]
  },
  {
   "cell_type": "code",
   "execution_count": 5,
   "metadata": {
    "colab": {
     "base_uri": "https://localhost:8080/",
     "height": 843
    },
    "executionInfo": {
     "elapsed": 2038,
     "status": "ok",
     "timestamp": 1610888701424,
     "user": {
      "displayName": "Claudia Słaboń",
      "photoUrl": "",
      "userId": "11186854387326052161"
     },
     "user_tz": -60
    },
    "id": "_2og1VoraetR",
    "outputId": "1e21d0c1-ad1f-4873-fd32-2d794fb45796"
   },
   "outputs": [
    {
     "data": {
      "text/plain": [
       "<AxesSubplot:xlabel='Age', ylabel='count'>"
      ]
     },
     "execution_count": 5,
     "metadata": {},
     "output_type": "execute_result"
    },
    {
     "data": {
      "image/png": "[encoded data removed]",
      "text/plain": [
       "<Figure size 1440x720 with 1 Axes>"
      ]
     },
     "metadata": {
      "needs_background": "light"
     },
     "output_type": "display_data"
    }
   ],
   "source": [
    "plt.figure(figsize=(20,10))\n",
    "sns.countplot(x=df_source[\"Age\"])"
   ]
  },
  {
   "cell_type": "code",
   "execution_count": 6,
   "metadata": {
    "colab": {
     "base_uri": "https://localhost:8080/",
     "height": 398
    },
    "executionInfo": {
     "elapsed": 1182,
     "status": "ok",
     "timestamp": 1610888539699,
     "user": {
      "displayName": "Claudia Słaboń",
      "photoUrl": "",
      "userId": "11186854387326052161"
     },
     "user_tz": -60
    },
    "id": "XRjZXQSzbdkI",
    "outputId": "28de9cdf-5d82-4061-f7a3-b94fbba402a7"
   },
   "outputs": [
    {
     "data": {
      "text/plain": [
       "<AxesSubplot:xlabel='Rating', ylabel='count'>"
      ]
     },
     "execution_count": 6,
     "metadata": {},
     "output_type": "execute_result"
    },
    {
     "data": {
      "image/png": "[encoded data removed]",
      "text/plain": [
       "<Figure size 432x288 with 1 Axes>"
      ]
     },
     "metadata": {
      "needs_background": "light"
     },
     "output_type": "display_data"
    }
   ],
   "source": [
    "sns.countplot(x=df_source[\"Rating\"])"
   ]
  },
  {
   "cell_type": "markdown",
   "metadata": {},
   "source": [
    "# Null variables"
   ]
  },
  {
   "cell_type": "code",
   "execution_count": 76,
   "metadata": {
    "colab": {
     "base_uri": "https://localhost:8080/"
    },
    "executionInfo": {
     "elapsed": 1555,
     "status": "ok",
     "timestamp": 1610882640747,
     "user": {
      "displayName": "Claudia Słaboń",
      "photoUrl": "",
      "userId": "11186854387326052161"
     },
     "user_tz": -60
    },
    "id": "rH_b1sZ2bODI",
    "outputId": "8b7fa903-6883-45a3-cf0d-daf4ecf8a310"
   },
   "outputs": [
    {
     "name": "stdout",
     "output_type": "stream",
     "text": [
      "Clothing ID                   0\n",
      "Age                           0\n",
      "Title                      3810\n",
      "Review_Text                 845\n",
      "Rating                        0\n",
      "Recommended IND               0\n",
      "Positive Feedback Count       0\n",
      "Division Name                14\n",
      "Department Name              14\n",
      "Class Name                   14\n",
      "dtype: int64\n"
     ]
    }
   ],
   "source": [
    "print(df_source.isnull().sum())"
   ]
  },
  {
   "cell_type": "code",
   "execution_count": 7,
   "metadata": {
    "colab": {
     "base_uri": "https://localhost:8080/",
     "height": 225
    },
    "executionInfo": {
     "elapsed": 1545,
     "status": "ok",
     "timestamp": 1610882640748,
     "user": {
      "displayName": "Claudia Słaboń",
      "photoUrl": "",
      "userId": "11186854387326052161"
     },
     "user_tz": -60
    },
    "id": "Uq8gnEq7bODJ",
    "outputId": "086c21f8-f8cb-4023-860b-704d7369cc44"
   },
   "outputs": [
    {
     "data": {
      "text/html": [
       "<div>\n",
       "<style scoped>\n",
       "    .dataframe tbody tr th:only-of-type {\n",
       "        vertical-align: middle;\n",
       "    }\n",
       "\n",
       "    .dataframe tbody tr th {\n",
       "        vertical-align: top;\n",
       "    }\n",
       "\n",
       "    .dataframe thead th {\n",
       "        text-align: right;\n",
       "    }\n",
       "</style>\n",
       "<table border=\"1\" class=\"dataframe\">\n",
       "  <thead>\n",
       "    <tr style=\"text-align: right;\">\n",
       "      <th></th>\n",
       "      <th>Rating</th>\n",
       "      <th>Review_Text</th>\n",
       "    </tr>\n",
       "    <tr>\n",
       "      <th>ID</th>\n",
       "      <th></th>\n",
       "      <th></th>\n",
       "    </tr>\n",
       "  </thead>\n",
       "  <tbody>\n",
       "    <tr>\n",
       "      <th>0</th>\n",
       "      <td>4</td>\n",
       "      <td>Absolutely wonderful - silky and sexy and comf...</td>\n",
       "    </tr>\n",
       "    <tr>\n",
       "      <th>1</th>\n",
       "      <td>5</td>\n",
       "      <td>Love this dress!  it's sooo pretty.  i happene...</td>\n",
       "    </tr>\n",
       "    <tr>\n",
       "      <th>2</th>\n",
       "      <td>3</td>\n",
       "      <td>I had such high hopes for this dress and reall...</td>\n",
       "    </tr>\n",
       "    <tr>\n",
       "      <th>3</th>\n",
       "      <td>5</td>\n",
       "      <td>I love, love, love this jumpsuit. it's fun, fl...</td>\n",
       "    </tr>\n",
       "    <tr>\n",
       "      <th>4</th>\n",
       "      <td>5</td>\n",
       "      <td>This shirt is very flattering to all due to th...</td>\n",
       "    </tr>\n",
       "  </tbody>\n",
       "</table>\n",
       "</div>"
      ],
      "text/plain": [
       "    Rating                                        Review_Text\n",
       "ID                                                           \n",
       "0        4  Absolutely wonderful - silky and sexy and comf...\n",
       "1        5  Love this dress!  it's sooo pretty.  i happene...\n",
       "2        3  I had such high hopes for this dress and reall...\n",
       "3        5  I love, love, love this jumpsuit. it's fun, fl...\n",
       "4        5  This shirt is very flattering to all due to th..."
      ]
     },
     "execution_count": 7,
     "metadata": {},
     "output_type": "execute_result"
    }
   ],
   "source": [
    "df = df_source[['Rating', 'Review_Text']]\n",
    "df = pd.DataFrame(df)\n",
    "df.head()"
   ]
  },
  {
   "cell_type": "markdown",
   "metadata": {
    "id": "f_KYtTpsbODJ"
   },
   "source": [
    "Removing empty rows"
   ]
  },
  {
   "cell_type": "code",
   "execution_count": 8,
   "metadata": {
    "colab": {
     "base_uri": "https://localhost:8080/"
    },
    "executionInfo": {
     "elapsed": 1535,
     "status": "ok",
     "timestamp": 1610882640750,
     "user": {
      "displayName": "Claudia Słaboń",
      "photoUrl": "",
      "userId": "11186854387326052161"
     },
     "user_tz": -60
    },
    "id": "l3ZgsrsDbODK",
    "outputId": "a7ac767b-a177-4162-b1cf-3b03c6eac754"
   },
   "outputs": [
    {
     "name": "stdout",
     "output_type": "stream",
     "text": [
      "Rating         0\n",
      "Review_Text    0\n",
      "dtype: int64\n"
     ]
    },
    {
     "data": {
      "text/plain": [
       "22641"
      ]
     },
     "execution_count": 8,
     "metadata": {},
     "output_type": "execute_result"
    }
   ],
   "source": [
    "df.dropna(subset=['Review_Text'], inplace=True)\n",
    "print(df.isnull().sum())\n",
    "df[\"Rating\"].size"
   ]
  },
  {
   "cell_type": "markdown",
   "metadata": {
    "id": "UHafUk4obODK"
   },
   "source": [
    "# Changing ratings:\n",
    "<br> 1 or 2 as negative review\n",
    "<br> 3 as neutral\n",
    "<br> 4 and 5 as positive"
   ]
  },
  {
   "cell_type": "code",
   "execution_count": 9,
   "metadata": {
    "colab": {
     "base_uri": "https://localhost:8080/"
    },
    "executionInfo": {
     "elapsed": 1528,
     "status": "ok",
     "timestamp": 1610882640752,
     "user": {
      "displayName": "Claudia Słaboń",
      "photoUrl": "",
      "userId": "11186854387326052161"
     },
     "user_tz": -60
    },
    "id": "IMUYmCJAbODK",
    "outputId": "b26f4646-b20c-403d-a64b-d07ad9de43e3"
   },
   "outputs": [
    {
     "data": {
      "text/plain": [
       "Rating         object\n",
       "Review_Text    object\n",
       "dtype: object"
      ]
     },
     "execution_count": 9,
     "metadata": {},
     "output_type": "execute_result"
    }
   ],
   "source": [
    "df.Rating = df.Rating.astype(str)\n",
    "df.dtypes"
   ]
  },
  {
   "cell_type": "code",
   "execution_count": 10,
   "metadata": {
    "executionInfo": {
     "elapsed": 1775,
     "status": "ok",
     "timestamp": 1610882641002,
     "user": {
      "displayName": "Claudia Słaboń",
      "photoUrl": "",
      "userId": "11186854387326052161"
     },
     "user_tz": -60
    },
    "id": "mjxOApuBbODL"
   },
   "outputs": [],
   "source": [
    "df.Rating[df.Rating == '1'] = 'negative'\n",
    "df.Rating[df.Rating == '2'] = 'negative'\n",
    "df.Rating[df.Rating == '3'] = 'neutral'\n",
    "df.Rating[df.Rating == '4'] = 'positive'\n",
    "df.Rating[df.Rating == '5'] = 'positive'"
   ]
  },
  {
   "cell_type": "code",
   "execution_count": 11,
   "metadata": {
    "colab": {
     "base_uri": "https://localhost:8080/",
     "height": 225
    },
    "executionInfo": {
     "elapsed": 1765,
     "status": "ok",
     "timestamp": 1610882641006,
     "user": {
      "displayName": "Claudia Słaboń",
      "photoUrl": "",
      "userId": "11186854387326052161"
     },
     "user_tz": -60
    },
    "id": "E28BbcyxbODL",
    "outputId": "48d9287d-9f1f-4b9f-fa28-de1554ac5a75"
   },
   "outputs": [
    {
     "data": {
      "text/html": [
       "<div>\n",
       "<style scoped>\n",
       "    .dataframe tbody tr th:only-of-type {\n",
       "        vertical-align: middle;\n",
       "    }\n",
       "\n",
       "    .dataframe tbody tr th {\n",
       "        vertical-align: top;\n",
       "    }\n",
       "\n",
       "    .dataframe thead th {\n",
       "        text-align: right;\n",
       "    }\n",
       "</style>\n",
       "<table border=\"1\" class=\"dataframe\">\n",
       "  <thead>\n",
       "    <tr style=\"text-align: right;\">\n",
       "      <th></th>\n",
       "      <th>Rating</th>\n",
       "      <th>Review_Text</th>\n",
       "    </tr>\n",
       "    <tr>\n",
       "      <th>ID</th>\n",
       "      <th></th>\n",
       "      <th></th>\n",
       "    </tr>\n",
       "  </thead>\n",
       "  <tbody>\n",
       "    <tr>\n",
       "      <th>0</th>\n",
       "      <td>positive</td>\n",
       "      <td>Absolutely wonderful - silky and sexy and comf...</td>\n",
       "    </tr>\n",
       "    <tr>\n",
       "      <th>1</th>\n",
       "      <td>positive</td>\n",
       "      <td>Love this dress!  it's sooo pretty.  i happene...</td>\n",
       "    </tr>\n",
       "    <tr>\n",
       "      <th>2</th>\n",
       "      <td>neutral</td>\n",
       "      <td>I had such high hopes for this dress and reall...</td>\n",
       "    </tr>\n",
       "    <tr>\n",
       "      <th>3</th>\n",
       "      <td>positive</td>\n",
       "      <td>I love, love, love this jumpsuit. it's fun, fl...</td>\n",
       "    </tr>\n",
       "    <tr>\n",
       "      <th>4</th>\n",
       "      <td>positive</td>\n",
       "      <td>This shirt is very flattering to all due to th...</td>\n",
       "    </tr>\n",
       "  </tbody>\n",
       "</table>\n",
       "</div>"
      ],
      "text/plain": [
       "      Rating                                        Review_Text\n",
       "ID                                                             \n",
       "0   positive  Absolutely wonderful - silky and sexy and comf...\n",
       "1   positive  Love this dress!  it's sooo pretty.  i happene...\n",
       "2    neutral  I had such high hopes for this dress and reall...\n",
       "3   positive  I love, love, love this jumpsuit. it's fun, fl...\n",
       "4   positive  This shirt is very flattering to all due to th..."
      ]
     },
     "execution_count": 11,
     "metadata": {},
     "output_type": "execute_result"
    }
   ],
   "source": [
    "df.head()"
   ]
  },
  {
   "cell_type": "markdown",
   "metadata": {
    "id": "ubMa691kbODL"
   },
   "source": [
    "Text Data Processing:\n",
    "<br> 1. Converting words to lowercase\n",
    "<br> 2. Stopwords removal\n",
    "<br> 3. Tokenization\n",
    "<br> 4. Padding\n",
    "<br> 5. Embedding using GloVe and Word2Vec"
   ]
  },
  {
   "cell_type": "markdown",
   "metadata": {
    "id": "fW8P7a9YbODM"
   },
   "source": [
    "# Removing numbers, symbols and converting words to lowercase."
   ]
  },
  {
   "cell_type": "code",
   "execution_count": 12,
   "metadata": {
    "executionInfo": {
     "elapsed": 1763,
     "status": "ok",
     "timestamp": 1610882641008,
     "user": {
      "displayName": "Claudia Słaboń",
      "photoUrl": "",
      "userId": "11186854387326052161"
     },
     "user_tz": -60
    },
    "id": "Rorw7BDibODM"
   },
   "outputs": [],
   "source": [
    "def tidy_text(text):\n",
    "    text = re.sub(r'[^A-Za-z]+', ' ', text)\n",
    "    text = re.sub(r\"it s\", 'it is', text)\n",
    "    text = re.sub(r\"i m\", 'i am', text)\n",
    "    return text"
   ]
  },
  {
   "cell_type": "code",
   "execution_count": 13,
   "metadata": {
    "executionInfo": {
     "elapsed": 2020,
     "status": "ok",
     "timestamp": 1610882641267,
     "user": {
      "displayName": "Claudia Słaboń",
      "photoUrl": "",
      "userId": "11186854387326052161"
     },
     "user_tz": -60
    },
    "id": "3F22a-QbbODM"
   },
   "outputs": [],
   "source": [
    "df.Review_Text = df.Review_Text.str.lower()\n",
    "df.Review_Text = df.Review_Text.apply(lambda x: tidy_text(str(x)))"
   ]
  },
  {
   "cell_type": "code",
   "execution_count": 14,
   "metadata": {
    "colab": {
     "base_uri": "https://localhost:8080/"
    },
    "executionInfo": {
     "elapsed": 2552,
     "status": "ok",
     "timestamp": 1610882641809,
     "user": {
      "displayName": "Claudia Słaboń",
      "photoUrl": "",
      "userId": "11186854387326052161"
     },
     "user_tz": -60
    },
    "id": "rDNyaLoXbODN",
    "outputId": "4fe2be12-7fdb-4398-cfa8-a30bdda817cb"
   },
   "outputs": [
    {
     "data": {
      "text/plain": [
       "the     76168\n",
       "i       67070\n",
       "it      49285\n",
       "and     49010\n",
       "a       43120\n",
       "is      37066\n",
       "this    25762\n",
       "to      24583\n",
       "in      20753\n",
       "but     16556\n",
       "dtype: int64"
      ]
     },
     "execution_count": 14,
     "metadata": {},
     "output_type": "execute_result"
    }
   ],
   "source": [
    "pd.Series(' '.join(df['Review_Text']).split()).value_counts().head(10)"
   ]
  },
  {
   "cell_type": "markdown",
   "metadata": {
    "id": "UTC7BB10bODN"
   },
   "source": [
    "# Removing stopwords"
   ]
  },
  {
   "cell_type": "code",
   "execution_count": 15,
   "metadata": {
    "executionInfo": {
     "elapsed": 2551,
     "status": "ok",
     "timestamp": 1610882641812,
     "user": {
      "displayName": "Claudia Słaboń",
      "photoUrl": "",
      "userId": "11186854387326052161"
     },
     "user_tz": -60
    },
    "id": "FA5qGKoSbODN"
   },
   "outputs": [],
   "source": [
    "stop_words = set(stopwords.words('english'))"
   ]
  },
  {
   "cell_type": "code",
   "execution_count": 16,
   "metadata": {
    "executionInfo": {
     "elapsed": 9712,
     "status": "ok",
     "timestamp": 1610882648975,
     "user": {
      "displayName": "Claudia Słaboń",
      "photoUrl": "",
      "userId": "11186854387326052161"
     },
     "user_tz": -60
    },
    "id": "2nBIHyPFbODO"
   },
   "outputs": [],
   "source": [
    "rm_stop_words = lambda x: [[w for w in word_tokenize(text) if w not in stop_words] for text in sent_tokenize(x)]\n",
    "df['Review_Text'] = df['Review_Text'].apply(rm_stop_words)\n",
    "df_m = df.copy()"
   ]
  },
  {
   "cell_type": "code",
   "execution_count": 17,
   "metadata": {
    "colab": {
     "base_uri": "https://localhost:8080/"
    },
    "executionInfo": {
     "elapsed": 9706,
     "status": "ok",
     "timestamp": 1610882648979,
     "user": {
      "displayName": "Claudia Słaboń",
      "photoUrl": "",
      "userId": "11186854387326052161"
     },
     "user_tz": -60
    },
    "id": "6kSwp9wVbODO",
    "outputId": "3eb0c103-3ac9-4ee2-a4d5-1118ea9d91ee"
   },
   "outputs": [
    {
     "data": {
      "text/plain": [
       "ID\n",
       "0        [[absolutely, wonderful, silky, sexy, comforta...\n",
       "1        [[love, dress, sooo, pretty, happened, find, s...\n",
       "2        [[high, hopes, dress, really, wanted, work, in...\n",
       "3        [[love, love, love, jumpsuit, fun, flirty, fab...\n",
       "4        [[shirt, flattering, due, adjustable, front, t...\n",
       "                               ...                        \n",
       "23481    [[happy, snag, dress, great, price, easy, slip...\n",
       "23482    [[reminds, maternity, clothes, soft, stretchy,...\n",
       "23483    [[fit, well, top, see, never, would, worked, g...\n",
       "23484    [[bought, dress, wedding, summer, cute, unfort...\n",
       "23485    [[dress, lovely, platinum, feminine, fits, per...\n",
       "Name: Review_Text, Length: 22641, dtype: object"
      ]
     },
     "execution_count": 17,
     "metadata": {},
     "output_type": "execute_result"
    }
   ],
   "source": [
    "df['Review_Text']"
   ]
  },
  {
   "cell_type": "markdown",
   "metadata": {
    "id": "8Car9izKbODO"
   },
   "source": [
    "Combining tokens into sentences and removing all rows with 0 words after stopwords removal."
   ]
  },
  {
   "cell_type": "code",
   "execution_count": 18,
   "metadata": {
    "executionInfo": {
     "elapsed": 9705,
     "status": "ok",
     "timestamp": 1610882648980,
     "user": {
      "displayName": "Claudia Słaboń",
      "photoUrl": "",
      "userId": "11186854387326052161"
     },
     "user_tz": -60
    },
    "id": "E302mL4JbODO"
   },
   "outputs": [],
   "source": [
    "def combine_text(text):\n",
    "    try:\n",
    "        return ' '.join(text[0])\n",
    "    except:\n",
    "        return np.nan\n",
    "df.Review_Text = df.Review_Text.apply(lambda x: combine_text(x))"
   ]
  },
  {
   "cell_type": "code",
   "execution_count": 19,
   "metadata": {
    "colab": {
     "base_uri": "https://localhost:8080/"
    },
    "executionInfo": {
     "elapsed": 9696,
     "status": "ok",
     "timestamp": 1610882648981,
     "user": {
      "displayName": "Claudia Słaboń",
      "photoUrl": "",
      "userId": "11186854387326052161"
     },
     "user_tz": -60
    },
    "id": "UNeZBUvzbODP",
    "outputId": "080d4d9c-1a18-44d0-f267-448419634278"
   },
   "outputs": [
    {
     "data": {
      "text/plain": [
       "<bound method NDFrame.head of          Rating                                        Review_Text\n",
       "ID                                                                \n",
       "0      positive        absolutely wonderful silky sexy comfortable\n",
       "1      positive  love dress sooo pretty happened find store gla...\n",
       "2       neutral  high hopes dress really wanted work initially ...\n",
       "3      positive  love love love jumpsuit fun flirty fabulous ev...\n",
       "4      positive  shirt flattering due adjustable front tie perf...\n",
       "...         ...                                                ...\n",
       "23481  positive  happy snag dress great price easy slip flatter...\n",
       "23482   neutral  reminds maternity clothes soft stretchy shiny ...\n",
       "23483   neutral  fit well top see never would worked glad able ...\n",
       "23484   neutral  bought dress wedding summer cute unfortunately...\n",
       "23485  positive  dress lovely platinum feminine fits perfectly ...\n",
       "\n",
       "[22641 rows x 2 columns]>"
      ]
     },
     "execution_count": 19,
     "metadata": {},
     "output_type": "execute_result"
    }
   ],
   "source": [
    "df.head"
   ]
  },
  {
   "cell_type": "code",
   "execution_count": 20,
   "metadata": {
    "executionInfo": {
     "elapsed": 9695,
     "status": "ok",
     "timestamp": 1610882648981,
     "user": {
      "displayName": "Claudia Słaboń",
      "photoUrl": "",
      "userId": "11186854387326052161"
     },
     "user_tz": -60
    },
    "id": "0HN2cgJibODP"
   },
   "outputs": [],
   "source": [
    "df_benchmark = df.copy()"
   ]
  },
  {
   "cell_type": "markdown",
   "metadata": {
    "id": "itZETrFyj3GO"
   },
   "source": [
    "Word Cloud on the whole dataset"
   ]
  },
  {
   "cell_type": "code",
   "execution_count": 21,
   "metadata": {
    "colab": {
     "base_uri": "https://localhost:8080/",
     "height": 319
    },
    "executionInfo": {
     "elapsed": 4213,
     "status": "ok",
     "timestamp": 1610887414561,
     "user": {
      "displayName": "Claudia Słaboń",
      "photoUrl": "",
      "userId": "11186854387326052161"
     },
     "user_tz": -60
    },
    "id": "SFCnvO3AbODP",
    "outputId": "73cce658-5e53-416d-f758-9757314d7246"
   },
   "outputs": [
    {
     "data": {
      "image/png": "[encoded data removed]",
      "text/plain": [
       "<Figure size 720x360 with 1 Axes>"
      ]
     },
     "metadata": {
      "needs_background": "light"
     },
     "output_type": "display_data"
    }
   ],
   "source": [
    "t = \" \".join(review for review in df.Review_Text)\n",
    "img = WordCloud(background_color=\"white\", max_words=50).generate(t)\n",
    "plt.figure(figsize=(10,5))\n",
    "plt.imshow(img, interpolation='bilinear')\n",
    "plt.axis(\"off\")\n",
    "plt.title('Total Reviews Word Cloud')\n",
    "plt.show()"
   ]
  },
  {
   "cell_type": "code",
   "execution_count": 22,
   "metadata": {
    "colab": {
     "base_uri": "https://localhost:8080/"
    },
    "executionInfo": {
     "elapsed": 594,
     "status": "ok",
     "timestamp": 1610890354844,
     "user": {
      "displayName": "Claudia Słaboń",
      "photoUrl": "",
      "userId": "11186854387326052161"
     },
     "user_tz": -60
    },
    "id": "hoUuGOBTbODQ",
    "outputId": "3ee2b6b9-2bf1-48cb-f041-c2974da56166"
   },
   "outputs": [
    {
     "name": "stdout",
     "output_type": "stream",
     "text": [
      "2370\n",
      "2823\n",
      "17448\n"
     ]
    }
   ],
   "source": [
    "negative = df[df[\"Rating\"] == 'negative']\n",
    "neutral = df[df[\"Rating\"] == 'neutral']\n",
    "positive = df[df[\"Rating\"] == 'positive']\n",
    "print(len(negative))\n",
    "print(len(neutral))\n",
    "print(len(positive))"
   ]
  },
  {
   "cell_type": "code",
   "execution_count": 23,
   "metadata": {
    "colab": {
     "base_uri": "https://localhost:8080/",
     "height": 332
    },
    "executionInfo": {
     "elapsed": 660,
     "status": "ok",
     "timestamp": 1610890311325,
     "user": {
      "displayName": "Claudia Słaboń",
      "photoUrl": "",
      "userId": "11186854387326052161"
     },
     "user_tz": -60
    },
    "id": "7P8v5pVshXQa",
    "outputId": "c895b3ee-a53c-4176-9cc7-b461721bee20"
   },
   "outputs": [
    {
     "data": {
      "image/png": "[encoded data removed]",
      "text/plain": [
       "<Figure size 576x360 with 1 Axes>"
      ]
     },
     "metadata": {
      "needs_background": "light"
     },
     "output_type": "display_data"
    }
   ],
   "source": [
    "n = pd.Series(' '.join(negative['Review_Text']).split())\n",
    "plt.figure(figsize=(8,5))\n",
    "n.value_counts()[:15].plot.bar() \n",
    "plt.title(\"Top 15 words used in negative reviews\")\n",
    "plt.show()"
   ]
  },
  {
   "cell_type": "code",
   "execution_count": 24,
   "metadata": {
    "colab": {
     "base_uri": "https://localhost:8080/",
     "height": 332
    },
    "executionInfo": {
     "elapsed": 626,
     "status": "ok",
     "timestamp": 1610890467113,
     "user": {
      "displayName": "Claudia Słaboń",
      "photoUrl": "",
      "userId": "11186854387326052161"
     },
     "user_tz": -60
    },
    "id": "eT9n-7W5jS4t",
    "outputId": "436f40e4-7fa8-4196-b68a-81ce4ae4fdaf"
   },
   "outputs": [
    {
     "data": {
      "image/png": "[encoded data removed]",
      "text/plain": [
       "<Figure size 576x360 with 1 Axes>"
      ]
     },
     "metadata": {
      "needs_background": "light"
     },
     "output_type": "display_data"
    }
   ],
   "source": [
    "neu = pd.Series(' '.join(neutral['Review_Text']).split())\n",
    "plt.figure(figsize=(8,5))\n",
    "neu.value_counts()[:15].plot.bar() \n",
    "plt.title(\"Top 15 words used in neutral reviews\")\n",
    "plt.show()"
   ]
  },
  {
   "cell_type": "code",
   "execution_count": 25,
   "metadata": {
    "colab": {
     "base_uri": "https://localhost:8080/",
     "height": 344
    },
    "executionInfo": {
     "elapsed": 1103,
     "status": "ok",
     "timestamp": 1610890496380,
     "user": {
      "displayName": "Claudia Słaboń",
      "photoUrl": "",
      "userId": "11186854387326052161"
     },
     "user_tz": -60
    },
    "id": "Ho4GwgNgjhDC",
    "outputId": "04651aea-9785-4a7b-ccf6-1ac4a6c44d47"
   },
   "outputs": [
    {
     "data": {
      "image/png": "[encoded data removed]",
      "text/plain": [
       "<Figure size 576x360 with 1 Axes>"
      ]
     },
     "metadata": {
      "needs_background": "light"
     },
     "output_type": "display_data"
    }
   ],
   "source": [
    "p = pd.Series(' '.join(positive['Review_Text']).split())\n",
    "plt.figure(figsize=(8,5))\n",
    "p.value_counts()[:15].plot.bar() \n",
    "plt.title(\"Top 15 words used in positive reviews\")\n",
    "plt.show()"
   ]
  },
  {
   "cell_type": "markdown",
   "metadata": {
    "id": "UyIZhlKJbODR"
   },
   "source": [
    "# Multinominal Naive Bayes"
   ]
  },
  {
   "cell_type": "code",
   "execution_count": 97,
   "metadata": {
    "colab": {
     "base_uri": "https://localhost:8080/",
     "height": 225
    },
    "executionInfo": {
     "elapsed": 14504,
     "status": "ok",
     "timestamp": 1610882653864,
     "user": {
      "displayName": "Claudia Słaboń",
      "photoUrl": "",
      "userId": "11186854387326052161"
     },
     "user_tz": -60
    },
    "id": "xKb9Dc52bODR",
    "outputId": "ea1a642b-0526-4194-8f8d-a3df5b2a823a"
   },
   "outputs": [
    {
     "data": {
      "text/html": [
       "<div>\n",
       "<style scoped>\n",
       "    .dataframe tbody tr th:only-of-type {\n",
       "        vertical-align: middle;\n",
       "    }\n",
       "\n",
       "    .dataframe tbody tr th {\n",
       "        vertical-align: top;\n",
       "    }\n",
       "\n",
       "    .dataframe thead th {\n",
       "        text-align: right;\n",
       "    }\n",
       "</style>\n",
       "<table border=\"1\" class=\"dataframe\">\n",
       "  <thead>\n",
       "    <tr style=\"text-align: right;\">\n",
       "      <th></th>\n",
       "      <th>Rating</th>\n",
       "      <th>Review_Text</th>\n",
       "    </tr>\n",
       "    <tr>\n",
       "      <th>ID</th>\n",
       "      <th></th>\n",
       "      <th></th>\n",
       "    </tr>\n",
       "  </thead>\n",
       "  <tbody>\n",
       "    <tr>\n",
       "      <th>0</th>\n",
       "      <td>positive</td>\n",
       "      <td>absolutely wonderful silky sexy comfortable</td>\n",
       "    </tr>\n",
       "    <tr>\n",
       "      <th>1</th>\n",
       "      <td>positive</td>\n",
       "      <td>love dress sooo pretty happened find store gla...</td>\n",
       "    </tr>\n",
       "    <tr>\n",
       "      <th>2</th>\n",
       "      <td>neutral</td>\n",
       "      <td>high hopes dress really wanted work initially ...</td>\n",
       "    </tr>\n",
       "    <tr>\n",
       "      <th>3</th>\n",
       "      <td>positive</td>\n",
       "      <td>love love love jumpsuit fun flirty fabulous ev...</td>\n",
       "    </tr>\n",
       "    <tr>\n",
       "      <th>4</th>\n",
       "      <td>positive</td>\n",
       "      <td>shirt flattering due adjustable front tie perf...</td>\n",
       "    </tr>\n",
       "  </tbody>\n",
       "</table>\n",
       "</div>"
      ],
      "text/plain": [
       "      Rating                                        Review_Text\n",
       "ID                                                             \n",
       "0   positive        absolutely wonderful silky sexy comfortable\n",
       "1   positive  love dress sooo pretty happened find store gla...\n",
       "2    neutral  high hopes dress really wanted work initially ...\n",
       "3   positive  love love love jumpsuit fun flirty fabulous ev...\n",
       "4   positive  shirt flattering due adjustable front tie perf..."
      ]
     },
     "execution_count": 97,
     "metadata": {
      "tags": []
     },
     "output_type": "execute_result"
    }
   ],
   "source": [
    "df_benchmark.head()"
   ]
  },
  {
   "cell_type": "code",
   "execution_count": 195,
   "metadata": {
    "colab": {
     "base_uri": "https://localhost:8080/"
    },
    "executionInfo": {
     "elapsed": 555,
     "status": "ok",
     "timestamp": 1610886114655,
     "user": {
      "displayName": "Claudia Słaboń",
      "photoUrl": "",
      "userId": "11186854387326052161"
     },
     "user_tz": -60
    },
    "id": "uGX8L3oObODR",
    "outputId": "6373a603-2625-49f7-c0ee-b614fc46ea31"
   },
   "outputs": [
    {
     "name": "stdout",
     "output_type": "stream",
     "text": [
      "(16980, 2) (16980,) (5661, 2) (5661,)\n"
     ]
    }
   ],
   "source": [
    "X_train_b, X_test_b, Y_train_b, Y_test_b = train_test_split(df_benchmark, df_benchmark.Rating, test_size=0.25, random_state=0)\n",
    "print(X_train_b.shape, Y_train_b.shape, X_test_b.shape, Y_test_b.shape)"
   ]
  },
  {
   "cell_type": "code",
   "execution_count": 196,
   "metadata": {
    "executionInfo": {
     "elapsed": 852,
     "status": "ok",
     "timestamp": 1610886116852,
     "user": {
      "displayName": "Claudia Słaboń",
      "photoUrl": "",
      "userId": "11186854387326052161"
     },
     "user_tz": -60
    },
    "id": "hqZ25gfNbODS"
   },
   "outputs": [],
   "source": [
    "vectorizer = CountVectorizer()\n",
    "X_train_b = vectorizer.fit_transform(X_train_b[\"Review_Text\"])\n",
    "X_test_b = vectorizer.transform(X_test_b[\"Review_Text\"])"
   ]
  },
  {
   "cell_type": "code",
   "execution_count": 197,
   "metadata": {
    "executionInfo": {
     "elapsed": 626,
     "status": "ok",
     "timestamp": 1610886118027,
     "user": {
      "displayName": "Claudia Słaboń",
      "photoUrl": "",
      "userId": "11186854387326052161"
     },
     "user_tz": -60
    },
    "id": "skbrm1SEbODS"
   },
   "outputs": [],
   "source": [
    "mnb = MultinomialNB()\n",
    "mnb.fit(X_train_b,Y_train_b)\n",
    "mnb_pred = mnb.predict(X_test_b)"
   ]
  },
  {
   "cell_type": "code",
   "execution_count": 198,
   "metadata": {
    "colab": {
     "base_uri": "https://localhost:8080/"
    },
    "executionInfo": {
     "elapsed": 616,
     "status": "ok",
     "timestamp": 1610886119913,
     "user": {
      "displayName": "Claudia Słaboń",
      "photoUrl": "",
      "userId": "11186854387326052161"
     },
     "user_tz": -60
    },
    "id": "k_Uys0ClbODS",
    "outputId": "2a6c01c0-27ab-47f7-b9fa-6b17f2e7e88e"
   },
   "outputs": [
    {
     "name": "stdout",
     "output_type": "stream",
     "text": [
      "Accuracy of the model is equal to: 0.806\n"
     ]
    }
   ],
   "source": [
    "from sklearn.metrics import accuracy_score\n",
    "ac = accuracy_score(Y_test_b, mnb_pred)\n",
    "print(\"Accuracy of the model is equal to:\",ac.round(3))"
   ]
  },
  {
   "cell_type": "code",
   "execution_count": 213,
   "metadata": {
    "colab": {
     "base_uri": "https://localhost:8080/",
     "height": 313
    },
    "executionInfo": {
     "elapsed": 1027,
     "status": "ok",
     "timestamp": 1610886848365,
     "user": {
      "displayName": "Claudia Słaboń",
      "photoUrl": "",
      "userId": "11186854387326052161"
     },
     "user_tz": -60
    },
    "id": "dm0xKZF8bODS",
    "outputId": "045af4b7-5abf-4f60-ac12-5a7960bfa51e"
   },
   "outputs": [
    {
     "name": "stdout",
     "output_type": "stream",
     "text": [
      "[106 244 407]\n"
     ]
    },
    {
     "data": {
      "text/plain": [
       "<sklearn.metrics._plot.confusion_matrix.ConfusionMatrixDisplay at 0x7fda9df65c18>"
      ]
     },
     "execution_count": 213,
     "metadata": {
      "tags": []
     },
     "output_type": "execute_result"
    },
    {
     "data": {
      "image/png": "[encoded data removed]",
      "text/plain": [
       "<Figure size 432x288 with 2 Axes>"
      ]
     },
     "metadata": {
      "needs_background": "light",
      "tags": []
     },
     "output_type": "display_data"
    }
   ],
   "source": [
    "cm = confusion_matrix(Y_test_b, mnb_pred)\n",
    "from sklearn.metrics import ConfusionMatrixDisplay, plot_confusion_matrix\n",
    "print(cm)\n",
    "plot_confusion_matrix(mnb, X_test_b, Y_test_b, values_format = '') \n",
    "#cm_display = ConfusionMatrixDisplay(cm).plot(cmap='viridis')"
   ]
  },
  {
   "cell_type": "markdown",
   "metadata": {
    "id": "q1tBr9PGbODT"
   },
   "source": [
    "# Tokenization"
   ]
  },
  {
   "cell_type": "code",
   "execution_count": 103,
   "metadata": {
    "executionInfo": {
     "elapsed": 15991,
     "status": "ok",
     "timestamp": 1610882655393,
     "user": {
      "displayName": "Claudia Słaboń",
      "photoUrl": "",
      "userId": "11186854387326052161"
     },
     "user_tz": -60
    },
    "id": "V2Kr2HWgbODT"
   },
   "outputs": [],
   "source": [
    "tokenizer = Tokenizer(num_words = 5000)\n",
    "tokenizer.fit_on_texts(list(df['Review_Text']))\n",
    "seq = tokenizer.texts_to_sequences(df['Review_Text']) #takes each word in the text and replaces it with its corresponding integer value from the word_index dictionary\n",
    "word_index=tokenizer.word_index #the most frequent word = index 1"
   ]
  },
  {
   "cell_type": "code",
   "execution_count": 104,
   "metadata": {
    "colab": {
     "base_uri": "https://localhost:8080/"
    },
    "executionInfo": {
     "elapsed": 15985,
     "status": "ok",
     "timestamp": 1610882655396,
     "user": {
      "displayName": "Claudia Słaboń",
      "photoUrl": "",
      "userId": "11186854387326052161"
     },
     "user_tz": -60
    },
    "id": "-QU4PUrebODT",
    "outputId": "c45ad343-d686-412a-f34e-f87abb56a7a9"
   },
   "outputs": [
    {
     "name": "stdout",
     "output_type": "stream",
     "text": [
      "The longest cleaned review consists of 58 words.\n",
      "The shortest cleaned review consists of 2 words.\n",
      "The average number of words used in clean review equals 28\n"
     ]
    }
   ],
   "source": [
    "longest = 0\n",
    "for s in seq:\n",
    "    longer=len(s)\n",
    "    if longer>longest:\n",
    "        longest=longer\n",
    "print(\"The longest cleaned review consists of\",longest,\"words.\")\n",
    "\n",
    "shortest = 20\n",
    "for s in seq:\n",
    "    shorter=len(s)\n",
    "    if shorter<shortest:\n",
    "        shortest=shorter\n",
    "print(\"The shortest cleaned review consists of\",shortest,\"words.\")\n",
    "\n",
    "word_numbers = []\n",
    "for s in seq:\n",
    "    l=len(s)\n",
    "    word_numbers.append(l)\n",
    "avg_word = round(sum(word_numbers)/len(word_numbers))\n",
    "print(\"The average number of words used in clean review equals\",avg_word)"
   ]
  },
  {
   "cell_type": "markdown",
   "metadata": {
    "id": "_MKmiQsWbODU"
   },
   "source": [
    "# Padding\n",
    "<br> creating matrix n x 50"
   ]
  },
  {
   "cell_type": "code",
   "execution_count": 105,
   "metadata": {
    "executionInfo": {
     "elapsed": 15985,
     "status": "ok",
     "timestamp": 1610882655397,
     "user": {
      "displayName": "Claudia Słaboń",
      "photoUrl": "",
      "userId": "11186854387326052161"
     },
     "user_tz": -60
    },
    "id": "KTlSLLWJbODU"
   },
   "outputs": [],
   "source": [
    "df_model = pad_sequences(seq, maxlen=50)"
   ]
  },
  {
   "cell_type": "markdown",
   "metadata": {},
   "source": [
    "# Creating an embedding matrix"
   ]
  },
  {
   "cell_type": "code",
   "execution_count": 107,
   "metadata": {
    "executionInfo": {
     "elapsed": 16363,
     "status": "ok",
     "timestamp": 1610882655787,
     "user": {
      "displayName": "Claudia Słaboń",
      "photoUrl": "",
      "userId": "11186854387326052161"
     },
     "user_tz": -60
    },
    "id": "fiadVyGTbODU"
   },
   "outputs": [],
   "source": [
    "embeddings_dict = {}\n",
    "def emb_matrix(emb_file, word_index, num_words, embedding_dim):\n",
    "    with open(emb_file, encoding = 'utf-8') as f:\n",
    "        for line in f:\n",
    "            values = line.split()\n",
    "            word = values[0]\n",
    "            vector = np.asarray(values[1:], \"float32\")\n",
    "            embeddings_dict[word] = vector\n",
    "#        file.close()\n",
    "    \n",
    "        embedding_matrix = np.zeros((num_words, embedding_dim))\n",
    "        for word, pos in word_index.items():\n",
    "            if pos >=num_words:\n",
    "                continue\n",
    "            embedding_vector = embeddings_dict.get(word)\n",
    "            if embedding_vector is not None:\n",
    "                embedding_matrix[pos] = embedding_vector\n",
    "        return embedding_matrix"
   ]
  },
  {
   "cell_type": "markdown",
   "metadata": {},
   "source": [
    "GloVe"
   ]
  },
  {
   "cell_type": "code",
   "execution_count": 108,
   "metadata": {
    "executionInfo": {
     "elapsed": 21462,
     "status": "ok",
     "timestamp": 1610882660887,
     "user": {
      "displayName": "Claudia Słaboń",
      "photoUrl": "",
      "userId": "11186854387326052161"
     },
     "user_tz": -60
    },
    "id": "Lm8MhS3vbODV"
   },
   "outputs": [],
   "source": [
    "emb_matrixx = emb_matrix(\"gdrive/My Drive/glove.6B.50d.txt\", word_index, len(word_index), 50)"
   ]
  },
  {
   "cell_type": "code",
   "execution_count": 109,
   "metadata": {
    "executionInfo": {
     "elapsed": 21463,
     "status": "ok",
     "timestamp": 1610882660890,
     "user": {
      "displayName": "Claudia Słaboń",
      "photoUrl": "",
      "userId": "11186854387326052161"
     },
     "user_tz": -60
    },
    "id": "mXs1T9aTbODV"
   },
   "outputs": [],
   "source": [
    "df_m['Review_Text'] = df_m['Review_Text'].apply(lambda x: x[0])"
   ]
  },
  {
   "cell_type": "code",
   "execution_count": 110,
   "metadata": {
    "colab": {
     "base_uri": "https://localhost:8080/"
    },
    "executionInfo": {
     "elapsed": 21454,
     "status": "ok",
     "timestamp": 1610882660890,
     "user": {
      "displayName": "Claudia Słaboń",
      "photoUrl": "",
      "userId": "11186854387326052161"
     },
     "user_tz": -60
    },
    "id": "9Aodoi-zbODW",
    "outputId": "5bcbb24d-a903-405c-afaf-c2fbda50d84a"
   },
   "outputs": [
    {
     "data": {
      "text/plain": [
       "ID\n",
       "0        [absolutely, wonderful, silky, sexy, comfortable]\n",
       "1        [love, dress, sooo, pretty, happened, find, st...\n",
       "2        [high, hopes, dress, really, wanted, work, ini...\n",
       "3        [love, love, love, jumpsuit, fun, flirty, fabu...\n",
       "4        [shirt, flattering, due, adjustable, front, ti...\n",
       "                               ...                        \n",
       "23481    [happy, snag, dress, great, price, easy, slip,...\n",
       "23482    [reminds, maternity, clothes, soft, stretchy, ...\n",
       "23483    [fit, well, top, see, never, would, worked, gl...\n",
       "23484    [bought, dress, wedding, summer, cute, unfortu...\n",
       "23485    [dress, lovely, platinum, feminine, fits, perf...\n",
       "Name: Review_Text, Length: 22641, dtype: object"
      ]
     },
     "execution_count": 110,
     "metadata": {
      "tags": []
     },
     "output_type": "execute_result"
    }
   ],
   "source": [
    "df_m['Review_Text']"
   ]
  },
  {
   "cell_type": "markdown",
   "metadata": {},
   "source": [
    "Word2Vec"
   ]
  },
  {
   "cell_type": "code",
   "execution_count": 111,
   "metadata": {
    "executionInfo": {
     "elapsed": 21454,
     "status": "ok",
     "timestamp": 1610882660891,
     "user": {
      "displayName": "Claudia Słaboń",
      "photoUrl": "",
      "userId": "11186854387326052161"
     },
     "user_tz": -60
    },
    "id": "FqoMst_zmGHB"
   },
   "outputs": [],
   "source": [
    "from gensim.models import Word2Vec"
   ]
  },
  {
   "cell_type": "code",
   "execution_count": 112,
   "metadata": {
    "executionInfo": {
     "elapsed": 31243,
     "status": "ok",
     "timestamp": 1610882670682,
     "user": {
      "displayName": "Claudia Słaboń",
      "photoUrl": "",
      "userId": "11186854387326052161"
     },
     "user_tz": -60
    },
    "id": "xaC6Q0JEbODW"
   },
   "outputs": [],
   "source": [
    "model_word = Word2Vec(df_m['Review_Text'],\n",
    "                     iter=10,\n",
    "                     size=50,\n",
    "                     window=5,\n",
    "                     min_count=5,\n",
    "                     workers=10,\n",
    "                     sg=0)"
   ]
  },
  {
   "cell_type": "code",
   "execution_count": 113,
   "metadata": {
    "colab": {
     "base_uri": "https://localhost:8080/"
    },
    "executionInfo": {
     "elapsed": 31236,
     "status": "ok",
     "timestamp": 1610882670684,
     "user": {
      "displayName": "Claudia Słaboń",
      "photoUrl": "",
      "userId": "11186854387326052161"
     },
     "user_tz": -60
    },
    "id": "aZFBdB2ubODW",
    "outputId": "e602cd6a-fbde-49be-df12-6a6fae9bef34"
   },
   "outputs": [
    {
     "data": {
      "text/plain": [
       "[('disappointing', 0.7198618650436401),\n",
       " ('awful', 0.7071894407272339),\n",
       " ('iseemed', 0.681943953037262),\n",
       " ('terrible', 0.6738508343696594),\n",
       " ('sadly', 0.6671820282936096),\n",
       " ('unflattering', 0.6316266059875488),\n",
       " ('strange', 0.6170933842658997),\n",
       " ('blah', 0.6166658401489258),\n",
       " ('poor', 0.6064687967300415),\n",
       " ('okay', 0.6013490557670593)]"
      ]
     },
     "execution_count": 113,
     "metadata": {
      "tags": []
     },
     "output_type": "execute_result"
    }
   ],
   "source": [
    "model_word.wv.most_similar('bad')"
   ]
  },
  {
   "cell_type": "code",
   "execution_count": 114,
   "metadata": {
    "executionInfo": {
     "elapsed": 31684,
     "status": "ok",
     "timestamp": 1610882671135,
     "user": {
      "displayName": "Claudia Słaboń",
      "photoUrl": "",
      "userId": "11186854387326052161"
     },
     "user_tz": -60
    },
    "id": "wxbAdlAKbODX"
   },
   "outputs": [],
   "source": [
    "model_word.wv.save_word2vec_format('word2.txt', binary=False)"
   ]
  },
  {
   "cell_type": "code",
   "execution_count": 115,
   "metadata": {
    "executionInfo": {
     "elapsed": 31683,
     "status": "ok",
     "timestamp": 1610882671136,
     "user": {
      "displayName": "Claudia Słaboń",
      "photoUrl": "",
      "userId": "11186854387326052161"
     },
     "user_tz": -60
    },
    "id": "0DvCua3tbODX"
   },
   "outputs": [],
   "source": [
    "emb_matrixx2 = emb_matrix(\"word2.txt\", word_index, len(word_index), 50)"
   ]
  },
  {
   "cell_type": "code",
   "execution_count": 116,
   "metadata": {
    "colab": {
     "base_uri": "https://localhost:8080/"
    },
    "executionInfo": {
     "elapsed": 31675,
     "status": "ok",
     "timestamp": 1610882671137,
     "user": {
      "displayName": "Claudia Słaboń",
      "photoUrl": "",
      "userId": "11186854387326052161"
     },
     "user_tz": -60
    },
    "id": "ovUVKRsObODX",
    "outputId": "d6bae61a-36a7-4951-ed2a-6ab4129336f9"
   },
   "outputs": [
    {
     "name": "stdout",
     "output_type": "stream",
     "text": [
      "There is 13729 words. \n",
      "This number will be an input for embedding layer\n"
     ]
    }
   ],
   "source": [
    "print(\"There is\",len(word_index),\"words. \\nThis number will be an input for embedding layer\")"
   ]
  },
  {
   "cell_type": "code",
   "execution_count": 117,
   "metadata": {
    "colab": {
     "base_uri": "https://localhost:8080/"
    },
    "executionInfo": {
     "elapsed": 31667,
     "status": "ok",
     "timestamp": 1610882671138,
     "user": {
      "displayName": "Claudia Słaboń",
      "photoUrl": "",
      "userId": "11186854387326052161"
     },
     "user_tz": -60
    },
    "id": "WPOgLHZpbODX",
    "outputId": "d4a26729-b263-4044-f4a3-6dc6d22cee67"
   },
   "outputs": [
    {
     "data": {
      "text/plain": [
       "array([[-0.77318001,  0.34386   , -1.94140005, -0.77677   ,  0.79316002,\n",
       "         0.20095   , -0.15133999, -0.81111997, -0.62295997, -0.86132002,\n",
       "         0.084821  , -0.2078    ,  0.29567   ,  0.32460001,  0.27000999,\n",
       "         0.43369001, -0.98171002, -0.43156999,  0.54171997, -1.53460002,\n",
       "        -0.030456  ,  0.58648002, -0.095475  ,  0.045125  , -0.8933    ,\n",
       "        -1.06340003, -1.50989997,  1.03079998,  0.39989999, -1.11839998,\n",
       "         1.84949994,  0.91908997, -0.51056999,  0.34020999,  0.23894   ,\n",
       "         0.47147   ,  0.077344  ,  0.46934   , -1.12989998, -0.32453999,\n",
       "         0.20254   ,  0.48451   ,  0.46428001, -0.090925  ,  0.44786999,\n",
       "        -0.98458999,  0.45304   , -1.26730001, -0.30428001,  0.26306   ]])"
      ]
     },
     "execution_count": 117,
     "metadata": {
      "tags": []
     },
     "output_type": "execute_result"
    }
   ],
   "source": [
    "emb_matrixx[[1]]"
   ]
  },
  {
   "cell_type": "code",
   "execution_count": 118,
   "metadata": {
    "colab": {
     "base_uri": "https://localhost:8080/"
    },
    "executionInfo": {
     "elapsed": 31659,
     "status": "ok",
     "timestamp": 1610882671139,
     "user": {
      "displayName": "Claudia Słaboń",
      "photoUrl": "",
      "userId": "11186854387326052161"
     },
     "user_tz": -60
    },
    "id": "v_pTcri8bODY",
    "outputId": "76c35474-a197-4bd0-85fb-10ae34b28079"
   },
   "outputs": [
    {
     "data": {
      "text/plain": [
       "13729"
      ]
     },
     "execution_count": 118,
     "metadata": {
      "tags": []
     },
     "output_type": "execute_result"
    }
   ],
   "source": [
    "len(emb_matrixx)"
   ]
  },
  {
   "cell_type": "code",
   "execution_count": 119,
   "metadata": {
    "colab": {
     "base_uri": "https://localhost:8080/"
    },
    "executionInfo": {
     "elapsed": 31651,
     "status": "ok",
     "timestamp": 1610882671140,
     "user": {
      "displayName": "Claudia Słaboń",
      "photoUrl": "",
      "userId": "11186854387326052161"
     },
     "user_tz": -60
    },
    "id": "OTMKT7E_bODY",
    "outputId": "645852ee-d70d-49b3-88a2-d033b9e1a013"
   },
   "outputs": [
    {
     "data": {
      "text/plain": [
       "array([[ 0.03615383, -0.06034041,  1.90543628,  0.80344868, -1.49994504,\n",
       "        -1.47552383, -0.9893412 ,  0.22872414, -0.53156668,  0.33182359,\n",
       "        -0.2032539 ,  0.51070911,  0.96528399,  1.38853467, -0.67531073,\n",
       "         0.83604527, -0.71373242,  0.17841895, -0.70733583, -0.49449685,\n",
       "         0.0527274 ,  0.35156357,  0.60132909,  0.74759346, -1.52499342,\n",
       "        -0.32004318, -0.12511304, -0.70798141, -1.79803741,  0.18241739,\n",
       "        -1.0085187 , -0.13030457,  0.74845964,  1.47533691,  0.16160335,\n",
       "         0.00876435,  1.11051583, -0.03325938,  0.97291929,  0.39763471,\n",
       "        -0.77331948, -1.2632153 ,  2.41282105, -0.51752973, -1.458444  ,\n",
       "         0.37558019,  0.11157999,  0.54975426,  1.73517084, -0.31941971]])"
      ]
     },
     "execution_count": 119,
     "metadata": {
      "tags": []
     },
     "output_type": "execute_result"
    }
   ],
   "source": [
    "emb_matrixx2[[1]]"
   ]
  },
  {
   "cell_type": "code",
   "execution_count": 120,
   "metadata": {
    "colab": {
     "base_uri": "https://localhost:8080/",
     "height": 431
    },
    "executionInfo": {
     "elapsed": 31641,
     "status": "ok",
     "timestamp": 1610882671140,
     "user": {
      "displayName": "Claudia Słaboń",
      "photoUrl": "",
      "userId": "11186854387326052161"
     },
     "user_tz": -60
    },
    "id": "OvxDCGXFbODY",
    "outputId": "038693a1-7f35-446c-a44e-760be4164d4d"
   },
   "outputs": [
    {
     "data": {
      "text/html": [
       "<div>\n",
       "<style scoped>\n",
       "    .dataframe tbody tr th:only-of-type {\n",
       "        vertical-align: middle;\n",
       "    }\n",
       "\n",
       "    .dataframe tbody tr th {\n",
       "        vertical-align: top;\n",
       "    }\n",
       "\n",
       "    .dataframe thead th {\n",
       "        text-align: right;\n",
       "    }\n",
       "</style>\n",
       "<table border=\"1\" class=\"dataframe\">\n",
       "  <thead>\n",
       "    <tr style=\"text-align: right;\">\n",
       "      <th></th>\n",
       "      <th>negative</th>\n",
       "      <th>neutral</th>\n",
       "      <th>positive</th>\n",
       "    </tr>\n",
       "    <tr>\n",
       "      <th>ID</th>\n",
       "      <th></th>\n",
       "      <th></th>\n",
       "      <th></th>\n",
       "    </tr>\n",
       "  </thead>\n",
       "  <tbody>\n",
       "    <tr>\n",
       "      <th>0</th>\n",
       "      <td>0</td>\n",
       "      <td>0</td>\n",
       "      <td>1</td>\n",
       "    </tr>\n",
       "    <tr>\n",
       "      <th>1</th>\n",
       "      <td>0</td>\n",
       "      <td>0</td>\n",
       "      <td>1</td>\n",
       "    </tr>\n",
       "    <tr>\n",
       "      <th>2</th>\n",
       "      <td>0</td>\n",
       "      <td>1</td>\n",
       "      <td>0</td>\n",
       "    </tr>\n",
       "    <tr>\n",
       "      <th>3</th>\n",
       "      <td>0</td>\n",
       "      <td>0</td>\n",
       "      <td>1</td>\n",
       "    </tr>\n",
       "    <tr>\n",
       "      <th>4</th>\n",
       "      <td>0</td>\n",
       "      <td>0</td>\n",
       "      <td>1</td>\n",
       "    </tr>\n",
       "    <tr>\n",
       "      <th>...</th>\n",
       "      <td>...</td>\n",
       "      <td>...</td>\n",
       "      <td>...</td>\n",
       "    </tr>\n",
       "    <tr>\n",
       "      <th>23481</th>\n",
       "      <td>0</td>\n",
       "      <td>0</td>\n",
       "      <td>1</td>\n",
       "    </tr>\n",
       "    <tr>\n",
       "      <th>23482</th>\n",
       "      <td>0</td>\n",
       "      <td>1</td>\n",
       "      <td>0</td>\n",
       "    </tr>\n",
       "    <tr>\n",
       "      <th>23483</th>\n",
       "      <td>0</td>\n",
       "      <td>1</td>\n",
       "      <td>0</td>\n",
       "    </tr>\n",
       "    <tr>\n",
       "      <th>23484</th>\n",
       "      <td>0</td>\n",
       "      <td>1</td>\n",
       "      <td>0</td>\n",
       "    </tr>\n",
       "    <tr>\n",
       "      <th>23485</th>\n",
       "      <td>0</td>\n",
       "      <td>0</td>\n",
       "      <td>1</td>\n",
       "    </tr>\n",
       "  </tbody>\n",
       "</table>\n",
       "<p>22641 rows × 3 columns</p>\n",
       "</div>"
      ],
      "text/plain": [
       "       negative  neutral  positive\n",
       "ID                                \n",
       "0             0        0         1\n",
       "1             0        0         1\n",
       "2             0        1         0\n",
       "3             0        0         1\n",
       "4             0        0         1\n",
       "...         ...      ...       ...\n",
       "23481         0        0         1\n",
       "23482         0        1         0\n",
       "23483         0        1         0\n",
       "23484         0        1         0\n",
       "23485         0        0         1\n",
       "\n",
       "[22641 rows x 3 columns]"
      ]
     },
     "execution_count": 120,
     "metadata": {
      "tags": []
     },
     "output_type": "execute_result"
    }
   ],
   "source": [
    "pd.get_dummies(df.Rating)"
   ]
  },
  {
   "cell_type": "markdown",
   "metadata": {
    "id": "EWY3u-VAbODY"
   },
   "source": [
    "# Building an LSTM models\n",
    "Train/test split"
   ]
  },
  {
   "cell_type": "code",
   "execution_count": 174,
   "metadata": {
    "colab": {
     "base_uri": "https://localhost:8080/"
    },
    "executionInfo": {
     "elapsed": 674,
     "status": "ok",
     "timestamp": 1610885148851,
     "user": {
      "displayName": "Claudia Słaboń",
      "photoUrl": "",
      "userId": "11186854387326052161"
     },
     "user_tz": -60
    },
    "id": "8FJd8jPQbODZ",
    "outputId": "ed051c65-7c40-4d34-82a7-803947abf912"
   },
   "outputs": [
    {
     "name": "stdout",
     "output_type": "stream",
     "text": [
      "(16980, 50) (16980,) (5661, 50) (5661,)\n"
     ]
    }
   ],
   "source": [
    "X_train, X_test, Y_train, Y_test = train_test_split(df_model, df.Rating, test_size=0.25, random_state=200)\n",
    "Y_test_m = Y_test.copy()\n",
    "print(X_train.shape, Y_train.shape, X_test.shape, Y_test.shape)"
   ]
  },
  {
   "cell_type": "markdown",
   "metadata": {
    "id": "0RIlxJKdnGxg"
   },
   "source": [
    "LSTM models using GloVe and Word2Vec"
   ]
  },
  {
   "cell_type": "code",
   "execution_count": 175,
   "metadata": {
    "executionInfo": {
     "elapsed": 622,
     "status": "ok",
     "timestamp": 1610885150692,
     "user": {
      "displayName": "Claudia Słaboń",
      "photoUrl": "",
      "userId": "11186854387326052161"
     },
     "user_tz": -60
    },
    "id": "N7szb58BbODZ"
   },
   "outputs": [],
   "source": [
    "from keras.models import Sequential\n",
    "from keras.layers import Dense, Dropout, BatchNormalization, Embedding, Flatten, LSTM\n",
    "from keras.callbacks import EarlyStopping, History\n",
    "from keras.optimizers import Adam"
   ]
  },
  {
   "cell_type": "code",
   "execution_count": 176,
   "metadata": {
    "executionInfo": {
     "elapsed": 966,
     "status": "ok",
     "timestamp": 1610885153871,
     "user": {
      "displayName": "Claudia Słaboń",
      "photoUrl": "",
      "userId": "11186854387326052161"
     },
     "user_tz": -60
    },
    "id": "1G2jaU_EbODZ"
   },
   "outputs": [],
   "source": [
    "def build_model(layers, dropout_m, emb_method):\n",
    "    model = Sequential()\n",
    "    if emb_method == 'GloVe':\n",
    "        e = Embedding(len(word_index), 50, weights=[emb_matrixx], input_length=50, trainable=False)\n",
    "    else:\n",
    "        e = Embedding(len(word_index), 50, weights=[emb_matrixx2], input_length=50, trainable=False)\n",
    "    model.add(e)\n",
    "    if layers == 1:\n",
    "        model.add(LSTM(100))\n",
    "        model.add(Dense(16, activation = 'relu'))\n",
    "        model.add(Dropout(dropout_m))\n",
    "        model.add(Dense(3, activation = 'softmax'))\n",
    "    elif layers == 2:\n",
    "        model.add(LSTM(100))\n",
    "        model.add(Dense(32, activation = 'relu'))\n",
    "        model.add(Dropout(dropout_m))\n",
    "        model.add(Dense(16, activation = 'relu'))\n",
    "        model.add(Dropout(dropout_m))\n",
    "        model.add(Dense(3, activation = 'softmax'))    \n",
    "    else:     \n",
    "        model.add(LSTM(100))\n",
    "        model.add(Dense(64, activation = 'relu'))\n",
    "        model.add(Dropout(dropout_m))\n",
    "        model.add(Dense(32, activation = 'relu'))\n",
    "        model.add(Dropout(dropout_m))\n",
    "        model.add(Dense(16, activation = 'relu'))\n",
    "        model.add(Dropout(dropout_m))\n",
    "        model.add(Dense(3, activation = 'softmax')) \n",
    "    return model"
   ]
  },
  {
   "cell_type": "code",
   "execution_count": 177,
   "metadata": {
    "executionInfo": {
     "elapsed": 649,
     "status": "ok",
     "timestamp": 1610885156427,
     "user": {
      "displayName": "Claudia Słaboń",
      "photoUrl": "",
      "userId": "11186854387326052161"
     },
     "user_tz": -60
    },
    "id": "MC9nPPhcJM1H"
   },
   "outputs": [],
   "source": [
    "import gc\n"
   ]
  },
  {
   "cell_type": "code",
   "execution_count": 178,
   "metadata": {
    "executionInfo": {
     "elapsed": 701,
     "status": "ok",
     "timestamp": 1610885158100,
     "user": {
      "displayName": "Claudia Słaboń",
      "photoUrl": "",
      "userId": "11186854387326052161"
     },
     "user_tz": -60
    },
    "id": "TWdbFOToSvur"
   },
   "outputs": [],
   "source": [
    "Y_train_copy = Y_train.copy()\n",
    "Y_train = pd.get_dummies(Y_train)\n",
    "Y_test = pd.get_dummies(Y_test)\n",
    "X_train_m, X_val, Y_train_m, Y_val = train_test_split(X_train, Y_train, test_size=0.2, random_state=0)"
   ]
  },
  {
   "cell_type": "code",
   "execution_count": 126,
   "metadata": {
    "colab": {
     "base_uri": "https://localhost:8080/"
    },
    "executionInfo": {
     "elapsed": 31622,
     "status": "ok",
     "timestamp": 1610882671147,
     "user": {
      "displayName": "Claudia Słaboń",
      "photoUrl": "",
      "userId": "11186854387326052161"
     },
     "user_tz": -60
    },
    "id": "yTK_eVE2FO_s",
    "outputId": "32a01be2-cda4-4e75-bac2-b6a80c589b4c"
   },
   "outputs": [
    {
     "data": {
      "text/plain": [
       "14489"
      ]
     },
     "execution_count": 126,
     "metadata": {
      "tags": []
     },
     "output_type": "execute_result"
    }
   ],
   "source": [
    "len(X_train_m)"
   ]
  },
  {
   "cell_type": "code",
   "execution_count": 179,
   "metadata": {
    "colab": {
     "base_uri": "https://localhost:8080/"
    },
    "executionInfo": {
     "elapsed": 248963,
     "status": "ok",
     "timestamp": 1610885414758,
     "user": {
      "displayName": "Claudia Słaboń",
      "photoUrl": "",
      "userId": "11186854387326052161"
     },
     "user_tz": -60
    },
    "id": "miVei__XbODa",
    "outputId": "7a07a047-b093-4acc-928c-77d2f2e8decd"
   },
   "outputs": [
    {
     "name": "stdout",
     "output_type": "stream",
     "text": [
      "Epoch 1/25\n",
      "60/60 [==============================] - 2s 17ms/step - loss: 0.7665 - accuracy: 0.7070 - val_loss: 0.6077 - val_accuracy: 0.7621\n",
      "Epoch 2/25\n",
      "60/60 [==============================] - 1s 9ms/step - loss: 0.5875 - accuracy: 0.7765 - val_loss: 0.5720 - val_accuracy: 0.7774\n",
      "Epoch 3/25\n",
      "60/60 [==============================] - 1s 9ms/step - loss: 0.5529 - accuracy: 0.7835 - val_loss: 0.5254 - val_accuracy: 0.7912\n",
      "Epoch 4/25\n",
      "60/60 [==============================] - 1s 9ms/step - loss: 0.5018 - accuracy: 0.7980 - val_loss: 0.5062 - val_accuracy: 0.8042\n",
      "Epoch 5/25\n",
      "60/60 [==============================] - 1s 9ms/step - loss: 0.4689 - accuracy: 0.8065 - val_loss: 0.4980 - val_accuracy: 0.8027\n",
      "Epoch 6/25\n",
      "60/60 [==============================] - 1s 9ms/step - loss: 0.4352 - accuracy: 0.8163 - val_loss: 0.4998 - val_accuracy: 0.7986\n",
      "Epoch 7/25\n",
      "60/60 [==============================] - 1s 9ms/step - loss: 0.4052 - accuracy: 0.8253 - val_loss: 0.5120 - val_accuracy: 0.7874\n",
      "Epoch 1/25\n",
      "60/60 [==============================] - 2s 16ms/step - loss: 0.7948 - accuracy: 0.7286 - val_loss: 0.6530 - val_accuracy: 0.7624\n",
      "Epoch 2/25\n",
      "60/60 [==============================] - 1s 9ms/step - loss: 0.6419 - accuracy: 0.7714 - val_loss: 0.5982 - val_accuracy: 0.7644\n",
      "Epoch 3/25\n",
      "60/60 [==============================] - 1s 9ms/step - loss: 0.5840 - accuracy: 0.7768 - val_loss: 0.5710 - val_accuracy: 0.7730\n",
      "Epoch 4/25\n",
      "60/60 [==============================] - 1s 9ms/step - loss: 0.5580 - accuracy: 0.7903 - val_loss: 0.5873 - val_accuracy: 0.7792\n",
      "Epoch 5/25\n",
      "60/60 [==============================] - 1s 9ms/step - loss: 0.5372 - accuracy: 0.7911 - val_loss: 0.5619 - val_accuracy: 0.7783\n",
      "Epoch 6/25\n",
      "60/60 [==============================] - 1s 9ms/step - loss: 0.5125 - accuracy: 0.8007 - val_loss: 0.5235 - val_accuracy: 0.7874\n",
      "Epoch 7/25\n",
      "60/60 [==============================] - 1s 9ms/step - loss: 0.5060 - accuracy: 0.8035 - val_loss: 0.5400 - val_accuracy: 0.7839\n",
      "Epoch 8/25\n",
      "60/60 [==============================] - 1s 9ms/step - loss: 0.4957 - accuracy: 0.8063 - val_loss: 0.5093 - val_accuracy: 0.7956\n",
      "Epoch 9/25\n",
      "60/60 [==============================] - 1s 9ms/step - loss: 0.4738 - accuracy: 0.8100 - val_loss: 0.5051 - val_accuracy: 0.7974\n",
      "Epoch 10/25\n",
      "60/60 [==============================] - 1s 9ms/step - loss: 0.4623 - accuracy: 0.8174 - val_loss: 0.4925 - val_accuracy: 0.7936\n",
      "Epoch 11/25\n",
      "60/60 [==============================] - 1s 10ms/step - loss: 0.4369 - accuracy: 0.8251 - val_loss: 0.5168 - val_accuracy: 0.7986\n",
      "Epoch 12/25\n",
      "60/60 [==============================] - 1s 9ms/step - loss: 0.4282 - accuracy: 0.8264 - val_loss: 0.4873 - val_accuracy: 0.7971\n",
      "Epoch 13/25\n",
      "60/60 [==============================] - 1s 9ms/step - loss: 0.4159 - accuracy: 0.8320 - val_loss: 0.5096 - val_accuracy: 0.8024\n",
      "Epoch 14/25\n",
      "60/60 [==============================] - 1s 9ms/step - loss: 0.4116 - accuracy: 0.8309 - val_loss: 0.4981 - val_accuracy: 0.8006\n",
      "Epoch 15/25\n",
      "60/60 [==============================] - 1s 10ms/step - loss: 0.3878 - accuracy: 0.8410 - val_loss: 0.4954 - val_accuracy: 0.7948\n",
      "Epoch 16/25\n",
      "60/60 [==============================] - 1s 9ms/step - loss: 0.3734 - accuracy: 0.8471 - val_loss: 0.5054 - val_accuracy: 0.7986\n",
      "Epoch 1/25\n",
      "60/60 [==============================] - 2s 16ms/step - loss: 0.9898 - accuracy: 0.5622 - val_loss: 0.7251 - val_accuracy: 0.7621\n",
      "Epoch 2/25\n",
      "60/60 [==============================] - 1s 9ms/step - loss: 0.7262 - accuracy: 0.7703 - val_loss: 0.6935 - val_accuracy: 0.7621\n",
      "Epoch 3/25\n",
      "60/60 [==============================] - 1s 9ms/step - loss: 0.7042 - accuracy: 0.7669 - val_loss: 0.6730 - val_accuracy: 0.7621\n",
      "Epoch 4/25\n",
      "60/60 [==============================] - 1s 9ms/step - loss: 0.6673 - accuracy: 0.7739 - val_loss: 0.6446 - val_accuracy: 0.7621\n",
      "Epoch 1/25\n",
      "60/60 [==============================] - 2s 17ms/step - loss: 0.7471 - accuracy: 0.7445 - val_loss: 0.5896 - val_accuracy: 0.7621\n",
      "Epoch 2/25\n",
      "60/60 [==============================] - 1s 9ms/step - loss: 0.5752 - accuracy: 0.7763 - val_loss: 0.5480 - val_accuracy: 0.7794\n",
      "Epoch 3/25\n",
      "60/60 [==============================] - 1s 9ms/step - loss: 0.5043 - accuracy: 0.7953 - val_loss: 0.5043 - val_accuracy: 0.8001\n",
      "Epoch 4/25\n",
      "60/60 [==============================] - 1s 9ms/step - loss: 0.4583 - accuracy: 0.8117 - val_loss: 0.5385 - val_accuracy: 0.7924\n",
      "Epoch 5/25\n",
      "60/60 [==============================] - 1s 9ms/step - loss: 0.4401 - accuracy: 0.8118 - val_loss: 0.5036 - val_accuracy: 0.7977\n",
      "Epoch 6/25\n",
      "60/60 [==============================] - 1s 9ms/step - loss: 0.4164 - accuracy: 0.8261 - val_loss: 0.5167 - val_accuracy: 0.7962\n",
      "Epoch 1/25\n",
      "60/60 [==============================] - 2s 16ms/step - loss: 0.8232 - accuracy: 0.7096 - val_loss: 0.6463 - val_accuracy: 0.7621\n",
      "Epoch 2/25\n",
      "60/60 [==============================] - 1s 9ms/step - loss: 0.6083 - accuracy: 0.7778 - val_loss: 0.6050 - val_accuracy: 0.7618\n",
      "Epoch 3/25\n",
      "60/60 [==============================] - 1s 9ms/step - loss: 0.5792 - accuracy: 0.7792 - val_loss: 0.5843 - val_accuracy: 0.7624\n",
      "Epoch 4/25\n",
      "60/60 [==============================] - 1s 9ms/step - loss: 0.5597 - accuracy: 0.7808 - val_loss: 0.5654 - val_accuracy: 0.7630\n",
      "Epoch 5/25\n",
      "60/60 [==============================] - 1s 10ms/step - loss: 0.5495 - accuracy: 0.7762 - val_loss: 0.5637 - val_accuracy: 0.7800\n",
      "Epoch 6/25\n",
      "60/60 [==============================] - 1s 9ms/step - loss: 0.5519 - accuracy: 0.7801 - val_loss: 0.5455 - val_accuracy: 0.7856\n",
      "Epoch 7/25\n",
      "60/60 [==============================] - 1s 9ms/step - loss: 0.5300 - accuracy: 0.7889 - val_loss: 0.5228 - val_accuracy: 0.7921\n",
      "Epoch 8/25\n",
      "60/60 [==============================] - 1s 9ms/step - loss: 0.5018 - accuracy: 0.8022 - val_loss: 0.5165 - val_accuracy: 0.7880\n",
      "Epoch 9/25\n",
      "60/60 [==============================] - 1s 9ms/step - loss: 0.4903 - accuracy: 0.7985 - val_loss: 0.5081 - val_accuracy: 0.7965\n",
      "Epoch 10/25\n",
      "60/60 [==============================] - 1s 9ms/step - loss: 0.4665 - accuracy: 0.8086 - val_loss: 0.4879 - val_accuracy: 0.7992\n",
      "Epoch 11/25\n",
      "60/60 [==============================] - 1s 9ms/step - loss: 0.4615 - accuracy: 0.8097 - val_loss: 0.4958 - val_accuracy: 0.8009\n",
      "Epoch 12/25\n",
      "60/60 [==============================] - 1s 9ms/step - loss: 0.4558 - accuracy: 0.8141 - val_loss: 0.4999 - val_accuracy: 0.7948\n",
      "Epoch 13/25\n",
      "60/60 [==============================] - 1s 9ms/step - loss: 0.4276 - accuracy: 0.8221 - val_loss: 0.4827 - val_accuracy: 0.7965\n",
      "Epoch 14/25\n",
      "60/60 [==============================] - 1s 9ms/step - loss: 0.4264 - accuracy: 0.8251 - val_loss: 0.4826 - val_accuracy: 0.7959\n",
      "Epoch 1/25\n",
      "60/60 [==============================] - 2s 16ms/step - loss: 1.0759 - accuracy: 0.3454 - val_loss: 0.8889 - val_accuracy: 0.7621\n",
      "Epoch 2/25\n",
      "60/60 [==============================] - 1s 9ms/step - loss: 0.8725 - accuracy: 0.6472 - val_loss: 0.7304 - val_accuracy: 0.7621\n",
      "Epoch 3/25\n",
      "60/60 [==============================] - 1s 9ms/step - loss: 0.7859 - accuracy: 0.7246 - val_loss: 0.7077 - val_accuracy: 0.7621\n",
      "Epoch 4/25\n",
      "60/60 [==============================] - 1s 9ms/step - loss: 0.7682 - accuracy: 0.7212 - val_loss: 0.6933 - val_accuracy: 0.7621\n",
      "Epoch 1/25\n",
      "60/60 [==============================] - 2s 17ms/step - loss: 0.7196 - accuracy: 0.7570 - val_loss: 0.5980 - val_accuracy: 0.7621\n",
      "Epoch 2/25\n",
      "60/60 [==============================] - 1s 9ms/step - loss: 0.5768 - accuracy: 0.7758 - val_loss: 0.5377 - val_accuracy: 0.7868\n",
      "Epoch 3/25\n",
      "60/60 [==============================] - 1s 9ms/step - loss: 0.5269 - accuracy: 0.7846 - val_loss: 0.5294 - val_accuracy: 0.7833\n",
      "Epoch 4/25\n",
      "60/60 [==============================] - 1s 9ms/step - loss: 0.4905 - accuracy: 0.7898 - val_loss: 0.4942 - val_accuracy: 0.8015\n",
      "Epoch 5/25\n",
      "60/60 [==============================] - 1s 9ms/step - loss: 0.4482 - accuracy: 0.8077 - val_loss: 0.4988 - val_accuracy: 0.8104\n",
      "Epoch 6/25\n",
      "60/60 [==============================] - 1s 9ms/step - loss: 0.4183 - accuracy: 0.8247 - val_loss: 0.5066 - val_accuracy: 0.7980\n",
      "Epoch 7/25\n",
      "60/60 [==============================] - 1s 9ms/step - loss: 0.3888 - accuracy: 0.8281 - val_loss: 0.5136 - val_accuracy: 0.8018\n",
      "Epoch 8/25\n",
      "60/60 [==============================] - 1s 9ms/step - loss: 0.3448 - accuracy: 0.8439 - val_loss: 0.5269 - val_accuracy: 0.7906\n",
      "Epoch 1/25\n",
      "60/60 [==============================] - 3s 17ms/step - loss: 0.8235 - accuracy: 0.6835 - val_loss: 0.6321 - val_accuracy: 0.7621\n",
      "Epoch 2/25\n",
      "60/60 [==============================] - 1s 9ms/step - loss: 0.6373 - accuracy: 0.7736 - val_loss: 0.6014 - val_accuracy: 0.7621\n",
      "Epoch 3/25\n",
      "60/60 [==============================] - 1s 9ms/step - loss: 0.5913 - accuracy: 0.7819 - val_loss: 0.5785 - val_accuracy: 0.7627\n",
      "Epoch 4/25\n",
      "60/60 [==============================] - 1s 9ms/step - loss: 0.5810 - accuracy: 0.7759 - val_loss: 0.5681 - val_accuracy: 0.7668\n",
      "Epoch 5/25\n",
      "60/60 [==============================] - 1s 9ms/step - loss: 0.5664 - accuracy: 0.7770 - val_loss: 0.5631 - val_accuracy: 0.7677\n",
      "Epoch 6/25\n",
      "60/60 [==============================] - 1s 9ms/step - loss: 0.5544 - accuracy: 0.7806 - val_loss: 0.5420 - val_accuracy: 0.7806\n",
      "Epoch 7/25\n",
      "60/60 [==============================] - 1s 9ms/step - loss: 0.5478 - accuracy: 0.7844 - val_loss: 0.5370 - val_accuracy: 0.7871\n",
      "Epoch 8/25\n",
      "60/60 [==============================] - 1s 9ms/step - loss: 0.5136 - accuracy: 0.7950 - val_loss: 0.5481 - val_accuracy: 0.7903\n",
      "Epoch 9/25\n",
      "60/60 [==============================] - 1s 9ms/step - loss: 0.5082 - accuracy: 0.7977 - val_loss: 0.5108 - val_accuracy: 0.7962\n",
      "Epoch 10/25\n",
      "60/60 [==============================] - 1s 9ms/step - loss: 0.4799 - accuracy: 0.8046 - val_loss: 0.5064 - val_accuracy: 0.7956\n",
      "Epoch 11/25\n",
      "60/60 [==============================] - 1s 9ms/step - loss: 0.4730 - accuracy: 0.8148 - val_loss: 0.5020 - val_accuracy: 0.7924\n",
      "Epoch 12/25\n",
      "60/60 [==============================] - 1s 9ms/step - loss: 0.4632 - accuracy: 0.8117 - val_loss: 0.5082 - val_accuracy: 0.7889\n",
      "Epoch 1/25\n",
      "60/60 [==============================] - 2s 17ms/step - loss: 0.9804 - accuracy: 0.4958 - val_loss: 0.7034 - val_accuracy: 0.7621\n",
      "Epoch 2/25\n",
      "60/60 [==============================] - 1s 9ms/step - loss: 0.7489 - accuracy: 0.7572 - val_loss: 0.6895 - val_accuracy: 0.7621\n",
      "Epoch 3/25\n",
      "60/60 [==============================] - 1s 10ms/step - loss: 0.7026 - accuracy: 0.7753 - val_loss: 0.6716 - val_accuracy: 0.7621\n",
      "Epoch 4/25\n",
      "60/60 [==============================] - 1s 9ms/step - loss: 0.6903 - accuracy: 0.7726 - val_loss: 0.6467 - val_accuracy: 0.7621\n",
      "Epoch 1/25\n",
      "60/60 [==============================] - 3s 17ms/step - loss: 0.7510 - accuracy: 0.7457 - val_loss: 0.6137 - val_accuracy: 0.7621\n",
      "Epoch 2/25\n",
      "60/60 [==============================] - 1s 10ms/step - loss: 0.6213 - accuracy: 0.7712 - val_loss: 0.5505 - val_accuracy: 0.7750\n",
      "Epoch 3/25\n",
      "60/60 [==============================] - 1s 9ms/step - loss: 0.5454 - accuracy: 0.7798 - val_loss: 0.5188 - val_accuracy: 0.7886\n",
      "Epoch 4/25\n",
      "60/60 [==============================] - 1s 9ms/step - loss: 0.4986 - accuracy: 0.7920 - val_loss: 0.5113 - val_accuracy: 0.7927\n",
      "Epoch 5/25\n",
      "60/60 [==============================] - 1s 10ms/step - loss: 0.4710 - accuracy: 0.8029 - val_loss: 0.5367 - val_accuracy: 0.8065\n",
      "Epoch 6/25\n",
      "60/60 [==============================] - 1s 9ms/step - loss: 0.4348 - accuracy: 0.8147 - val_loss: 0.5117 - val_accuracy: 0.7951\n",
      "Epoch 7/25\n",
      "60/60 [==============================] - 1s 9ms/step - loss: 0.3967 - accuracy: 0.8300 - val_loss: 0.5296 - val_accuracy: 0.8036\n",
      "Epoch 8/25\n",
      "60/60 [==============================] - 1s 9ms/step - loss: 0.3686 - accuracy: 0.8361 - val_loss: 0.5433 - val_accuracy: 0.8004\n",
      "Epoch 1/25\n",
      "60/60 [==============================] - 2s 16ms/step - loss: 0.8035 - accuracy: 0.7104 - val_loss: 0.6291 - val_accuracy: 0.7621\n",
      "Epoch 2/25\n",
      "60/60 [==============================] - 1s 9ms/step - loss: 0.6437 - accuracy: 0.7751 - val_loss: 0.5990 - val_accuracy: 0.7618\n",
      "Epoch 3/25\n",
      "60/60 [==============================] - 1s 9ms/step - loss: 0.6135 - accuracy: 0.7714 - val_loss: 0.6160 - val_accuracy: 0.7624\n",
      "Epoch 4/25\n",
      "60/60 [==============================] - 1s 9ms/step - loss: 0.6116 - accuracy: 0.7673 - val_loss: 0.5726 - val_accuracy: 0.7621\n",
      "Epoch 5/25\n",
      "60/60 [==============================] - 1s 9ms/step - loss: 0.5847 - accuracy: 0.7728 - val_loss: 0.5627 - val_accuracy: 0.7633\n",
      "Epoch 6/25\n",
      "60/60 [==============================] - 1s 9ms/step - loss: 0.5690 - accuracy: 0.7761 - val_loss: 0.5556 - val_accuracy: 0.7724\n",
      "Epoch 7/25\n",
      "60/60 [==============================] - 1s 9ms/step - loss: 0.5444 - accuracy: 0.7839 - val_loss: 0.5282 - val_accuracy: 0.7830\n",
      "Epoch 8/25\n",
      "60/60 [==============================] - 1s 9ms/step - loss: 0.5312 - accuracy: 0.7889 - val_loss: 0.5181 - val_accuracy: 0.7868\n",
      "Epoch 9/25\n",
      "60/60 [==============================] - 1s 9ms/step - loss: 0.5198 - accuracy: 0.7890 - val_loss: 0.5740 - val_accuracy: 0.7839\n",
      "Epoch 10/25\n",
      "60/60 [==============================] - 1s 9ms/step - loss: 0.5187 - accuracy: 0.7873 - val_loss: 0.5184 - val_accuracy: 0.7918\n",
      "Epoch 11/25\n",
      "60/60 [==============================] - 1s 9ms/step - loss: 0.5034 - accuracy: 0.7906 - val_loss: 0.4983 - val_accuracy: 0.8021\n",
      "Epoch 12/25\n",
      "60/60 [==============================] - 1s 9ms/step - loss: 0.4786 - accuracy: 0.8054 - val_loss: 0.4989 - val_accuracy: 0.7989\n",
      "Epoch 13/25\n",
      "60/60 [==============================] - 1s 9ms/step - loss: 0.4662 - accuracy: 0.8033 - val_loss: 0.4930 - val_accuracy: 0.7989\n",
      "Epoch 14/25\n",
      "60/60 [==============================] - 1s 9ms/step - loss: 0.4551 - accuracy: 0.8094 - val_loss: 0.4968 - val_accuracy: 0.7995\n",
      "Epoch 1/25\n",
      "60/60 [==============================] - 2s 16ms/step - loss: 1.0461 - accuracy: 0.4614 - val_loss: 0.7635 - val_accuracy: 0.7621\n",
      "Epoch 2/25\n",
      "60/60 [==============================] - 1s 9ms/step - loss: 0.8048 - accuracy: 0.7157 - val_loss: 0.7160 - val_accuracy: 0.7621\n",
      "Epoch 3/25\n",
      "60/60 [==============================] - 1s 9ms/step - loss: 0.7665 - accuracy: 0.7430 - val_loss: 0.6993 - val_accuracy: 0.7621\n",
      "Epoch 4/25\n",
      "60/60 [==============================] - 1s 9ms/step - loss: 0.7464 - accuracy: 0.7587 - val_loss: 0.6817 - val_accuracy: 0.7621\n",
      "Epoch 1/25\n",
      "60/60 [==============================] - 3s 17ms/step - loss: 0.7548 - accuracy: 0.7252 - val_loss: 0.6268 - val_accuracy: 0.7621\n",
      "Epoch 2/25\n",
      "60/60 [==============================] - 1s 9ms/step - loss: 0.6017 - accuracy: 0.7702 - val_loss: 0.5471 - val_accuracy: 0.7847\n",
      "Epoch 3/25\n",
      "60/60 [==============================] - 1s 10ms/step - loss: 0.5326 - accuracy: 0.7862 - val_loss: 0.5150 - val_accuracy: 0.7942\n",
      "Epoch 4/25\n",
      "60/60 [==============================] - 1s 9ms/step - loss: 0.4723 - accuracy: 0.8056 - val_loss: 0.5097 - val_accuracy: 0.7951\n",
      "Epoch 5/25\n",
      "60/60 [==============================] - 1s 9ms/step - loss: 0.4471 - accuracy: 0.8146 - val_loss: 0.4937 - val_accuracy: 0.8048\n",
      "Epoch 6/25\n",
      "60/60 [==============================] - 1s 9ms/step - loss: 0.4068 - accuracy: 0.8305 - val_loss: 0.5001 - val_accuracy: 0.7945\n",
      "Epoch 7/25\n",
      "60/60 [==============================] - 1s 9ms/step - loss: 0.3849 - accuracy: 0.8321 - val_loss: 0.5220 - val_accuracy: 0.7936\n",
      "Epoch 8/25\n",
      "60/60 [==============================] - 1s 9ms/step - loss: 0.3568 - accuracy: 0.8362 - val_loss: 0.5120 - val_accuracy: 0.8021\n",
      "Epoch 1/25\n",
      "60/60 [==============================] - 3s 17ms/step - loss: 0.8508 - accuracy: 0.6702 - val_loss: 0.6521 - val_accuracy: 0.7621\n",
      "Epoch 2/25\n",
      "60/60 [==============================] - 1s 9ms/step - loss: 0.6274 - accuracy: 0.7747 - val_loss: 0.5883 - val_accuracy: 0.7621\n",
      "Epoch 3/25\n",
      "60/60 [==============================] - 1s 9ms/step - loss: 0.5897 - accuracy: 0.7750 - val_loss: 0.5710 - val_accuracy: 0.7621\n",
      "Epoch 4/25\n",
      "60/60 [==============================] - 1s 9ms/step - loss: 0.5753 - accuracy: 0.7704 - val_loss: 0.5579 - val_accuracy: 0.7659\n",
      "Epoch 5/25\n",
      "60/60 [==============================] - 1s 9ms/step - loss: 0.5419 - accuracy: 0.7799 - val_loss: 0.5537 - val_accuracy: 0.7712\n",
      "Epoch 6/25\n",
      "60/60 [==============================] - 1s 9ms/step - loss: 0.5172 - accuracy: 0.7907 - val_loss: 0.5274 - val_accuracy: 0.7900\n",
      "Epoch 7/25\n",
      "60/60 [==============================] - 1s 10ms/step - loss: 0.5034 - accuracy: 0.7960 - val_loss: 0.5608 - val_accuracy: 0.7877\n",
      "Epoch 8/25\n",
      "60/60 [==============================] - 1s 9ms/step - loss: 0.4880 - accuracy: 0.8072 - val_loss: 0.5081 - val_accuracy: 0.7945\n",
      "Epoch 9/25\n",
      "60/60 [==============================] - 1s 9ms/step - loss: 0.4725 - accuracy: 0.8124 - val_loss: 0.4936 - val_accuracy: 0.8015\n",
      "Epoch 10/25\n",
      "60/60 [==============================] - 1s 10ms/step - loss: 0.4634 - accuracy: 0.8120 - val_loss: 0.4964 - val_accuracy: 0.7974\n",
      "Epoch 11/25\n",
      "60/60 [==============================] - 1s 10ms/step - loss: 0.4494 - accuracy: 0.8114 - val_loss: 0.4856 - val_accuracy: 0.8057\n",
      "Epoch 12/25\n",
      "60/60 [==============================] - 1s 9ms/step - loss: 0.4331 - accuracy: 0.8173 - val_loss: 0.4953 - val_accuracy: 0.8036\n",
      "Epoch 13/25\n",
      "60/60 [==============================] - 1s 9ms/step - loss: 0.4171 - accuracy: 0.8296 - val_loss: 0.4873 - val_accuracy: 0.8054\n",
      "Epoch 14/25\n",
      "60/60 [==============================] - 1s 10ms/step - loss: 0.4166 - accuracy: 0.8247 - val_loss: 0.5253 - val_accuracy: 0.8012\n",
      "Epoch 1/25\n",
      "60/60 [==============================] - 3s 17ms/step - loss: 1.0245 - accuracy: 0.5012 - val_loss: 0.7931 - val_accuracy: 0.7621\n",
      "Epoch 2/25\n",
      "60/60 [==============================] - 1s 9ms/step - loss: 0.7944 - accuracy: 0.7406 - val_loss: 0.7141 - val_accuracy: 0.7621\n",
      "Epoch 3/25\n",
      "60/60 [==============================] - 1s 10ms/step - loss: 0.7578 - accuracy: 0.7560 - val_loss: 0.6981 - val_accuracy: 0.7621\n",
      "Epoch 4/25\n",
      "60/60 [==============================] - 1s 10ms/step - loss: 0.7324 - accuracy: 0.7637 - val_loss: 0.6758 - val_accuracy: 0.7621\n",
      "Epoch 1/25\n",
      "60/60 [==============================] - 3s 18ms/step - loss: 0.7885 - accuracy: 0.6975 - val_loss: 0.6064 - val_accuracy: 0.7624\n",
      "Epoch 2/25\n",
      "60/60 [==============================] - 1s 10ms/step - loss: 0.6014 - accuracy: 0.7711 - val_loss: 0.5691 - val_accuracy: 0.7815\n",
      "Epoch 3/25\n",
      "60/60 [==============================] - 1s 10ms/step - loss: 0.5208 - accuracy: 0.7949 - val_loss: 0.5161 - val_accuracy: 0.7959\n",
      "Epoch 4/25\n",
      "60/60 [==============================] - 1s 11ms/step - loss: 0.4762 - accuracy: 0.8041 - val_loss: 0.5092 - val_accuracy: 0.7989\n",
      "Epoch 5/25\n",
      "60/60 [==============================] - 1s 10ms/step - loss: 0.4515 - accuracy: 0.8131 - val_loss: 0.5040 - val_accuracy: 0.8042\n",
      "Epoch 6/25\n",
      "60/60 [==============================] - 1s 10ms/step - loss: 0.4307 - accuracy: 0.8146 - val_loss: 0.5273 - val_accuracy: 0.8048\n",
      "Epoch 7/25\n",
      "60/60 [==============================] - 1s 10ms/step - loss: 0.3944 - accuracy: 0.8262 - val_loss: 0.5176 - val_accuracy: 0.7971\n",
      "Epoch 8/25\n",
      "60/60 [==============================] - 1s 10ms/step - loss: 0.3544 - accuracy: 0.8367 - val_loss: 0.5691 - val_accuracy: 0.7892\n",
      "Epoch 9/25\n",
      "60/60 [==============================] - 1s 10ms/step - loss: 0.3287 - accuracy: 0.8492 - val_loss: 0.6033 - val_accuracy: 0.7856\n",
      "Epoch 1/25\n",
      "60/60 [==============================] - 3s 18ms/step - loss: 0.9331 - accuracy: 0.5443 - val_loss: 0.6764 - val_accuracy: 0.7621\n",
      "Epoch 2/25\n",
      "60/60 [==============================] - 1s 10ms/step - loss: 0.6871 - accuracy: 0.7710 - val_loss: 0.6119 - val_accuracy: 0.7621\n",
      "Epoch 3/25\n",
      "60/60 [==============================] - 1s 9ms/step - loss: 0.6310 - accuracy: 0.7717 - val_loss: 0.5987 - val_accuracy: 0.7691\n",
      "Epoch 4/25\n",
      "60/60 [==============================] - 1s 10ms/step - loss: 0.5926 - accuracy: 0.7755 - val_loss: 0.5658 - val_accuracy: 0.7803\n",
      "Epoch 5/25\n",
      "60/60 [==============================] - 1s 10ms/step - loss: 0.5569 - accuracy: 0.7884 - val_loss: 0.5394 - val_accuracy: 0.7853\n",
      "Epoch 6/25\n",
      "60/60 [==============================] - 1s 10ms/step - loss: 0.5470 - accuracy: 0.7914 - val_loss: 0.5524 - val_accuracy: 0.7912\n",
      "Epoch 7/25\n",
      "60/60 [==============================] - 1s 10ms/step - loss: 0.5350 - accuracy: 0.7964 - val_loss: 0.5192 - val_accuracy: 0.7924\n",
      "Epoch 8/25\n",
      "60/60 [==============================] - 1s 9ms/step - loss: 0.5075 - accuracy: 0.8030 - val_loss: 0.5168 - val_accuracy: 0.7918\n",
      "Epoch 9/25\n",
      "60/60 [==============================] - 1s 9ms/step - loss: 0.4946 - accuracy: 0.8021 - val_loss: 0.5175 - val_accuracy: 0.7942\n",
      "Epoch 10/25\n",
      "60/60 [==============================] - 1s 9ms/step - loss: 0.4750 - accuracy: 0.8086 - val_loss: 0.4945 - val_accuracy: 0.8036\n",
      "Epoch 11/25\n",
      "60/60 [==============================] - 1s 9ms/step - loss: 0.4672 - accuracy: 0.8095 - val_loss: 0.4978 - val_accuracy: 0.8027\n",
      "Epoch 12/25\n",
      "60/60 [==============================] - 1s 9ms/step - loss: 0.4484 - accuracy: 0.8200 - val_loss: 0.5151 - val_accuracy: 0.8018\n",
      "Epoch 13/25\n",
      "60/60 [==============================] - 1s 9ms/step - loss: 0.4363 - accuracy: 0.8159 - val_loss: 0.5109 - val_accuracy: 0.7903\n",
      "Epoch 1/25\n",
      "60/60 [==============================] - 3s 17ms/step - loss: 0.9773 - accuracy: 0.5880 - val_loss: 0.7315 - val_accuracy: 0.7621\n",
      "Epoch 2/25\n",
      "60/60 [==============================] - 1s 9ms/step - loss: 0.7668 - accuracy: 0.7569 - val_loss: 0.7129 - val_accuracy: 0.7621\n",
      "Epoch 3/25\n",
      "60/60 [==============================] - 1s 9ms/step - loss: 0.7424 - accuracy: 0.7658 - val_loss: 0.6892 - val_accuracy: 0.7621\n",
      "Epoch 4/25\n",
      "60/60 [==============================] - 1s 10ms/step - loss: 0.7155 - accuracy: 0.7653 - val_loss: 0.6529 - val_accuracy: 0.7621\n",
      "Epoch 1/25\n",
      "60/60 [==============================] - 2s 17ms/step - loss: 0.7757 - accuracy: 0.7233 - val_loss: 0.5958 - val_accuracy: 0.7621\n",
      "Epoch 2/25\n",
      "60/60 [==============================] - 1s 9ms/step - loss: 0.5875 - accuracy: 0.7715 - val_loss: 0.5315 - val_accuracy: 0.7895\n",
      "Epoch 3/25\n",
      "60/60 [==============================] - 1s 9ms/step - loss: 0.5384 - accuracy: 0.7786 - val_loss: 0.5124 - val_accuracy: 0.7906\n",
      "Epoch 4/25\n",
      "60/60 [==============================] - 1s 10ms/step - loss: 0.4900 - accuracy: 0.7946 - val_loss: 0.5123 - val_accuracy: 0.8001\n",
      "Epoch 5/25\n",
      "60/60 [==============================] - 1s 9ms/step - loss: 0.4779 - accuracy: 0.7950 - val_loss: 0.4949 - val_accuracy: 0.8065\n",
      "Epoch 6/25\n",
      "60/60 [==============================] - 1s 9ms/step - loss: 0.4453 - accuracy: 0.8098 - val_loss: 0.5030 - val_accuracy: 0.8074\n",
      "Epoch 7/25\n",
      "60/60 [==============================] - 1s 10ms/step - loss: 0.4137 - accuracy: 0.8244 - val_loss: 0.5075 - val_accuracy: 0.7924\n",
      "Epoch 8/25\n",
      "60/60 [==============================] - 1s 9ms/step - loss: 0.3903 - accuracy: 0.8295 - val_loss: 0.5228 - val_accuracy: 0.7995\n",
      "Epoch 9/25\n",
      "60/60 [==============================] - 1s 9ms/step - loss: 0.3589 - accuracy: 0.8360 - val_loss: 0.6180 - val_accuracy: 0.7930\n",
      "Epoch 1/25\n",
      "60/60 [==============================] - 3s 17ms/step - loss: 0.8382 - accuracy: 0.6852 - val_loss: 0.6224 - val_accuracy: 0.7621\n",
      "Epoch 2/25\n",
      "60/60 [==============================] - 1s 9ms/step - loss: 0.6572 - accuracy: 0.7691 - val_loss: 0.6045 - val_accuracy: 0.7621\n",
      "Epoch 3/25\n",
      "60/60 [==============================] - 1s 9ms/step - loss: 0.6157 - accuracy: 0.7758 - val_loss: 0.5808 - val_accuracy: 0.7621\n",
      "Epoch 4/25\n",
      "60/60 [==============================] - 1s 9ms/step - loss: 0.5850 - accuracy: 0.7743 - val_loss: 0.5673 - val_accuracy: 0.7621\n",
      "Epoch 1/25\n",
      "60/60 [==============================] - 2s 17ms/step - loss: 0.9994 - accuracy: 0.5270 - val_loss: 0.7363 - val_accuracy: 0.7621\n",
      "Epoch 2/25\n",
      "60/60 [==============================] - 1s 10ms/step - loss: 0.8119 - accuracy: 0.7288 - val_loss: 0.7101 - val_accuracy: 0.7621\n",
      "Epoch 3/25\n",
      "60/60 [==============================] - 1s 10ms/step - loss: 0.7761 - accuracy: 0.7423 - val_loss: 0.6947 - val_accuracy: 0.7621\n",
      "Epoch 4/25\n",
      "60/60 [==============================] - 1s 10ms/step - loss: 0.7493 - accuracy: 0.7566 - val_loss: 0.6622 - val_accuracy: 0.7621\n",
      "Epoch 1/25\n",
      "60/60 [==============================] - 2s 16ms/step - loss: 0.8005 - accuracy: 0.7061 - val_loss: 0.6079 - val_accuracy: 0.7621\n",
      "Epoch 2/25\n",
      "60/60 [==============================] - 1s 9ms/step - loss: 0.6120 - accuracy: 0.7727 - val_loss: 0.5633 - val_accuracy: 0.7621\n",
      "Epoch 3/25\n",
      "60/60 [==============================] - 1s 9ms/step - loss: 0.5753 - accuracy: 0.7710 - val_loss: 0.5254 - val_accuracy: 0.7951\n",
      "Epoch 4/25\n",
      "60/60 [==============================] - 1s 9ms/step - loss: 0.5080 - accuracy: 0.7907 - val_loss: 0.5779 - val_accuracy: 0.7924\n",
      "Epoch 5/25\n",
      "60/60 [==============================] - 1s 9ms/step - loss: 0.4895 - accuracy: 0.7914 - val_loss: 0.5057 - val_accuracy: 0.7998\n",
      "Epoch 6/25\n",
      "60/60 [==============================] - 1s 9ms/step - loss: 0.4514 - accuracy: 0.8048 - val_loss: 0.5072 - val_accuracy: 0.8001\n",
      "Epoch 7/25\n",
      "60/60 [==============================] - 1s 9ms/step - loss: 0.4290 - accuracy: 0.8101 - val_loss: 0.5329 - val_accuracy: 0.8045\n",
      "Epoch 8/25\n",
      "60/60 [==============================] - 1s 10ms/step - loss: 0.4061 - accuracy: 0.8171 - val_loss: 0.5287 - val_accuracy: 0.8004\n",
      "Epoch 9/25\n",
      "60/60 [==============================] - 1s 9ms/step - loss: 0.3839 - accuracy: 0.8273 - val_loss: 0.5502 - val_accuracy: 0.7868\n",
      "Epoch 10/25\n",
      "60/60 [==============================] - 1s 9ms/step - loss: 0.3704 - accuracy: 0.8340 - val_loss: 0.5434 - val_accuracy: 0.7945\n",
      "Epoch 1/25\n",
      "60/60 [==============================] - 2s 17ms/step - loss: 0.8938 - accuracy: 0.6257 - val_loss: 0.6590 - val_accuracy: 0.7621\n",
      "Epoch 2/25\n",
      "60/60 [==============================] - 1s 9ms/step - loss: 0.6964 - accuracy: 0.7616 - val_loss: 0.5950 - val_accuracy: 0.7621\n",
      "Epoch 3/25\n",
      "60/60 [==============================] - 1s 9ms/step - loss: 0.6525 - accuracy: 0.7640 - val_loss: 0.5882 - val_accuracy: 0.7621\n",
      "Epoch 4/25\n",
      "60/60 [==============================] - 1s 10ms/step - loss: 0.6351 - accuracy: 0.7667 - val_loss: 0.5709 - val_accuracy: 0.7621\n",
      "Epoch 1/25\n",
      "60/60 [==============================] - 2s 17ms/step - loss: 1.0056 - accuracy: 0.5253 - val_loss: 0.7591 - val_accuracy: 0.7621\n",
      "Epoch 2/25\n",
      "60/60 [==============================] - 1s 9ms/step - loss: 0.8696 - accuracy: 0.6631 - val_loss: 0.7259 - val_accuracy: 0.7621\n",
      "Epoch 3/25\n",
      "60/60 [==============================] - 1s 10ms/step - loss: 0.8319 - accuracy: 0.6909 - val_loss: 0.7058 - val_accuracy: 0.7621\n",
      "Epoch 4/25\n",
      "60/60 [==============================] - 1s 10ms/step - loss: 0.7971 - accuracy: 0.7055 - val_loss: 0.6791 - val_accuracy: 0.7621\n",
      "Epoch 1/25\n",
      "60/60 [==============================] - 3s 17ms/step - loss: 0.7292 - accuracy: 0.7765 - val_loss: 0.6081 - val_accuracy: 0.7621\n",
      "Epoch 2/25\n",
      "60/60 [==============================] - 1s 9ms/step - loss: 0.5841 - accuracy: 0.7751 - val_loss: 0.5421 - val_accuracy: 0.7886\n",
      "Epoch 3/25\n",
      "60/60 [==============================] - 1s 10ms/step - loss: 0.5142 - accuracy: 0.7932 - val_loss: 0.5113 - val_accuracy: 0.8006\n",
      "Epoch 4/25\n",
      "60/60 [==============================] - 1s 10ms/step - loss: 0.4689 - accuracy: 0.8099 - val_loss: 0.4939 - val_accuracy: 0.8030\n",
      "Epoch 5/25\n",
      "60/60 [==============================] - 1s 10ms/step - loss: 0.4621 - accuracy: 0.8102 - val_loss: 0.4864 - val_accuracy: 0.8086\n",
      "Epoch 6/25\n",
      "60/60 [==============================] - 1s 10ms/step - loss: 0.4170 - accuracy: 0.8197 - val_loss: 0.5312 - val_accuracy: 0.8015\n",
      "Epoch 7/25\n",
      "60/60 [==============================] - 1s 10ms/step - loss: 0.3961 - accuracy: 0.8259 - val_loss: 0.5122 - val_accuracy: 0.7945\n",
      "Epoch 8/25\n",
      "60/60 [==============================] - 1s 10ms/step - loss: 0.3614 - accuracy: 0.8354 - val_loss: 0.5277 - val_accuracy: 0.7974\n",
      "Epoch 1/25\n",
      "60/60 [==============================] - 3s 17ms/step - loss: 0.9135 - accuracy: 0.6049 - val_loss: 0.6659 - val_accuracy: 0.7621\n",
      "Epoch 2/25\n",
      "60/60 [==============================] - 1s 10ms/step - loss: 0.6671 - accuracy: 0.7703 - val_loss: 0.6221 - val_accuracy: 0.7621\n",
      "Epoch 3/25\n",
      "60/60 [==============================] - 1s 10ms/step - loss: 0.6174 - accuracy: 0.7693 - val_loss: 0.5975 - val_accuracy: 0.7662\n",
      "Epoch 4/25\n",
      "60/60 [==============================] - 1s 10ms/step - loss: 0.5892 - accuracy: 0.7730 - val_loss: 0.5697 - val_accuracy: 0.7750\n",
      "Epoch 5/25\n",
      "60/60 [==============================] - 1s 10ms/step - loss: 0.5739 - accuracy: 0.7832 - val_loss: 0.5494 - val_accuracy: 0.7853\n",
      "Epoch 6/25\n",
      "60/60 [==============================] - 1s 10ms/step - loss: 0.5276 - accuracy: 0.7968 - val_loss: 0.5350 - val_accuracy: 0.7927\n",
      "Epoch 7/25\n",
      "60/60 [==============================] - 1s 10ms/step - loss: 0.5209 - accuracy: 0.7953 - val_loss: 0.5266 - val_accuracy: 0.7900\n",
      "Epoch 8/25\n",
      "60/60 [==============================] - 1s 10ms/step - loss: 0.5102 - accuracy: 0.7974 - val_loss: 0.5182 - val_accuracy: 0.7968\n",
      "Epoch 9/25\n",
      "60/60 [==============================] - 1s 10ms/step - loss: 0.4760 - accuracy: 0.8082 - val_loss: 0.5024 - val_accuracy: 0.7956\n",
      "Epoch 10/25\n",
      "60/60 [==============================] - 1s 10ms/step - loss: 0.4713 - accuracy: 0.8111 - val_loss: 0.4985 - val_accuracy: 0.7953\n",
      "Epoch 11/25\n",
      "60/60 [==============================] - 1s 10ms/step - loss: 0.4572 - accuracy: 0.8113 - val_loss: 0.4991 - val_accuracy: 0.8024\n",
      "Epoch 12/25\n",
      "60/60 [==============================] - 1s 10ms/step - loss: 0.4331 - accuracy: 0.8199 - val_loss: 0.5036 - val_accuracy: 0.8048\n",
      "Epoch 13/25\n",
      "60/60 [==============================] - 1s 10ms/step - loss: 0.4322 - accuracy: 0.8256 - val_loss: 0.5277 - val_accuracy: 0.8012\n",
      "Epoch 14/25\n",
      "60/60 [==============================] - 1s 10ms/step - loss: 0.4202 - accuracy: 0.8245 - val_loss: 0.5599 - val_accuracy: 0.8001\n",
      "Epoch 15/25\n",
      "60/60 [==============================] - 1s 10ms/step - loss: 0.3955 - accuracy: 0.8350 - val_loss: 0.5005 - val_accuracy: 0.7998\n",
      "Epoch 1/25\n",
      "60/60 [==============================] - 3s 18ms/step - loss: 1.1456 - accuracy: 0.2783 - val_loss: 0.9282 - val_accuracy: 0.7621\n",
      "Epoch 2/25\n",
      "60/60 [==============================] - 1s 10ms/step - loss: 0.8895 - accuracy: 0.6522 - val_loss: 0.7282 - val_accuracy: 0.7621\n",
      "Epoch 3/25\n",
      "60/60 [==============================] - 1s 10ms/step - loss: 0.7962 - accuracy: 0.6900 - val_loss: 0.7102 - val_accuracy: 0.7621\n",
      "Epoch 4/25\n",
      "60/60 [==============================] - 1s 10ms/step - loss: 0.7518 - accuracy: 0.7486 - val_loss: 0.6895 - val_accuracy: 0.7621\n",
      "Epoch 1/25\n",
      "60/60 [==============================] - 3s 17ms/step - loss: 0.7244 - accuracy: 0.7445 - val_loss: 0.6082 - val_accuracy: 0.7621\n",
      "Epoch 2/25\n",
      "60/60 [==============================] - 1s 10ms/step - loss: 0.5900 - accuracy: 0.7765 - val_loss: 0.5687 - val_accuracy: 0.7721\n",
      "Epoch 3/25\n",
      "60/60 [==============================] - 1s 10ms/step - loss: 0.5282 - accuracy: 0.7886 - val_loss: 0.5476 - val_accuracy: 0.7906\n",
      "Epoch 4/25\n",
      "60/60 [==============================] - 1s 10ms/step - loss: 0.4866 - accuracy: 0.7938 - val_loss: 0.5040 - val_accuracy: 0.8001\n",
      "Epoch 5/25\n",
      "60/60 [==============================] - 1s 10ms/step - loss: 0.4621 - accuracy: 0.8004 - val_loss: 0.5253 - val_accuracy: 0.7777\n",
      "Epoch 6/25\n",
      "60/60 [==============================] - 1s 10ms/step - loss: 0.4458 - accuracy: 0.7999 - val_loss: 0.5196 - val_accuracy: 0.8077\n",
      "Epoch 7/25\n",
      "60/60 [==============================] - 1s 10ms/step - loss: 0.3966 - accuracy: 0.8198 - val_loss: 0.5780 - val_accuracy: 0.8059\n",
      "Epoch 8/25\n",
      "60/60 [==============================] - 1s 10ms/step - loss: 0.3757 - accuracy: 0.8226 - val_loss: 0.6166 - val_accuracy: 0.8042\n",
      "Epoch 9/25\n",
      "60/60 [==============================] - 1s 9ms/step - loss: 0.3512 - accuracy: 0.8343 - val_loss: 0.5561 - val_accuracy: 0.7877\n",
      "Epoch 1/25\n",
      "60/60 [==============================] - 3s 17ms/step - loss: 0.8880 - accuracy: 0.6389 - val_loss: 0.6393 - val_accuracy: 0.7621\n",
      "Epoch 2/25\n",
      "60/60 [==============================] - 1s 10ms/step - loss: 0.6519 - accuracy: 0.7695 - val_loss: 0.5963 - val_accuracy: 0.7621\n",
      "Epoch 3/25\n",
      "60/60 [==============================] - 1s 10ms/step - loss: 0.6102 - accuracy: 0.7730 - val_loss: 0.5861 - val_accuracy: 0.7621\n",
      "Epoch 4/25\n",
      "60/60 [==============================] - 1s 10ms/step - loss: 0.6036 - accuracy: 0.7703 - val_loss: 0.5791 - val_accuracy: 0.7621\n",
      "Epoch 1/25\n",
      "60/60 [==============================] - 3s 17ms/step - loss: 1.0245 - accuracy: 0.5866 - val_loss: 0.8305 - val_accuracy: 0.7621\n",
      "Epoch 2/25\n",
      "60/60 [==============================] - 1s 10ms/step - loss: 0.8212 - accuracy: 0.7344 - val_loss: 0.7158 - val_accuracy: 0.7621\n",
      "Epoch 3/25\n",
      "60/60 [==============================] - 1s 10ms/step - loss: 0.7764 - accuracy: 0.7599 - val_loss: 0.7035 - val_accuracy: 0.7621\n",
      "Epoch 4/25\n",
      "60/60 [==============================] - 1s 10ms/step - loss: 0.7455 - accuracy: 0.7602 - val_loss: 0.6706 - val_accuracy: 0.7621\n",
      "Epoch 1/25\n",
      "60/60 [==============================] - 3s 17ms/step - loss: 0.8146 - accuracy: 0.6915 - val_loss: 0.6174 - val_accuracy: 0.7621\n",
      "Epoch 2/25\n",
      "60/60 [==============================] - 1s 10ms/step - loss: 0.6124 - accuracy: 0.7716 - val_loss: 0.5433 - val_accuracy: 0.7865\n",
      "Epoch 3/25\n",
      "60/60 [==============================] - 1s 10ms/step - loss: 0.5370 - accuracy: 0.7868 - val_loss: 0.5271 - val_accuracy: 0.7686\n",
      "Epoch 4/25\n",
      "60/60 [==============================] - 1s 10ms/step - loss: 0.5041 - accuracy: 0.7911 - val_loss: 0.5179 - val_accuracy: 0.7953\n",
      "Epoch 5/25\n",
      "60/60 [==============================] - 1s 10ms/step - loss: 0.4798 - accuracy: 0.8063 - val_loss: 0.5095 - val_accuracy: 0.8006\n",
      "Epoch 6/25\n",
      "60/60 [==============================] - 1s 10ms/step - loss: 0.4649 - accuracy: 0.8006 - val_loss: 0.5648 - val_accuracy: 0.7980\n",
      "Epoch 7/25\n",
      "60/60 [==============================] - 1s 10ms/step - loss: 0.4478 - accuracy: 0.8128 - val_loss: 0.4982 - val_accuracy: 0.7824\n",
      "Epoch 8/25\n",
      "60/60 [==============================] - 1s 10ms/step - loss: 0.4092 - accuracy: 0.8187 - val_loss: 0.5327 - val_accuracy: 0.8015\n",
      "Epoch 9/25\n",
      "60/60 [==============================] - 1s 10ms/step - loss: 0.3851 - accuracy: 0.8285 - val_loss: 0.6138 - val_accuracy: 0.7989\n",
      "Epoch 10/25\n",
      "60/60 [==============================] - 1s 10ms/step - loss: 0.3656 - accuracy: 0.8288 - val_loss: 0.6109 - val_accuracy: 0.7868\n",
      "Epoch 11/25\n",
      "60/60 [==============================] - 1s 10ms/step - loss: 0.3282 - accuracy: 0.8525 - val_loss: 0.6426 - val_accuracy: 0.7877\n",
      "Epoch 1/25\n",
      "60/60 [==============================] - 3s 17ms/step - loss: 0.8341 - accuracy: 0.6973 - val_loss: 0.6156 - val_accuracy: 0.7621\n",
      "Epoch 2/25\n",
      "60/60 [==============================] - 1s 9ms/step - loss: 0.6603 - accuracy: 0.7681 - val_loss: 0.5992 - val_accuracy: 0.7621\n",
      "Epoch 3/25\n",
      "60/60 [==============================] - 1s 10ms/step - loss: 0.6257 - accuracy: 0.7679 - val_loss: 0.5745 - val_accuracy: 0.7621\n",
      "Epoch 4/25\n",
      "60/60 [==============================] - 1s 10ms/step - loss: 0.6083 - accuracy: 0.7682 - val_loss: 0.5713 - val_accuracy: 0.7621\n",
      "Epoch 1/25\n",
      "60/60 [==============================] - 3s 18ms/step - loss: 0.9655 - accuracy: 0.5923 - val_loss: 0.7499 - val_accuracy: 0.7621\n",
      "Epoch 2/25\n",
      "60/60 [==============================] - 1s 10ms/step - loss: 0.8490 - accuracy: 0.6919 - val_loss: 0.7255 - val_accuracy: 0.7621\n",
      "Epoch 3/25\n",
      "60/60 [==============================] - 1s 10ms/step - loss: 0.8168 - accuracy: 0.7194 - val_loss: 0.7059 - val_accuracy: 0.7621\n",
      "Epoch 4/25\n",
      "60/60 [==============================] - 1s 10ms/step - loss: 0.8031 - accuracy: 0.7298 - val_loss: 0.6732 - val_accuracy: 0.7621\n",
      "Epoch 1/25\n",
      "60/60 [==============================] - 3s 17ms/step - loss: 0.8379 - accuracy: 0.6863 - val_loss: 0.6179 - val_accuracy: 0.7621\n",
      "Epoch 2/25\n",
      "60/60 [==============================] - 1s 9ms/step - loss: 0.6157 - accuracy: 0.7727 - val_loss: 0.5678 - val_accuracy: 0.7621\n",
      "Epoch 3/25\n",
      "60/60 [==============================] - 1s 10ms/step - loss: 0.5626 - accuracy: 0.7760 - val_loss: 0.5285 - val_accuracy: 0.7921\n",
      "Epoch 4/25\n",
      "60/60 [==============================] - 1s 10ms/step - loss: 0.5177 - accuracy: 0.7884 - val_loss: 0.5677 - val_accuracy: 0.7821\n",
      "Epoch 5/25\n",
      "60/60 [==============================] - 1s 10ms/step - loss: 0.5165 - accuracy: 0.7826 - val_loss: 0.5104 - val_accuracy: 0.7995\n",
      "Epoch 6/25\n",
      "60/60 [==============================] - 1s 10ms/step - loss: 0.4869 - accuracy: 0.7919 - val_loss: 0.5074 - val_accuracy: 0.7948\n",
      "Epoch 7/25\n",
      "60/60 [==============================] - 1s 10ms/step - loss: 0.4496 - accuracy: 0.8011 - val_loss: 0.5062 - val_accuracy: 0.8015\n",
      "Epoch 8/25\n",
      "60/60 [==============================] - 1s 10ms/step - loss: 0.4398 - accuracy: 0.8103 - val_loss: 0.5425 - val_accuracy: 0.7912\n",
      "Epoch 9/25\n",
      "60/60 [==============================] - 1s 10ms/step - loss: 0.4186 - accuracy: 0.8138 - val_loss: 0.5526 - val_accuracy: 0.7874\n",
      "Epoch 10/25\n",
      "60/60 [==============================] - 1s 10ms/step - loss: 0.3959 - accuracy: 0.8170 - val_loss: 0.5933 - val_accuracy: 0.7794\n",
      "Epoch 1/25\n",
      "60/60 [==============================] - 3s 17ms/step - loss: 0.9705 - accuracy: 0.5676 - val_loss: 0.6849 - val_accuracy: 0.7621\n",
      "Epoch 2/25\n",
      "60/60 [==============================] - 1s 10ms/step - loss: 0.7522 - accuracy: 0.7599 - val_loss: 0.6057 - val_accuracy: 0.7621\n",
      "Epoch 3/25\n",
      "60/60 [==============================] - 1s 9ms/step - loss: 0.6734 - accuracy: 0.7686 - val_loss: 0.6103 - val_accuracy: 0.7621\n",
      "Epoch 4/25\n",
      "60/60 [==============================] - 1s 10ms/step - loss: 0.6377 - accuracy: 0.7744 - val_loss: 0.5935 - val_accuracy: 0.7621\n",
      "Epoch 1/25\n",
      "60/60 [==============================] - 3s 19ms/step - loss: 0.9628 - accuracy: 0.6023 - val_loss: 0.7714 - val_accuracy: 0.7621\n",
      "Epoch 2/25\n",
      "60/60 [==============================] - 1s 10ms/step - loss: 0.8436 - accuracy: 0.7328 - val_loss: 0.7500 - val_accuracy: 0.7621\n",
      "Epoch 3/25\n",
      "60/60 [==============================] - 1s 9ms/step - loss: 0.8068 - accuracy: 0.7503 - val_loss: 0.7176 - val_accuracy: 0.7621\n",
      "Epoch 4/25\n",
      "60/60 [==============================] - 1s 10ms/step - loss: 0.7823 - accuracy: 0.7481 - val_loss: 0.6671 - val_accuracy: 0.7621\n"
     ]
    }
   ],
   "source": [
    "# GloVe approach\n",
    "history_dict = []\n",
    "emb_method = 'GloVe'\n",
    "early_stop = EarlyStopping(monitor='val_accuracy', mode = 'max', patience = 3)\n",
    "for layers in [1, 2, 3]:\n",
    "    for dropout_m in [ 0.2, 0.3, 0.4, 0.5]:\n",
    "        for learning_rate in [0.01, 0.001, 0.0001]:\n",
    "            trained_model = build_model(layers, dropout_m, emb_method)            \n",
    "            adam_opt = Adam(learning_rate=learning_rate)\n",
    "            trained_model.compile(loss = 'categorical_crossentropy', optimizer=adam_opt, metrics = ['accuracy'])\n",
    "            hist = trained_model.fit(X_train_m, Y_train_m, validation_data=(X_val, Y_val), epochs = 25, batch_size = 229, callbacks = [early_stop])\n",
    "            current_values = [] \n",
    "            l = layers\n",
    "            dropout = dropout_m\n",
    "            current_value = []\n",
    "            current_value.append(l)\n",
    "            current_value.append(dropout_m)\n",
    "            current_value.append(learning_rate)\n",
    "            current_value.append(len(hist.history['loss']))\n",
    "            current_value.append(hist.history['loss'][-1])\n",
    "            current_value.append(hist.history['accuracy'][-1])\n",
    "            current_value.append(hist.history['val_loss'][-1])\n",
    "            current_value.append(hist.history['val_accuracy'][-1])\n",
    "            current_value.append(hist.history['loss'][-4])\n",
    "            current_value.append(hist.history['accuracy'][-4])\n",
    "            current_value.append(hist.history['val_loss'][-4])\n",
    "            current_value.append(hist.history['val_accuracy'][-4])\n",
    "            history_dict.append(current_value)\n",
    "            gc.collect()\n"
   ]
  },
  {
   "cell_type": "code",
   "execution_count": 180,
   "metadata": {
    "colab": {
     "base_uri": "https://localhost:8080/"
    },
    "executionInfo": {
     "elapsed": 338151,
     "status": "ok",
     "timestamp": 1610885752933,
     "user": {
      "displayName": "Claudia Słaboń",
      "photoUrl": "",
      "userId": "11186854387326052161"
     },
     "user_tz": -60
    },
    "id": "m7kpTYnEJ7T_",
    "outputId": "6dfaa229-d9e0-4674-9345-518f3d3a6b9d"
   },
   "outputs": [
    {
     "name": "stdout",
     "output_type": "stream",
     "text": [
      "Epoch 1/25\n",
      "60/60 [==============================] - 2s 17ms/step - loss: 0.6244 - accuracy: 0.7486 - val_loss: 0.4848 - val_accuracy: 0.8006\n",
      "Epoch 2/25\n",
      "60/60 [==============================] - 1s 9ms/step - loss: 0.4599 - accuracy: 0.8094 - val_loss: 0.4812 - val_accuracy: 0.8015\n",
      "Epoch 3/25\n",
      "60/60 [==============================] - 1s 9ms/step - loss: 0.4193 - accuracy: 0.8187 - val_loss: 0.4563 - val_accuracy: 0.8089\n",
      "Epoch 4/25\n",
      "60/60 [==============================] - 1s 9ms/step - loss: 0.3801 - accuracy: 0.8347 - val_loss: 0.4613 - val_accuracy: 0.8139\n",
      "Epoch 5/25\n",
      "60/60 [==============================] - 1s 9ms/step - loss: 0.3399 - accuracy: 0.8536 - val_loss: 0.4953 - val_accuracy: 0.8107\n",
      "Epoch 6/25\n",
      "60/60 [==============================] - 1s 9ms/step - loss: 0.2999 - accuracy: 0.8703 - val_loss: 0.4997 - val_accuracy: 0.8101\n",
      "Epoch 7/25\n",
      "60/60 [==============================] - 1s 9ms/step - loss: 0.2609 - accuracy: 0.8876 - val_loss: 0.5880 - val_accuracy: 0.7995\n",
      "Epoch 1/25\n",
      "60/60 [==============================] - 2s 16ms/step - loss: 0.7817 - accuracy: 0.6756 - val_loss: 0.5166 - val_accuracy: 0.7868\n",
      "Epoch 2/25\n",
      "60/60 [==============================] - 1s 9ms/step - loss: 0.4969 - accuracy: 0.7987 - val_loss: 0.4708 - val_accuracy: 0.8039\n",
      "Epoch 3/25\n",
      "60/60 [==============================] - 1s 9ms/step - loss: 0.4562 - accuracy: 0.8148 - val_loss: 0.4604 - val_accuracy: 0.8110\n",
      "Epoch 4/25\n",
      "60/60 [==============================] - 1s 9ms/step - loss: 0.4407 - accuracy: 0.8189 - val_loss: 0.4518 - val_accuracy: 0.8101\n",
      "Epoch 5/25\n",
      "60/60 [==============================] - 1s 9ms/step - loss: 0.4214 - accuracy: 0.8256 - val_loss: 0.4517 - val_accuracy: 0.8104\n",
      "Epoch 6/25\n",
      "60/60 [==============================] - 1s 9ms/step - loss: 0.4053 - accuracy: 0.8328 - val_loss: 0.4547 - val_accuracy: 0.8101\n",
      "Epoch 1/25\n",
      "60/60 [==============================] - 3s 17ms/step - loss: 0.9502 - accuracy: 0.6230 - val_loss: 0.7354 - val_accuracy: 0.7624\n",
      "Epoch 2/25\n",
      "60/60 [==============================] - 1s 9ms/step - loss: 0.6995 - accuracy: 0.7633 - val_loss: 0.5888 - val_accuracy: 0.7691\n",
      "Epoch 3/25\n",
      "60/60 [==============================] - 1s 9ms/step - loss: 0.5720 - accuracy: 0.7816 - val_loss: 0.5292 - val_accuracy: 0.7797\n",
      "Epoch 4/25\n",
      "60/60 [==============================] - 1s 9ms/step - loss: 0.5270 - accuracy: 0.7912 - val_loss: 0.5071 - val_accuracy: 0.7895\n",
      "Epoch 5/25\n",
      "60/60 [==============================] - 1s 9ms/step - loss: 0.5152 - accuracy: 0.7957 - val_loss: 0.4966 - val_accuracy: 0.7918\n",
      "Epoch 6/25\n",
      "60/60 [==============================] - 1s 9ms/step - loss: 0.5047 - accuracy: 0.7977 - val_loss: 0.4911 - val_accuracy: 0.7948\n",
      "Epoch 7/25\n",
      "60/60 [==============================] - 1s 9ms/step - loss: 0.5022 - accuracy: 0.7935 - val_loss: 0.4850 - val_accuracy: 0.7980\n",
      "Epoch 8/25\n",
      "60/60 [==============================] - 1s 9ms/step - loss: 0.4795 - accuracy: 0.8058 - val_loss: 0.4821 - val_accuracy: 0.7983\n",
      "Epoch 9/25\n",
      "60/60 [==============================] - 1s 9ms/step - loss: 0.4704 - accuracy: 0.8077 - val_loss: 0.4791 - val_accuracy: 0.8009\n",
      "Epoch 10/25\n",
      "60/60 [==============================] - 1s 9ms/step - loss: 0.4776 - accuracy: 0.8008 - val_loss: 0.4764 - val_accuracy: 0.8009\n",
      "Epoch 11/25\n",
      "60/60 [==============================] - 1s 9ms/step - loss: 0.4656 - accuracy: 0.8133 - val_loss: 0.4764 - val_accuracy: 0.8004\n",
      "Epoch 12/25\n",
      "60/60 [==============================] - 1s 9ms/step - loss: 0.4667 - accuracy: 0.8064 - val_loss: 0.4731 - val_accuracy: 0.8001\n",
      "Epoch 1/25\n",
      "60/60 [==============================] - 3s 17ms/step - loss: 0.6202 - accuracy: 0.7456 - val_loss: 0.4699 - val_accuracy: 0.8068\n",
      "Epoch 2/25\n",
      "60/60 [==============================] - 1s 9ms/step - loss: 0.4686 - accuracy: 0.8015 - val_loss: 0.4642 - val_accuracy: 0.7986\n",
      "Epoch 3/25\n",
      "60/60 [==============================] - 1s 9ms/step - loss: 0.4254 - accuracy: 0.8149 - val_loss: 0.4610 - val_accuracy: 0.8130\n",
      "Epoch 4/25\n",
      "60/60 [==============================] - 1s 9ms/step - loss: 0.3906 - accuracy: 0.8325 - val_loss: 0.4863 - val_accuracy: 0.8124\n",
      "Epoch 5/25\n",
      "60/60 [==============================] - 1s 9ms/step - loss: 0.3478 - accuracy: 0.8464 - val_loss: 0.4934 - val_accuracy: 0.8124\n",
      "Epoch 6/25\n",
      "60/60 [==============================] - 1s 9ms/step - loss: 0.3141 - accuracy: 0.8560 - val_loss: 0.4936 - val_accuracy: 0.8074\n",
      "Epoch 1/25\n",
      "60/60 [==============================] - 2s 16ms/step - loss: 0.7704 - accuracy: 0.6852 - val_loss: 0.4957 - val_accuracy: 0.7847\n",
      "Epoch 2/25\n",
      "60/60 [==============================] - 1s 9ms/step - loss: 0.4946 - accuracy: 0.7983 - val_loss: 0.4656 - val_accuracy: 0.8024\n",
      "Epoch 3/25\n",
      "60/60 [==============================] - 1s 9ms/step - loss: 0.4671 - accuracy: 0.8061 - val_loss: 0.4773 - val_accuracy: 0.8080\n",
      "Epoch 4/25\n",
      "60/60 [==============================] - 1s 9ms/step - loss: 0.4373 - accuracy: 0.8223 - val_loss: 0.4568 - val_accuracy: 0.8068\n",
      "Epoch 5/25\n",
      "60/60 [==============================] - 1s 9ms/step - loss: 0.4287 - accuracy: 0.8277 - val_loss: 0.4503 - val_accuracy: 0.8133\n",
      "Epoch 6/25\n",
      "60/60 [==============================] - 1s 9ms/step - loss: 0.4055 - accuracy: 0.8308 - val_loss: 0.4651 - val_accuracy: 0.8083\n",
      "Epoch 7/25\n",
      "60/60 [==============================] - 1s 9ms/step - loss: 0.3979 - accuracy: 0.8371 - val_loss: 0.4507 - val_accuracy: 0.8107\n",
      "Epoch 8/25\n",
      "60/60 [==============================] - 1s 9ms/step - loss: 0.3721 - accuracy: 0.8483 - val_loss: 0.4506 - val_accuracy: 0.8180\n",
      "Epoch 9/25\n",
      "60/60 [==============================] - 1s 9ms/step - loss: 0.3637 - accuracy: 0.8479 - val_loss: 0.4555 - val_accuracy: 0.8157\n",
      "Epoch 10/25\n",
      "60/60 [==============================] - 1s 9ms/step - loss: 0.3556 - accuracy: 0.8520 - val_loss: 0.4588 - val_accuracy: 0.8160\n",
      "Epoch 11/25\n",
      "60/60 [==============================] - 1s 9ms/step - loss: 0.3331 - accuracy: 0.8626 - val_loss: 0.4710 - val_accuracy: 0.8130\n",
      "Epoch 1/25\n",
      "60/60 [==============================] - 2s 17ms/step - loss: 1.0373 - accuracy: 0.4578 - val_loss: 0.8235 - val_accuracy: 0.7553\n",
      "Epoch 2/25\n",
      "60/60 [==============================] - 1s 10ms/step - loss: 0.7869 - accuracy: 0.7267 - val_loss: 0.6330 - val_accuracy: 0.7653\n",
      "Epoch 3/25\n",
      "60/60 [==============================] - 1s 10ms/step - loss: 0.6650 - accuracy: 0.7523 - val_loss: 0.5564 - val_accuracy: 0.7700\n",
      "Epoch 4/25\n",
      "60/60 [==============================] - 1s 9ms/step - loss: 0.5937 - accuracy: 0.7732 - val_loss: 0.5239 - val_accuracy: 0.7783\n",
      "Epoch 5/25\n",
      "60/60 [==============================] - 1s 9ms/step - loss: 0.5624 - accuracy: 0.7731 - val_loss: 0.5054 - val_accuracy: 0.7833\n",
      "Epoch 6/25\n",
      "60/60 [==============================] - 1s 9ms/step - loss: 0.5325 - accuracy: 0.7876 - val_loss: 0.4967 - val_accuracy: 0.7865\n",
      "Epoch 7/25\n",
      "60/60 [==============================] - 1s 10ms/step - loss: 0.5244 - accuracy: 0.7924 - val_loss: 0.4911 - val_accuracy: 0.7853\n",
      "Epoch 8/25\n",
      "60/60 [==============================] - 1s 9ms/step - loss: 0.5212 - accuracy: 0.7874 - val_loss: 0.4876 - val_accuracy: 0.7880\n",
      "Epoch 9/25\n",
      "60/60 [==============================] - 1s 9ms/step - loss: 0.4984 - accuracy: 0.7952 - val_loss: 0.4838 - val_accuracy: 0.7933\n",
      "Epoch 10/25\n",
      "60/60 [==============================] - 1s 10ms/step - loss: 0.5009 - accuracy: 0.7920 - val_loss: 0.4813 - val_accuracy: 0.7924\n",
      "Epoch 11/25\n",
      "60/60 [==============================] - 1s 9ms/step - loss: 0.4843 - accuracy: 0.7988 - val_loss: 0.4799 - val_accuracy: 0.7921\n",
      "Epoch 12/25\n",
      "60/60 [==============================] - 1s 10ms/step - loss: 0.4789 - accuracy: 0.8014 - val_loss: 0.4771 - val_accuracy: 0.7933\n",
      "Epoch 1/25\n",
      "60/60 [==============================] - 3s 17ms/step - loss: 0.6436 - accuracy: 0.7450 - val_loss: 0.4844 - val_accuracy: 0.8015\n",
      "Epoch 2/25\n",
      "60/60 [==============================] - 1s 10ms/step - loss: 0.4524 - accuracy: 0.8091 - val_loss: 0.4665 - val_accuracy: 0.8048\n",
      "Epoch 3/25\n",
      "60/60 [==============================] - 1s 10ms/step - loss: 0.4197 - accuracy: 0.8189 - val_loss: 0.4608 - val_accuracy: 0.8118\n",
      "Epoch 4/25\n",
      "60/60 [==============================] - 1s 9ms/step - loss: 0.3957 - accuracy: 0.8294 - val_loss: 0.4723 - val_accuracy: 0.8136\n",
      "Epoch 5/25\n",
      "60/60 [==============================] - 1s 10ms/step - loss: 0.3544 - accuracy: 0.8399 - val_loss: 0.4888 - val_accuracy: 0.8077\n",
      "Epoch 6/25\n",
      "60/60 [==============================] - 1s 10ms/step - loss: 0.3247 - accuracy: 0.8556 - val_loss: 0.5191 - val_accuracy: 0.8057\n",
      "Epoch 7/25\n",
      "60/60 [==============================] - 1s 10ms/step - loss: 0.2838 - accuracy: 0.8693 - val_loss: 0.6077 - val_accuracy: 0.8074\n",
      "Epoch 1/25\n",
      "60/60 [==============================] - 3s 17ms/step - loss: 0.8192 - accuracy: 0.6499 - val_loss: 0.4983 - val_accuracy: 0.7912\n",
      "Epoch 2/25\n",
      "60/60 [==============================] - 1s 10ms/step - loss: 0.5092 - accuracy: 0.7953 - val_loss: 0.4699 - val_accuracy: 0.8009\n",
      "Epoch 3/25\n",
      "60/60 [==============================] - 1s 10ms/step - loss: 0.4731 - accuracy: 0.8055 - val_loss: 0.4647 - val_accuracy: 0.8009\n",
      "Epoch 4/25\n",
      "60/60 [==============================] - 1s 9ms/step - loss: 0.4636 - accuracy: 0.8072 - val_loss: 0.4678 - val_accuracy: 0.8027\n",
      "Epoch 5/25\n",
      "60/60 [==============================] - 1s 10ms/step - loss: 0.4359 - accuracy: 0.8227 - val_loss: 0.4544 - val_accuracy: 0.8098\n",
      "Epoch 6/25\n",
      "60/60 [==============================] - 1s 9ms/step - loss: 0.4378 - accuracy: 0.8199 - val_loss: 0.4648 - val_accuracy: 0.8039\n",
      "Epoch 7/25\n",
      "60/60 [==============================] - 1s 9ms/step - loss: 0.4158 - accuracy: 0.8279 - val_loss: 0.4580 - val_accuracy: 0.8068\n",
      "Epoch 8/25\n",
      "60/60 [==============================] - 1s 9ms/step - loss: 0.4074 - accuracy: 0.8323 - val_loss: 0.4620 - val_accuracy: 0.8118\n",
      "Epoch 9/25\n",
      "60/60 [==============================] - 1s 9ms/step - loss: 0.3857 - accuracy: 0.8363 - val_loss: 0.4588 - val_accuracy: 0.8115\n",
      "Epoch 10/25\n",
      "60/60 [==============================] - 1s 9ms/step - loss: 0.3922 - accuracy: 0.8344 - val_loss: 0.4647 - val_accuracy: 0.8104\n",
      "Epoch 11/25\n",
      "60/60 [==============================] - 1s 9ms/step - loss: 0.3582 - accuracy: 0.8423 - val_loss: 0.4889 - val_accuracy: 0.8057\n",
      "Epoch 1/25\n",
      "60/60 [==============================] - 3s 17ms/step - loss: 1.1976 - accuracy: 0.2088 - val_loss: 1.0450 - val_accuracy: 0.6004\n",
      "Epoch 2/25\n",
      "60/60 [==============================] - 1s 10ms/step - loss: 1.0201 - accuracy: 0.5789 - val_loss: 0.8628 - val_accuracy: 0.7615\n",
      "Epoch 3/25\n",
      "60/60 [==============================] - 1s 9ms/step - loss: 0.8281 - accuracy: 0.7315 - val_loss: 0.6679 - val_accuracy: 0.7621\n",
      "Epoch 4/25\n",
      "60/60 [==============================] - 1s 9ms/step - loss: 0.6991 - accuracy: 0.7518 - val_loss: 0.5932 - val_accuracy: 0.7644\n",
      "Epoch 5/25\n",
      "60/60 [==============================] - 1s 10ms/step - loss: 0.6333 - accuracy: 0.7569 - val_loss: 0.5406 - val_accuracy: 0.7747\n",
      "Epoch 6/25\n",
      "60/60 [==============================] - 1s 10ms/step - loss: 0.5933 - accuracy: 0.7685 - val_loss: 0.5158 - val_accuracy: 0.7803\n",
      "Epoch 7/25\n",
      "60/60 [==============================] - 1s 10ms/step - loss: 0.5696 - accuracy: 0.7791 - val_loss: 0.5043 - val_accuracy: 0.7845\n",
      "Epoch 8/25\n",
      "60/60 [==============================] - 1s 9ms/step - loss: 0.5589 - accuracy: 0.7779 - val_loss: 0.4969 - val_accuracy: 0.7909\n",
      "Epoch 9/25\n",
      "60/60 [==============================] - 1s 9ms/step - loss: 0.5327 - accuracy: 0.7879 - val_loss: 0.4908 - val_accuracy: 0.7951\n",
      "Epoch 10/25\n",
      "60/60 [==============================] - 1s 9ms/step - loss: 0.5270 - accuracy: 0.7886 - val_loss: 0.4893 - val_accuracy: 0.7977\n",
      "Epoch 11/25\n",
      "60/60 [==============================] - 1s 10ms/step - loss: 0.5153 - accuracy: 0.7927 - val_loss: 0.4838 - val_accuracy: 0.8001\n",
      "Epoch 12/25\n",
      "60/60 [==============================] - 1s 9ms/step - loss: 0.5189 - accuracy: 0.7972 - val_loss: 0.4799 - val_accuracy: 0.8009\n",
      "Epoch 13/25\n",
      "60/60 [==============================] - 1s 9ms/step - loss: 0.5104 - accuracy: 0.7986 - val_loss: 0.4775 - val_accuracy: 0.7971\n",
      "Epoch 14/25\n",
      "60/60 [==============================] - 1s 9ms/step - loss: 0.5108 - accuracy: 0.7958 - val_loss: 0.4739 - val_accuracy: 0.7998\n",
      "Epoch 15/25\n",
      "60/60 [==============================] - 1s 9ms/step - loss: 0.5096 - accuracy: 0.7947 - val_loss: 0.4744 - val_accuracy: 0.7995\n",
      "Epoch 1/25\n",
      "60/60 [==============================] - 3s 17ms/step - loss: 0.6445 - accuracy: 0.7382 - val_loss: 0.5072 - val_accuracy: 0.7792\n",
      "Epoch 2/25\n",
      "60/60 [==============================] - 1s 9ms/step - loss: 0.4927 - accuracy: 0.7885 - val_loss: 0.4707 - val_accuracy: 0.7989\n",
      "Epoch 3/25\n",
      "60/60 [==============================] - 1s 9ms/step - loss: 0.4439 - accuracy: 0.8088 - val_loss: 0.4727 - val_accuracy: 0.8118\n",
      "Epoch 4/25\n",
      "60/60 [==============================] - 1s 10ms/step - loss: 0.4239 - accuracy: 0.8207 - val_loss: 0.4787 - val_accuracy: 0.8086\n",
      "Epoch 5/25\n",
      "60/60 [==============================] - 1s 9ms/step - loss: 0.3877 - accuracy: 0.8269 - val_loss: 0.4663 - val_accuracy: 0.8107\n",
      "Epoch 6/25\n",
      "60/60 [==============================] - 1s 9ms/step - loss: 0.3651 - accuracy: 0.8351 - val_loss: 0.5320 - val_accuracy: 0.8080\n",
      "Epoch 1/25\n",
      "60/60 [==============================] - 3s 17ms/step - loss: 0.8461 - accuracy: 0.5871 - val_loss: 0.5004 - val_accuracy: 0.7939\n",
      "Epoch 2/25\n",
      "60/60 [==============================] - 1s 9ms/step - loss: 0.5842 - accuracy: 0.7722 - val_loss: 0.4811 - val_accuracy: 0.7989\n",
      "Epoch 3/25\n",
      "60/60 [==============================] - 1s 9ms/step - loss: 0.5294 - accuracy: 0.8044 - val_loss: 0.4672 - val_accuracy: 0.8039\n",
      "Epoch 4/25\n",
      "60/60 [==============================] - 1s 9ms/step - loss: 0.5018 - accuracy: 0.8137 - val_loss: 0.4622 - val_accuracy: 0.8030\n",
      "Epoch 5/25\n",
      "60/60 [==============================] - 1s 9ms/step - loss: 0.4833 - accuracy: 0.8160 - val_loss: 0.4582 - val_accuracy: 0.8107\n",
      "Epoch 6/25\n",
      "60/60 [==============================] - 1s 10ms/step - loss: 0.4573 - accuracy: 0.8218 - val_loss: 0.4466 - val_accuracy: 0.8136\n",
      "Epoch 7/25\n",
      "60/60 [==============================] - 1s 9ms/step - loss: 0.4401 - accuracy: 0.8304 - val_loss: 0.4601 - val_accuracy: 0.8112\n",
      "Epoch 8/25\n",
      "60/60 [==============================] - 1s 10ms/step - loss: 0.4277 - accuracy: 0.8332 - val_loss: 0.4553 - val_accuracy: 0.8110\n",
      "Epoch 9/25\n",
      "60/60 [==============================] - 1s 9ms/step - loss: 0.4264 - accuracy: 0.8328 - val_loss: 0.4653 - val_accuracy: 0.8160\n",
      "Epoch 10/25\n",
      "60/60 [==============================] - 1s 9ms/step - loss: 0.3959 - accuracy: 0.8444 - val_loss: 0.4650 - val_accuracy: 0.8077\n",
      "Epoch 11/25\n",
      "60/60 [==============================] - 1s 9ms/step - loss: 0.3910 - accuracy: 0.8375 - val_loss: 0.4680 - val_accuracy: 0.8110\n",
      "Epoch 12/25\n",
      "60/60 [==============================] - 1s 10ms/step - loss: 0.3728 - accuracy: 0.8421 - val_loss: 0.4783 - val_accuracy: 0.8107\n",
      "Epoch 1/25\n",
      "60/60 [==============================] - 2s 17ms/step - loss: 1.0826 - accuracy: 0.3349 - val_loss: 0.8542 - val_accuracy: 0.7473\n",
      "Epoch 2/25\n",
      "60/60 [==============================] - 1s 10ms/step - loss: 0.8681 - accuracy: 0.6190 - val_loss: 0.6588 - val_accuracy: 0.7630\n",
      "Epoch 3/25\n",
      "60/60 [==============================] - 1s 9ms/step - loss: 0.7670 - accuracy: 0.6574 - val_loss: 0.5835 - val_accuracy: 0.7674\n",
      "Epoch 4/25\n",
      "60/60 [==============================] - 1s 9ms/step - loss: 0.6915 - accuracy: 0.6881 - val_loss: 0.5410 - val_accuracy: 0.7700\n",
      "Epoch 5/25\n",
      "60/60 [==============================] - 1s 10ms/step - loss: 0.6652 - accuracy: 0.6929 - val_loss: 0.5291 - val_accuracy: 0.7747\n",
      "Epoch 6/25\n",
      "60/60 [==============================] - 1s 10ms/step - loss: 0.6548 - accuracy: 0.7206 - val_loss: 0.5126 - val_accuracy: 0.7786\n",
      "Epoch 7/25\n",
      "60/60 [==============================] - 1s 9ms/step - loss: 0.6243 - accuracy: 0.7241 - val_loss: 0.5068 - val_accuracy: 0.7809\n",
      "Epoch 8/25\n",
      "60/60 [==============================] - 1s 9ms/step - loss: 0.6140 - accuracy: 0.7269 - val_loss: 0.5073 - val_accuracy: 0.7842\n",
      "Epoch 9/25\n",
      "60/60 [==============================] - 1s 9ms/step - loss: 0.6274 - accuracy: 0.7116 - val_loss: 0.4961 - val_accuracy: 0.7862\n",
      "Epoch 10/25\n",
      "60/60 [==============================] - 1s 9ms/step - loss: 0.6050 - accuracy: 0.7239 - val_loss: 0.4901 - val_accuracy: 0.7874\n",
      "Epoch 11/25\n",
      "60/60 [==============================] - 1s 9ms/step - loss: 0.5930 - accuracy: 0.7277 - val_loss: 0.4929 - val_accuracy: 0.7921\n",
      "Epoch 12/25\n",
      "60/60 [==============================] - 1s 9ms/step - loss: 0.5791 - accuracy: 0.7424 - val_loss: 0.4858 - val_accuracy: 0.7933\n",
      "Epoch 13/25\n",
      "60/60 [==============================] - 1s 9ms/step - loss: 0.5684 - accuracy: 0.7397 - val_loss: 0.4873 - val_accuracy: 0.7980\n",
      "Epoch 14/25\n",
      "60/60 [==============================] - 1s 9ms/step - loss: 0.5752 - accuracy: 0.7419 - val_loss: 0.4878 - val_accuracy: 0.7968\n",
      "Epoch 15/25\n",
      "60/60 [==============================] - 1s 9ms/step - loss: 0.5542 - accuracy: 0.7600 - val_loss: 0.4807 - val_accuracy: 0.7959\n",
      "Epoch 16/25\n",
      "60/60 [==============================] - 1s 9ms/step - loss: 0.5574 - accuracy: 0.7537 - val_loss: 0.4761 - val_accuracy: 0.8001\n",
      "Epoch 17/25\n",
      "60/60 [==============================] - 1s 9ms/step - loss: 0.5559 - accuracy: 0.7623 - val_loss: 0.4745 - val_accuracy: 0.8012\n",
      "Epoch 18/25\n",
      "60/60 [==============================] - 1s 9ms/step - loss: 0.5450 - accuracy: 0.7762 - val_loss: 0.4741 - val_accuracy: 0.7992\n",
      "Epoch 19/25\n",
      "60/60 [==============================] - 1s 9ms/step - loss: 0.5329 - accuracy: 0.7798 - val_loss: 0.4712 - val_accuracy: 0.8015\n",
      "Epoch 20/25\n",
      "60/60 [==============================] - 1s 9ms/step - loss: 0.5307 - accuracy: 0.7839 - val_loss: 0.4705 - val_accuracy: 0.8042\n",
      "Epoch 21/25\n",
      "60/60 [==============================] - 1s 9ms/step - loss: 0.5301 - accuracy: 0.7806 - val_loss: 0.4690 - val_accuracy: 0.8045\n",
      "Epoch 22/25\n",
      "60/60 [==============================] - 1s 9ms/step - loss: 0.5206 - accuracy: 0.7856 - val_loss: 0.4697 - val_accuracy: 0.8030\n",
      "Epoch 23/25\n",
      "60/60 [==============================] - 1s 9ms/step - loss: 0.5095 - accuracy: 0.7910 - val_loss: 0.4688 - val_accuracy: 0.8039\n",
      "Epoch 24/25\n",
      "60/60 [==============================] - 1s 9ms/step - loss: 0.5269 - accuracy: 0.7883 - val_loss: 0.4656 - val_accuracy: 0.8065\n",
      "Epoch 25/25\n",
      "60/60 [==============================] - 1s 9ms/step - loss: 0.5072 - accuracy: 0.7891 - val_loss: 0.4655 - val_accuracy: 0.8065\n",
      "Epoch 1/25\n",
      "60/60 [==============================] - 3s 17ms/step - loss: 0.6370 - accuracy: 0.7594 - val_loss: 0.4818 - val_accuracy: 0.8015\n",
      "Epoch 2/25\n",
      "60/60 [==============================] - 1s 9ms/step - loss: 0.4669 - accuracy: 0.8016 - val_loss: 0.4647 - val_accuracy: 0.8124\n",
      "Epoch 3/25\n",
      "60/60 [==============================] - 1s 9ms/step - loss: 0.4180 - accuracy: 0.8206 - val_loss: 0.4525 - val_accuracy: 0.8104\n",
      "Epoch 4/25\n",
      "60/60 [==============================] - 1s 10ms/step - loss: 0.3921 - accuracy: 0.8352 - val_loss: 0.4663 - val_accuracy: 0.8101\n",
      "Epoch 5/25\n",
      "60/60 [==============================] - 1s 10ms/step - loss: 0.3593 - accuracy: 0.8391 - val_loss: 0.4804 - val_accuracy: 0.8092\n",
      "Epoch 1/25\n",
      "60/60 [==============================] - 3s 17ms/step - loss: 0.8255 - accuracy: 0.6585 - val_loss: 0.5150 - val_accuracy: 0.7915\n",
      "Epoch 2/25\n",
      "60/60 [==============================] - 1s 10ms/step - loss: 0.5176 - accuracy: 0.7896 - val_loss: 0.4777 - val_accuracy: 0.7980\n",
      "Epoch 3/25\n",
      "60/60 [==============================] - 1s 9ms/step - loss: 0.4739 - accuracy: 0.8060 - val_loss: 0.4661 - val_accuracy: 0.8048\n",
      "Epoch 4/25\n",
      "60/60 [==============================] - 1s 10ms/step - loss: 0.4484 - accuracy: 0.8175 - val_loss: 0.4551 - val_accuracy: 0.8110\n",
      "Epoch 5/25\n",
      "60/60 [==============================] - 1s 10ms/step - loss: 0.4311 - accuracy: 0.8221 - val_loss: 0.4499 - val_accuracy: 0.8104\n",
      "Epoch 6/25\n",
      "60/60 [==============================] - 1s 10ms/step - loss: 0.4128 - accuracy: 0.8313 - val_loss: 0.4452 - val_accuracy: 0.8130\n",
      "Epoch 7/25\n",
      "60/60 [==============================] - 1s 10ms/step - loss: 0.4036 - accuracy: 0.8347 - val_loss: 0.4495 - val_accuracy: 0.8110\n",
      "Epoch 8/25\n",
      "60/60 [==============================] - 1s 9ms/step - loss: 0.4029 - accuracy: 0.8330 - val_loss: 0.4431 - val_accuracy: 0.8121\n",
      "Epoch 9/25\n",
      "60/60 [==============================] - 1s 10ms/step - loss: 0.3701 - accuracy: 0.8488 - val_loss: 0.4561 - val_accuracy: 0.8118\n",
      "Epoch 1/25\n",
      "60/60 [==============================] - 3s 17ms/step - loss: 1.0638 - accuracy: 0.4196 - val_loss: 0.9302 - val_accuracy: 0.7438\n",
      "Epoch 2/25\n",
      "60/60 [==============================] - 1s 10ms/step - loss: 0.8697 - accuracy: 0.7267 - val_loss: 0.6676 - val_accuracy: 0.7621\n",
      "Epoch 3/25\n",
      "60/60 [==============================] - 1s 10ms/step - loss: 0.6505 - accuracy: 0.7709 - val_loss: 0.5471 - val_accuracy: 0.7665\n",
      "Epoch 4/25\n",
      "60/60 [==============================] - 1s 10ms/step - loss: 0.5621 - accuracy: 0.7798 - val_loss: 0.5163 - val_accuracy: 0.7771\n",
      "Epoch 5/25\n",
      "60/60 [==============================] - 1s 10ms/step - loss: 0.5403 - accuracy: 0.7780 - val_loss: 0.5046 - val_accuracy: 0.7850\n",
      "Epoch 6/25\n",
      "60/60 [==============================] - 1s 10ms/step - loss: 0.5231 - accuracy: 0.7890 - val_loss: 0.4961 - val_accuracy: 0.7877\n",
      "Epoch 7/25\n",
      "60/60 [==============================] - 1s 10ms/step - loss: 0.5000 - accuracy: 0.7898 - val_loss: 0.4950 - val_accuracy: 0.7915\n",
      "Epoch 8/25\n",
      "60/60 [==============================] - 1s 10ms/step - loss: 0.4965 - accuracy: 0.7851 - val_loss: 0.4889 - val_accuracy: 0.7939\n",
      "Epoch 9/25\n",
      "60/60 [==============================] - 1s 10ms/step - loss: 0.4939 - accuracy: 0.7947 - val_loss: 0.4849 - val_accuracy: 0.7956\n",
      "Epoch 10/25\n",
      "60/60 [==============================] - 1s 10ms/step - loss: 0.4775 - accuracy: 0.8016 - val_loss: 0.4841 - val_accuracy: 0.7992\n",
      "Epoch 11/25\n",
      "60/60 [==============================] - 1s 9ms/step - loss: 0.4866 - accuracy: 0.7947 - val_loss: 0.4806 - val_accuracy: 0.7992\n",
      "Epoch 12/25\n",
      "60/60 [==============================] - 1s 10ms/step - loss: 0.4701 - accuracy: 0.8051 - val_loss: 0.4789 - val_accuracy: 0.8021\n",
      "Epoch 13/25\n",
      "60/60 [==============================] - 1s 10ms/step - loss: 0.4732 - accuracy: 0.8019 - val_loss: 0.4755 - val_accuracy: 0.8021\n",
      "Epoch 14/25\n",
      "60/60 [==============================] - 1s 10ms/step - loss: 0.4666 - accuracy: 0.8017 - val_loss: 0.4738 - val_accuracy: 0.8027\n",
      "Epoch 15/25\n",
      "60/60 [==============================] - 1s 9ms/step - loss: 0.4489 - accuracy: 0.8097 - val_loss: 0.4725 - val_accuracy: 0.8036\n",
      "Epoch 16/25\n",
      "60/60 [==============================] - 1s 10ms/step - loss: 0.4631 - accuracy: 0.8071 - val_loss: 0.4741 - val_accuracy: 0.8036\n",
      "Epoch 17/25\n",
      "60/60 [==============================] - 1s 9ms/step - loss: 0.4665 - accuracy: 0.8034 - val_loss: 0.4682 - val_accuracy: 0.8065\n",
      "Epoch 18/25\n",
      "60/60 [==============================] - 1s 10ms/step - loss: 0.4598 - accuracy: 0.8047 - val_loss: 0.4676 - val_accuracy: 0.8065\n",
      "Epoch 19/25\n",
      "60/60 [==============================] - 1s 10ms/step - loss: 0.4404 - accuracy: 0.8159 - val_loss: 0.4693 - val_accuracy: 0.8068\n",
      "Epoch 20/25\n",
      "60/60 [==============================] - 1s 10ms/step - loss: 0.4459 - accuracy: 0.8120 - val_loss: 0.4657 - val_accuracy: 0.8077\n",
      "Epoch 21/25\n",
      "60/60 [==============================] - 1s 10ms/step - loss: 0.4399 - accuracy: 0.8129 - val_loss: 0.4666 - val_accuracy: 0.8057\n",
      "Epoch 22/25\n",
      "60/60 [==============================] - 1s 10ms/step - loss: 0.4375 - accuracy: 0.8114 - val_loss: 0.4653 - val_accuracy: 0.8051\n",
      "Epoch 23/25\n",
      "60/60 [==============================] - 1s 9ms/step - loss: 0.4392 - accuracy: 0.8160 - val_loss: 0.4651 - val_accuracy: 0.8074\n",
      "Epoch 1/25\n",
      "60/60 [==============================] - 3s 17ms/step - loss: 0.6906 - accuracy: 0.7094 - val_loss: 0.4747 - val_accuracy: 0.8059\n",
      "Epoch 2/25\n",
      "60/60 [==============================] - 1s 10ms/step - loss: 0.4774 - accuracy: 0.7976 - val_loss: 0.4645 - val_accuracy: 0.8083\n",
      "Epoch 3/25\n",
      "60/60 [==============================] - 1s 10ms/step - loss: 0.4368 - accuracy: 0.8123 - val_loss: 0.4587 - val_accuracy: 0.8133\n",
      "Epoch 4/25\n",
      "60/60 [==============================] - 1s 10ms/step - loss: 0.3958 - accuracy: 0.8273 - val_loss: 0.4872 - val_accuracy: 0.7956\n",
      "Epoch 5/25\n",
      "60/60 [==============================] - 1s 10ms/step - loss: 0.3740 - accuracy: 0.8338 - val_loss: 0.4861 - val_accuracy: 0.8095\n",
      "Epoch 6/25\n",
      "60/60 [==============================] - 1s 10ms/step - loss: 0.3585 - accuracy: 0.8386 - val_loss: 0.5013 - val_accuracy: 0.8118\n",
      "Epoch 1/25\n",
      "60/60 [==============================] - 3s 17ms/step - loss: 0.8457 - accuracy: 0.6110 - val_loss: 0.5272 - val_accuracy: 0.7638\n",
      "Epoch 2/25\n",
      "60/60 [==============================] - 1s 9ms/step - loss: 0.5525 - accuracy: 0.7739 - val_loss: 0.5052 - val_accuracy: 0.7718\n",
      "Epoch 3/25\n",
      "60/60 [==============================] - 1s 9ms/step - loss: 0.5163 - accuracy: 0.7832 - val_loss: 0.4824 - val_accuracy: 0.7989\n",
      "Epoch 4/25\n",
      "60/60 [==============================] - 1s 10ms/step - loss: 0.4752 - accuracy: 0.7983 - val_loss: 0.4793 - val_accuracy: 0.7995\n",
      "Epoch 5/25\n",
      "60/60 [==============================] - 1s 9ms/step - loss: 0.4684 - accuracy: 0.7990 - val_loss: 0.4683 - val_accuracy: 0.8065\n",
      "Epoch 6/25\n",
      "60/60 [==============================] - 1s 10ms/step - loss: 0.4493 - accuracy: 0.8004 - val_loss: 0.4612 - val_accuracy: 0.8051\n",
      "Epoch 7/25\n",
      "60/60 [==============================] - 1s 9ms/step - loss: 0.4333 - accuracy: 0.8151 - val_loss: 0.4716 - val_accuracy: 0.8130\n",
      "Epoch 8/25\n",
      "60/60 [==============================] - 1s 9ms/step - loss: 0.4208 - accuracy: 0.8184 - val_loss: 0.4640 - val_accuracy: 0.8121\n",
      "Epoch 9/25\n",
      "60/60 [==============================] - 1s 10ms/step - loss: 0.4027 - accuracy: 0.8269 - val_loss: 0.4634 - val_accuracy: 0.8133\n",
      "Epoch 10/25\n",
      "60/60 [==============================] - 1s 9ms/step - loss: 0.3856 - accuracy: 0.8335 - val_loss: 0.4786 - val_accuracy: 0.8127\n",
      "Epoch 11/25\n",
      "60/60 [==============================] - 1s 10ms/step - loss: 0.3662 - accuracy: 0.8460 - val_loss: 0.4975 - val_accuracy: 0.8130\n",
      "Epoch 12/25\n",
      "60/60 [==============================] - 1s 9ms/step - loss: 0.3447 - accuracy: 0.8498 - val_loss: 0.4866 - val_accuracy: 0.8098\n",
      "Epoch 1/25\n",
      "60/60 [==============================] - 3s 17ms/step - loss: 1.0221 - accuracy: 0.4894 - val_loss: 0.8539 - val_accuracy: 0.7609\n",
      "Epoch 2/25\n",
      "60/60 [==============================] - 1s 10ms/step - loss: 0.8272 - accuracy: 0.7142 - val_loss: 0.6515 - val_accuracy: 0.7650\n",
      "Epoch 3/25\n",
      "60/60 [==============================] - 1s 9ms/step - loss: 0.6701 - accuracy: 0.7404 - val_loss: 0.5470 - val_accuracy: 0.7753\n",
      "Epoch 4/25\n",
      "60/60 [==============================] - 1s 9ms/step - loss: 0.5965 - accuracy: 0.7564 - val_loss: 0.5174 - val_accuracy: 0.7756\n",
      "Epoch 5/25\n",
      "60/60 [==============================] - 1s 9ms/step - loss: 0.5756 - accuracy: 0.7665 - val_loss: 0.5052 - val_accuracy: 0.7786\n",
      "Epoch 6/25\n",
      "60/60 [==============================] - 1s 9ms/step - loss: 0.5559 - accuracy: 0.7814 - val_loss: 0.5013 - val_accuracy: 0.7833\n",
      "Epoch 7/25\n",
      "60/60 [==============================] - 1s 9ms/step - loss: 0.5332 - accuracy: 0.7827 - val_loss: 0.4946 - val_accuracy: 0.7806\n",
      "Epoch 8/25\n",
      "60/60 [==============================] - 1s 9ms/step - loss: 0.5284 - accuracy: 0.7877 - val_loss: 0.4907 - val_accuracy: 0.7827\n",
      "Epoch 9/25\n",
      "60/60 [==============================] - 1s 9ms/step - loss: 0.5160 - accuracy: 0.7908 - val_loss: 0.4886 - val_accuracy: 0.7812\n",
      "Epoch 1/25\n",
      "60/60 [==============================] - 3s 16ms/step - loss: 0.6752 - accuracy: 0.7278 - val_loss: 0.5158 - val_accuracy: 0.7621\n",
      "Epoch 2/25\n",
      "60/60 [==============================] - 1s 9ms/step - loss: 0.4894 - accuracy: 0.7889 - val_loss: 0.4825 - val_accuracy: 0.7942\n",
      "Epoch 3/25\n",
      "60/60 [==============================] - 1s 9ms/step - loss: 0.4654 - accuracy: 0.7956 - val_loss: 0.4709 - val_accuracy: 0.8095\n",
      "Epoch 4/25\n",
      "60/60 [==============================] - 1s 10ms/step - loss: 0.4167 - accuracy: 0.8185 - val_loss: 0.4916 - val_accuracy: 0.8139\n",
      "Epoch 5/25\n",
      "60/60 [==============================] - 1s 9ms/step - loss: 0.3868 - accuracy: 0.8221 - val_loss: 0.4682 - val_accuracy: 0.8148\n",
      "Epoch 6/25\n",
      "60/60 [==============================] - 1s 9ms/step - loss: 0.3698 - accuracy: 0.8276 - val_loss: 0.4940 - val_accuracy: 0.8160\n",
      "Epoch 7/25\n",
      "60/60 [==============================] - 1s 10ms/step - loss: 0.3467 - accuracy: 0.8385 - val_loss: 0.5693 - val_accuracy: 0.8001\n",
      "Epoch 8/25\n",
      "60/60 [==============================] - 1s 9ms/step - loss: 0.3221 - accuracy: 0.8493 - val_loss: 0.6134 - val_accuracy: 0.8086\n",
      "Epoch 9/25\n",
      "60/60 [==============================] - 1s 9ms/step - loss: 0.2878 - accuracy: 0.8626 - val_loss: 0.6374 - val_accuracy: 0.8024\n",
      "Epoch 1/25\n",
      "60/60 [==============================] - 3s 17ms/step - loss: 0.8599 - accuracy: 0.6091 - val_loss: 0.5558 - val_accuracy: 0.7809\n",
      "Epoch 2/25\n",
      "60/60 [==============================] - 1s 10ms/step - loss: 0.5642 - accuracy: 0.7750 - val_loss: 0.4803 - val_accuracy: 0.7977\n",
      "Epoch 3/25\n",
      "60/60 [==============================] - 1s 10ms/step - loss: 0.5064 - accuracy: 0.7972 - val_loss: 0.4853 - val_accuracy: 0.7959\n",
      "Epoch 4/25\n",
      "60/60 [==============================] - 1s 10ms/step - loss: 0.4974 - accuracy: 0.8009 - val_loss: 0.4711 - val_accuracy: 0.8065\n",
      "Epoch 5/25\n",
      "60/60 [==============================] - 1s 10ms/step - loss: 0.4623 - accuracy: 0.8096 - val_loss: 0.4748 - val_accuracy: 0.8054\n",
      "Epoch 6/25\n",
      "60/60 [==============================] - 1s 9ms/step - loss: 0.4436 - accuracy: 0.8091 - val_loss: 0.4583 - val_accuracy: 0.8086\n",
      "Epoch 7/25\n",
      "60/60 [==============================] - 1s 10ms/step - loss: 0.4214 - accuracy: 0.8264 - val_loss: 0.4561 - val_accuracy: 0.8136\n",
      "Epoch 8/25\n",
      "60/60 [==============================] - 1s 10ms/step - loss: 0.4170 - accuracy: 0.8254 - val_loss: 0.4632 - val_accuracy: 0.8112\n",
      "Epoch 9/25\n",
      "60/60 [==============================] - 1s 10ms/step - loss: 0.4110 - accuracy: 0.8219 - val_loss: 0.4636 - val_accuracy: 0.8089\n",
      "Epoch 10/25\n",
      "60/60 [==============================] - 1s 10ms/step - loss: 0.4037 - accuracy: 0.8256 - val_loss: 0.4583 - val_accuracy: 0.8148\n",
      "Epoch 11/25\n",
      "60/60 [==============================] - 1s 10ms/step - loss: 0.3802 - accuracy: 0.8348 - val_loss: 0.4981 - val_accuracy: 0.8098\n",
      "Epoch 12/25\n",
      "60/60 [==============================] - 1s 10ms/step - loss: 0.3576 - accuracy: 0.8413 - val_loss: 0.4799 - val_accuracy: 0.8201\n",
      "Epoch 13/25\n",
      "60/60 [==============================] - 1s 10ms/step - loss: 0.3393 - accuracy: 0.8519 - val_loss: 0.4886 - val_accuracy: 0.8104\n",
      "Epoch 14/25\n",
      "60/60 [==============================] - 1s 10ms/step - loss: 0.3349 - accuracy: 0.8578 - val_loss: 0.5452 - val_accuracy: 0.8198\n",
      "Epoch 15/25\n",
      "60/60 [==============================] - 1s 10ms/step - loss: 0.3250 - accuracy: 0.8569 - val_loss: 0.5572 - val_accuracy: 0.8124\n",
      "Epoch 1/25\n",
      "60/60 [==============================] - 3s 18ms/step - loss: 1.1879 - accuracy: 0.1829 - val_loss: 1.0733 - val_accuracy: 0.3643\n",
      "Epoch 2/25\n",
      "60/60 [==============================] - 1s 10ms/step - loss: 1.0849 - accuracy: 0.3553 - val_loss: 0.9943 - val_accuracy: 0.7326\n",
      "Epoch 3/25\n",
      "60/60 [==============================] - 1s 10ms/step - loss: 1.0065 - accuracy: 0.5198 - val_loss: 0.8600 - val_accuracy: 0.7653\n",
      "Epoch 4/25\n",
      "60/60 [==============================] - 1s 11ms/step - loss: 0.8885 - accuracy: 0.6464 - val_loss: 0.7149 - val_accuracy: 0.7635\n",
      "Epoch 5/25\n",
      "60/60 [==============================] - 1s 10ms/step - loss: 0.7665 - accuracy: 0.7058 - val_loss: 0.5951 - val_accuracy: 0.7691\n",
      "Epoch 6/25\n",
      "60/60 [==============================] - 1s 10ms/step - loss: 0.6901 - accuracy: 0.7282 - val_loss: 0.5535 - val_accuracy: 0.7827\n",
      "Epoch 7/25\n",
      "60/60 [==============================] - 1s 10ms/step - loss: 0.6323 - accuracy: 0.7451 - val_loss: 0.5211 - val_accuracy: 0.7821\n",
      "Epoch 8/25\n",
      "60/60 [==============================] - 1s 10ms/step - loss: 0.6029 - accuracy: 0.7688 - val_loss: 0.5095 - val_accuracy: 0.7847\n",
      "Epoch 9/25\n",
      "60/60 [==============================] - 1s 9ms/step - loss: 0.5825 - accuracy: 0.7676 - val_loss: 0.5019 - val_accuracy: 0.7877\n",
      "Epoch 10/25\n",
      "60/60 [==============================] - 1s 10ms/step - loss: 0.5675 - accuracy: 0.7702 - val_loss: 0.5052 - val_accuracy: 0.7924\n",
      "Epoch 11/25\n",
      "60/60 [==============================] - 1s 10ms/step - loss: 0.5729 - accuracy: 0.7747 - val_loss: 0.4935 - val_accuracy: 0.7912\n",
      "Epoch 12/25\n",
      "60/60 [==============================] - 1s 9ms/step - loss: 0.5519 - accuracy: 0.7808 - val_loss: 0.4915 - val_accuracy: 0.7921\n",
      "Epoch 13/25\n",
      "60/60 [==============================] - 1s 9ms/step - loss: 0.5412 - accuracy: 0.7843 - val_loss: 0.4889 - val_accuracy: 0.7924\n",
      "Epoch 1/25\n",
      "60/60 [==============================] - 3s 17ms/step - loss: 0.7371 - accuracy: 0.6848 - val_loss: 0.5236 - val_accuracy: 0.7624\n",
      "Epoch 2/25\n",
      "60/60 [==============================] - 1s 9ms/step - loss: 0.5172 - accuracy: 0.7795 - val_loss: 0.5113 - val_accuracy: 0.7839\n",
      "Epoch 3/25\n",
      "60/60 [==============================] - 1s 10ms/step - loss: 0.4894 - accuracy: 0.7903 - val_loss: 0.4913 - val_accuracy: 0.8054\n",
      "Epoch 4/25\n",
      "60/60 [==============================] - 1s 10ms/step - loss: 0.4480 - accuracy: 0.8066 - val_loss: 0.4822 - val_accuracy: 0.8077\n",
      "Epoch 5/25\n",
      "60/60 [==============================] - 1s 10ms/step - loss: 0.4356 - accuracy: 0.8037 - val_loss: 0.4982 - val_accuracy: 0.8083\n",
      "Epoch 6/25\n",
      "60/60 [==============================] - 1s 10ms/step - loss: 0.4205 - accuracy: 0.8050 - val_loss: 0.5221 - val_accuracy: 0.8086\n",
      "Epoch 7/25\n",
      "60/60 [==============================] - 1s 10ms/step - loss: 0.4039 - accuracy: 0.8111 - val_loss: 0.5166 - val_accuracy: 0.7965\n",
      "Epoch 8/25\n",
      "60/60 [==============================] - 1s 10ms/step - loss: 0.4159 - accuracy: 0.8132 - val_loss: 0.5144 - val_accuracy: 0.8001\n",
      "Epoch 9/25\n",
      "60/60 [==============================] - 1s 10ms/step - loss: 0.3680 - accuracy: 0.8247 - val_loss: 0.5810 - val_accuracy: 0.8039\n",
      "Epoch 1/25\n",
      "60/60 [==============================] - 3s 17ms/step - loss: 0.9409 - accuracy: 0.5327 - val_loss: 0.5322 - val_accuracy: 0.7647\n",
      "Epoch 2/25\n",
      "60/60 [==============================] - 1s 10ms/step - loss: 0.5812 - accuracy: 0.7663 - val_loss: 0.4987 - val_accuracy: 0.7641\n",
      "Epoch 3/25\n",
      "60/60 [==============================] - 1s 10ms/step - loss: 0.5476 - accuracy: 0.7789 - val_loss: 0.4892 - val_accuracy: 0.7818\n",
      "Epoch 4/25\n",
      "60/60 [==============================] - 1s 9ms/step - loss: 0.5205 - accuracy: 0.7884 - val_loss: 0.4831 - val_accuracy: 0.7989\n",
      "Epoch 5/25\n",
      "60/60 [==============================] - 1s 10ms/step - loss: 0.4851 - accuracy: 0.7950 - val_loss: 0.4802 - val_accuracy: 0.8036\n",
      "Epoch 6/25\n",
      "60/60 [==============================] - 1s 10ms/step - loss: 0.4678 - accuracy: 0.7994 - val_loss: 0.4680 - val_accuracy: 0.8068\n",
      "Epoch 7/25\n",
      "60/60 [==============================] - 1s 10ms/step - loss: 0.4463 - accuracy: 0.8088 - val_loss: 0.4640 - val_accuracy: 0.8089\n",
      "Epoch 8/25\n",
      "60/60 [==============================] - 1s 10ms/step - loss: 0.4356 - accuracy: 0.8150 - val_loss: 0.4686 - val_accuracy: 0.8051\n",
      "Epoch 9/25\n",
      "60/60 [==============================] - 1s 10ms/step - loss: 0.4298 - accuracy: 0.8143 - val_loss: 0.4995 - val_accuracy: 0.8098\n",
      "Epoch 10/25\n",
      "60/60 [==============================] - 1s 10ms/step - loss: 0.4247 - accuracy: 0.8157 - val_loss: 0.5139 - val_accuracy: 0.8163\n",
      "Epoch 11/25\n",
      "60/60 [==============================] - 1s 10ms/step - loss: 0.4233 - accuracy: 0.8166 - val_loss: 0.4708 - val_accuracy: 0.8092\n",
      "Epoch 12/25\n",
      "60/60 [==============================] - 1s 10ms/step - loss: 0.4047 - accuracy: 0.8213 - val_loss: 0.5044 - val_accuracy: 0.8127\n",
      "Epoch 13/25\n",
      "60/60 [==============================] - 1s 10ms/step - loss: 0.3880 - accuracy: 0.8228 - val_loss: 0.5064 - val_accuracy: 0.8154\n",
      "Epoch 1/25\n",
      "60/60 [==============================] - 3s 18ms/step - loss: 1.1209 - accuracy: 0.3048 - val_loss: 0.8980 - val_accuracy: 0.7329\n",
      "Epoch 2/25\n",
      "60/60 [==============================] - 1s 10ms/step - loss: 0.9499 - accuracy: 0.5010 - val_loss: 0.7308 - val_accuracy: 0.7627\n",
      "Epoch 3/25\n",
      "60/60 [==============================] - 1s 10ms/step - loss: 0.8735 - accuracy: 0.5671 - val_loss: 0.6609 - val_accuracy: 0.7621\n",
      "Epoch 4/25\n",
      "60/60 [==============================] - 1s 10ms/step - loss: 0.8033 - accuracy: 0.6155 - val_loss: 0.6023 - val_accuracy: 0.7647\n",
      "Epoch 5/25\n",
      "60/60 [==============================] - 1s 10ms/step - loss: 0.7438 - accuracy: 0.6477 - val_loss: 0.5582 - val_accuracy: 0.7647\n",
      "Epoch 6/25\n",
      "60/60 [==============================] - 1s 10ms/step - loss: 0.7242 - accuracy: 0.6616 - val_loss: 0.5371 - val_accuracy: 0.7659\n",
      "Epoch 7/25\n",
      "60/60 [==============================] - 1s 10ms/step - loss: 0.6930 - accuracy: 0.6893 - val_loss: 0.5088 - val_accuracy: 0.7656\n",
      "Epoch 8/25\n",
      "60/60 [==============================] - 1s 10ms/step - loss: 0.6719 - accuracy: 0.7029 - val_loss: 0.5069 - val_accuracy: 0.7694\n",
      "Epoch 9/25\n",
      "60/60 [==============================] - 1s 10ms/step - loss: 0.6635 - accuracy: 0.7162 - val_loss: 0.5030 - val_accuracy: 0.7712\n",
      "Epoch 10/25\n",
      "60/60 [==============================] - 1s 10ms/step - loss: 0.6380 - accuracy: 0.7297 - val_loss: 0.4974 - val_accuracy: 0.7756\n",
      "Epoch 11/25\n",
      "60/60 [==============================] - 1s 10ms/step - loss: 0.6239 - accuracy: 0.7335 - val_loss: 0.4911 - val_accuracy: 0.7789\n",
      "Epoch 12/25\n",
      "60/60 [==============================] - 1s 10ms/step - loss: 0.6112 - accuracy: 0.7462 - val_loss: 0.4909 - val_accuracy: 0.7780\n",
      "Epoch 13/25\n",
      "60/60 [==============================] - 1s 10ms/step - loss: 0.5951 - accuracy: 0.7550 - val_loss: 0.4998 - val_accuracy: 0.7856\n",
      "Epoch 14/25\n",
      "60/60 [==============================] - 1s 10ms/step - loss: 0.6005 - accuracy: 0.7492 - val_loss: 0.4878 - val_accuracy: 0.7862\n",
      "Epoch 15/25\n",
      "60/60 [==============================] - 1s 10ms/step - loss: 0.5697 - accuracy: 0.7605 - val_loss: 0.4886 - val_accuracy: 0.7883\n",
      "Epoch 16/25\n",
      "60/60 [==============================] - 1s 10ms/step - loss: 0.5701 - accuracy: 0.7598 - val_loss: 0.4851 - val_accuracy: 0.7903\n",
      "Epoch 17/25\n",
      "60/60 [==============================] - 1s 9ms/step - loss: 0.5451 - accuracy: 0.7764 - val_loss: 0.4855 - val_accuracy: 0.7936\n",
      "Epoch 18/25\n",
      "60/60 [==============================] - 1s 10ms/step - loss: 0.5704 - accuracy: 0.7671 - val_loss: 0.4848 - val_accuracy: 0.7939\n",
      "Epoch 19/25\n",
      "60/60 [==============================] - 1s 10ms/step - loss: 0.5475 - accuracy: 0.7742 - val_loss: 0.4841 - val_accuracy: 0.7953\n",
      "Epoch 20/25\n",
      "60/60 [==============================] - 1s 10ms/step - loss: 0.5371 - accuracy: 0.7749 - val_loss: 0.4846 - val_accuracy: 0.7968\n",
      "Epoch 21/25\n",
      "60/60 [==============================] - 1s 9ms/step - loss: 0.5286 - accuracy: 0.7818 - val_loss: 0.4804 - val_accuracy: 0.7986\n",
      "Epoch 22/25\n",
      "60/60 [==============================] - 1s 10ms/step - loss: 0.5157 - accuracy: 0.7847 - val_loss: 0.4802 - val_accuracy: 0.8006\n",
      "Epoch 23/25\n",
      "60/60 [==============================] - 1s 10ms/step - loss: 0.5212 - accuracy: 0.7870 - val_loss: 0.4799 - val_accuracy: 0.8009\n",
      "Epoch 24/25\n",
      "60/60 [==============================] - 1s 10ms/step - loss: 0.5194 - accuracy: 0.7788 - val_loss: 0.4804 - val_accuracy: 0.8001\n",
      "Epoch 25/25\n",
      "60/60 [==============================] - 1s 10ms/step - loss: 0.5217 - accuracy: 0.7790 - val_loss: 0.4795 - val_accuracy: 0.8004\n",
      "Epoch 1/25\n",
      "60/60 [==============================] - 3s 18ms/step - loss: 0.6369 - accuracy: 0.7631 - val_loss: 0.4835 - val_accuracy: 0.8012\n",
      "Epoch 2/25\n",
      "60/60 [==============================] - 1s 10ms/step - loss: 0.4639 - accuracy: 0.8061 - val_loss: 0.4694 - val_accuracy: 0.8021\n",
      "Epoch 3/25\n",
      "60/60 [==============================] - 1s 10ms/step - loss: 0.4359 - accuracy: 0.8021 - val_loss: 0.4767 - val_accuracy: 0.8068\n",
      "Epoch 4/25\n",
      "60/60 [==============================] - 1s 10ms/step - loss: 0.4036 - accuracy: 0.8155 - val_loss: 0.4644 - val_accuracy: 0.8057\n",
      "Epoch 5/25\n",
      "60/60 [==============================] - 1s 10ms/step - loss: 0.3880 - accuracy: 0.8169 - val_loss: 0.5175 - val_accuracy: 0.8086\n",
      "Epoch 6/25\n",
      "60/60 [==============================] - 1s 10ms/step - loss: 0.3702 - accuracy: 0.8336 - val_loss: 0.5555 - val_accuracy: 0.8127\n",
      "Epoch 7/25\n",
      "60/60 [==============================] - 1s 10ms/step - loss: 0.3250 - accuracy: 0.8528 - val_loss: 0.5922 - val_accuracy: 0.8139\n",
      "Epoch 8/25\n",
      "60/60 [==============================] - 1s 10ms/step - loss: 0.2998 - accuracy: 0.8591 - val_loss: 0.5847 - val_accuracy: 0.7959\n",
      "Epoch 9/25\n",
      "60/60 [==============================] - 1s 10ms/step - loss: 0.2920 - accuracy: 0.8729 - val_loss: 0.6512 - val_accuracy: 0.7986\n",
      "Epoch 10/25\n",
      "60/60 [==============================] - 1s 10ms/step - loss: 0.2652 - accuracy: 0.8859 - val_loss: 0.6079 - val_accuracy: 0.7821\n",
      "Epoch 1/25\n",
      "60/60 [==============================] - 3s 18ms/step - loss: 0.8965 - accuracy: 0.5539 - val_loss: 0.5198 - val_accuracy: 0.7842\n",
      "Epoch 2/25\n",
      "60/60 [==============================] - 1s 10ms/step - loss: 0.5196 - accuracy: 0.7911 - val_loss: 0.4781 - val_accuracy: 0.8071\n",
      "Epoch 3/25\n",
      "60/60 [==============================] - 1s 10ms/step - loss: 0.4725 - accuracy: 0.8075 - val_loss: 0.4780 - val_accuracy: 0.8024\n",
      "Epoch 4/25\n",
      "60/60 [==============================] - 1s 10ms/step - loss: 0.4619 - accuracy: 0.8094 - val_loss: 0.4621 - val_accuracy: 0.8074\n",
      "Epoch 5/25\n",
      "60/60 [==============================] - 1s 10ms/step - loss: 0.4366 - accuracy: 0.8171 - val_loss: 0.4651 - val_accuracy: 0.8059\n",
      "Epoch 6/25\n",
      "60/60 [==============================] - 1s 10ms/step - loss: 0.4302 - accuracy: 0.8195 - val_loss: 0.4544 - val_accuracy: 0.8107\n",
      "Epoch 7/25\n",
      "60/60 [==============================] - 1s 10ms/step - loss: 0.3993 - accuracy: 0.8323 - val_loss: 0.4641 - val_accuracy: 0.8130\n",
      "Epoch 8/25\n",
      "60/60 [==============================] - 1s 10ms/step - loss: 0.3899 - accuracy: 0.8331 - val_loss: 0.4715 - val_accuracy: 0.8163\n",
      "Epoch 9/25\n",
      "60/60 [==============================] - 1s 10ms/step - loss: 0.3860 - accuracy: 0.8389 - val_loss: 0.4847 - val_accuracy: 0.7959\n",
      "Epoch 10/25\n",
      "60/60 [==============================] - 1s 10ms/step - loss: 0.3605 - accuracy: 0.8463 - val_loss: 0.4652 - val_accuracy: 0.8121\n",
      "Epoch 11/25\n",
      "60/60 [==============================] - 1s 10ms/step - loss: 0.3448 - accuracy: 0.8537 - val_loss: 0.4873 - val_accuracy: 0.8074\n",
      "Epoch 1/25\n",
      "60/60 [==============================] - 3s 17ms/step - loss: 1.1048 - accuracy: 0.2432 - val_loss: 0.9766 - val_accuracy: 0.7356\n",
      "Epoch 2/25\n",
      "60/60 [==============================] - 1s 10ms/step - loss: 0.9365 - accuracy: 0.6063 - val_loss: 0.6886 - val_accuracy: 0.7621\n",
      "Epoch 3/25\n",
      "60/60 [==============================] - 1s 10ms/step - loss: 0.7277 - accuracy: 0.7166 - val_loss: 0.5566 - val_accuracy: 0.7641\n",
      "Epoch 4/25\n",
      "60/60 [==============================] - 1s 10ms/step - loss: 0.6029 - accuracy: 0.7493 - val_loss: 0.5236 - val_accuracy: 0.7630\n",
      "Epoch 5/25\n",
      "60/60 [==============================] - 1s 10ms/step - loss: 0.5783 - accuracy: 0.7542 - val_loss: 0.5117 - val_accuracy: 0.7650\n",
      "Epoch 6/25\n",
      "60/60 [==============================] - 1s 10ms/step - loss: 0.5675 - accuracy: 0.7512 - val_loss: 0.5040 - val_accuracy: 0.7677\n",
      "Epoch 7/25\n",
      "60/60 [==============================] - 1s 10ms/step - loss: 0.5411 - accuracy: 0.7573 - val_loss: 0.4998 - val_accuracy: 0.7680\n",
      "Epoch 8/25\n",
      "60/60 [==============================] - 1s 10ms/step - loss: 0.5334 - accuracy: 0.7640 - val_loss: 0.4962 - val_accuracy: 0.7683\n",
      "Epoch 9/25\n",
      "60/60 [==============================] - 1s 10ms/step - loss: 0.5222 - accuracy: 0.7688 - val_loss: 0.4926 - val_accuracy: 0.7709\n",
      "Epoch 10/25\n",
      "60/60 [==============================] - 1s 10ms/step - loss: 0.5293 - accuracy: 0.7778 - val_loss: 0.4917 - val_accuracy: 0.7741\n",
      "Epoch 11/25\n",
      "60/60 [==============================] - 1s 10ms/step - loss: 0.5035 - accuracy: 0.7836 - val_loss: 0.4911 - val_accuracy: 0.7753\n",
      "Epoch 12/25\n",
      "60/60 [==============================] - 1s 10ms/step - loss: 0.5024 - accuracy: 0.7844 - val_loss: 0.4874 - val_accuracy: 0.7756\n",
      "Epoch 13/25\n",
      "60/60 [==============================] - 1s 10ms/step - loss: 0.4896 - accuracy: 0.7950 - val_loss: 0.4835 - val_accuracy: 0.7824\n",
      "Epoch 14/25\n",
      "60/60 [==============================] - 1s 10ms/step - loss: 0.4840 - accuracy: 0.7950 - val_loss: 0.4815 - val_accuracy: 0.7912\n",
      "Epoch 15/25\n",
      "60/60 [==============================] - 1s 10ms/step - loss: 0.4805 - accuracy: 0.7914 - val_loss: 0.4796 - val_accuracy: 0.7962\n",
      "Epoch 16/25\n",
      "60/60 [==============================] - 1s 10ms/step - loss: 0.4719 - accuracy: 0.7990 - val_loss: 0.4774 - val_accuracy: 0.7951\n",
      "Epoch 17/25\n",
      "60/60 [==============================] - 1s 10ms/step - loss: 0.4646 - accuracy: 0.8010 - val_loss: 0.4743 - val_accuracy: 0.7965\n",
      "Epoch 18/25\n",
      "60/60 [==============================] - 1s 10ms/step - loss: 0.4626 - accuracy: 0.8035 - val_loss: 0.4772 - val_accuracy: 0.8006\n",
      "Epoch 19/25\n",
      "60/60 [==============================] - 1s 10ms/step - loss: 0.4525 - accuracy: 0.8082 - val_loss: 0.4723 - val_accuracy: 0.8021\n",
      "Epoch 20/25\n",
      "60/60 [==============================] - 1s 10ms/step - loss: 0.4536 - accuracy: 0.8102 - val_loss: 0.4691 - val_accuracy: 0.8030\n",
      "Epoch 21/25\n",
      "60/60 [==============================] - 1s 10ms/step - loss: 0.4412 - accuracy: 0.8108 - val_loss: 0.4844 - val_accuracy: 0.8039\n",
      "Epoch 22/25\n",
      "60/60 [==============================] - 1s 10ms/step - loss: 0.4479 - accuracy: 0.8117 - val_loss: 0.4706 - val_accuracy: 0.8036\n",
      "Epoch 23/25\n",
      "60/60 [==============================] - 1s 10ms/step - loss: 0.4333 - accuracy: 0.8196 - val_loss: 0.4669 - val_accuracy: 0.8006\n",
      "Epoch 24/25\n",
      "60/60 [==============================] - 1s 10ms/step - loss: 0.4399 - accuracy: 0.8149 - val_loss: 0.4662 - val_accuracy: 0.8015\n",
      "Epoch 1/25\n",
      "60/60 [==============================] - 3s 17ms/step - loss: 0.6651 - accuracy: 0.7266 - val_loss: 0.5158 - val_accuracy: 0.7768\n",
      "Epoch 2/25\n",
      "60/60 [==============================] - 1s 10ms/step - loss: 0.4832 - accuracy: 0.7895 - val_loss: 0.4788 - val_accuracy: 0.8095\n",
      "Epoch 3/25\n",
      "60/60 [==============================] - 1s 11ms/step - loss: 0.4406 - accuracy: 0.8095 - val_loss: 0.4785 - val_accuracy: 0.8101\n",
      "Epoch 4/25\n",
      "60/60 [==============================] - 1s 10ms/step - loss: 0.4311 - accuracy: 0.8094 - val_loss: 0.4815 - val_accuracy: 0.8092\n",
      "Epoch 5/25\n",
      "60/60 [==============================] - 1s 10ms/step - loss: 0.3870 - accuracy: 0.8236 - val_loss: 0.4866 - val_accuracy: 0.8077\n",
      "Epoch 6/25\n",
      "60/60 [==============================] - 1s 10ms/step - loss: 0.3610 - accuracy: 0.8396 - val_loss: 0.5249 - val_accuracy: 0.7983\n",
      "Epoch 1/25\n",
      "60/60 [==============================] - 3s 17ms/step - loss: 0.8286 - accuracy: 0.6612 - val_loss: 0.5113 - val_accuracy: 0.7827\n",
      "Epoch 2/25\n",
      "60/60 [==============================] - 1s 10ms/step - loss: 0.5233 - accuracy: 0.7882 - val_loss: 0.4983 - val_accuracy: 0.7912\n",
      "Epoch 3/25\n",
      "60/60 [==============================] - 1s 10ms/step - loss: 0.5024 - accuracy: 0.7925 - val_loss: 0.4858 - val_accuracy: 0.7962\n",
      "Epoch 4/25\n",
      "60/60 [==============================] - 1s 10ms/step - loss: 0.4792 - accuracy: 0.7983 - val_loss: 0.4850 - val_accuracy: 0.8068\n",
      "Epoch 5/25\n",
      "60/60 [==============================] - 1s 10ms/step - loss: 0.4561 - accuracy: 0.8065 - val_loss: 0.4711 - val_accuracy: 0.8083\n",
      "Epoch 6/25\n",
      "60/60 [==============================] - 1s 10ms/step - loss: 0.4329 - accuracy: 0.8164 - val_loss: 0.4648 - val_accuracy: 0.8124\n",
      "Epoch 7/25\n",
      "60/60 [==============================] - 1s 10ms/step - loss: 0.4186 - accuracy: 0.8185 - val_loss: 0.4589 - val_accuracy: 0.8154\n",
      "Epoch 8/25\n",
      "60/60 [==============================] - 1s 10ms/step - loss: 0.4139 - accuracy: 0.8216 - val_loss: 0.4682 - val_accuracy: 0.8112\n",
      "Epoch 9/25\n",
      "60/60 [==============================] - 1s 10ms/step - loss: 0.3916 - accuracy: 0.8289 - val_loss: 0.4711 - val_accuracy: 0.8068\n",
      "Epoch 10/25\n",
      "60/60 [==============================] - 1s 10ms/step - loss: 0.3861 - accuracy: 0.8271 - val_loss: 0.4798 - val_accuracy: 0.8142\n",
      "Epoch 1/25\n",
      "60/60 [==============================] - 3s 17ms/step - loss: 1.0225 - accuracy: 0.5546 - val_loss: 0.8476 - val_accuracy: 0.7621\n",
      "Epoch 2/25\n",
      "60/60 [==============================] - 1s 10ms/step - loss: 0.8164 - accuracy: 0.7338 - val_loss: 0.6217 - val_accuracy: 0.7621\n",
      "Epoch 3/25\n",
      "60/60 [==============================] - 1s 10ms/step - loss: 0.6731 - accuracy: 0.7576 - val_loss: 0.5453 - val_accuracy: 0.7624\n",
      "Epoch 4/25\n",
      "60/60 [==============================] - 1s 10ms/step - loss: 0.6096 - accuracy: 0.7641 - val_loss: 0.5198 - val_accuracy: 0.7624\n",
      "Epoch 5/25\n",
      "60/60 [==============================] - 1s 10ms/step - loss: 0.5732 - accuracy: 0.7728 - val_loss: 0.5129 - val_accuracy: 0.7647\n",
      "Epoch 6/25\n",
      "60/60 [==============================] - 1s 10ms/step - loss: 0.5559 - accuracy: 0.7689 - val_loss: 0.5000 - val_accuracy: 0.7686\n",
      "Epoch 7/25\n",
      "60/60 [==============================] - 1s 10ms/step - loss: 0.5328 - accuracy: 0.7802 - val_loss: 0.4947 - val_accuracy: 0.7756\n",
      "Epoch 8/25\n",
      "60/60 [==============================] - 1s 10ms/step - loss: 0.5283 - accuracy: 0.7839 - val_loss: 0.4922 - val_accuracy: 0.7789\n",
      "Epoch 9/25\n",
      "60/60 [==============================] - 1s 10ms/step - loss: 0.5176 - accuracy: 0.7845 - val_loss: 0.4897 - val_accuracy: 0.7839\n",
      "Epoch 10/25\n",
      "60/60 [==============================] - 1s 10ms/step - loss: 0.5045 - accuracy: 0.7957 - val_loss: 0.4869 - val_accuracy: 0.7909\n",
      "Epoch 11/25\n",
      "60/60 [==============================] - 1s 10ms/step - loss: 0.5182 - accuracy: 0.7859 - val_loss: 0.4847 - val_accuracy: 0.7948\n",
      "Epoch 12/25\n",
      "60/60 [==============================] - 1s 10ms/step - loss: 0.5120 - accuracy: 0.7850 - val_loss: 0.4834 - val_accuracy: 0.7968\n",
      "Epoch 13/25\n",
      "60/60 [==============================] - 1s 11ms/step - loss: 0.4869 - accuracy: 0.7979 - val_loss: 0.4824 - val_accuracy: 0.8004\n",
      "Epoch 14/25\n",
      "60/60 [==============================] - 1s 10ms/step - loss: 0.4767 - accuracy: 0.8009 - val_loss: 0.4795 - val_accuracy: 0.7986\n",
      "Epoch 15/25\n",
      "60/60 [==============================] - 1s 10ms/step - loss: 0.4904 - accuracy: 0.8018 - val_loss: 0.4804 - val_accuracy: 0.7995\n",
      "Epoch 16/25\n",
      "60/60 [==============================] - 1s 10ms/step - loss: 0.4845 - accuracy: 0.8036 - val_loss: 0.4767 - val_accuracy: 0.8009\n",
      "Epoch 17/25\n",
      "60/60 [==============================] - 1s 11ms/step - loss: 0.4781 - accuracy: 0.8029 - val_loss: 0.4747 - val_accuracy: 0.7998\n",
      "Epoch 18/25\n",
      "60/60 [==============================] - 1s 10ms/step - loss: 0.4689 - accuracy: 0.8048 - val_loss: 0.4733 - val_accuracy: 0.8021\n",
      "Epoch 19/25\n",
      "60/60 [==============================] - 1s 10ms/step - loss: 0.4577 - accuracy: 0.8074 - val_loss: 0.4711 - val_accuracy: 0.8015\n",
      "Epoch 20/25\n",
      "60/60 [==============================] - 1s 10ms/step - loss: 0.4704 - accuracy: 0.8048 - val_loss: 0.4715 - val_accuracy: 0.8033\n",
      "Epoch 21/25\n",
      "60/60 [==============================] - 1s 10ms/step - loss: 0.4534 - accuracy: 0.8093 - val_loss: 0.4687 - val_accuracy: 0.8036\n",
      "Epoch 22/25\n",
      "60/60 [==============================] - 1s 10ms/step - loss: 0.4664 - accuracy: 0.8082 - val_loss: 0.4769 - val_accuracy: 0.8027\n",
      "Epoch 23/25\n",
      "60/60 [==============================] - 1s 10ms/step - loss: 0.4558 - accuracy: 0.8068 - val_loss: 0.4697 - val_accuracy: 0.8024\n",
      "Epoch 24/25\n",
      "60/60 [==============================] - 1s 10ms/step - loss: 0.4492 - accuracy: 0.8130 - val_loss: 0.4698 - val_accuracy: 0.8018\n",
      "Epoch 1/25\n",
      "60/60 [==============================] - 3s 18ms/step - loss: 0.6770 - accuracy: 0.7361 - val_loss: 0.5408 - val_accuracy: 0.7621\n",
      "Epoch 2/25\n",
      "60/60 [==============================] - 1s 10ms/step - loss: 0.5052 - accuracy: 0.7823 - val_loss: 0.4854 - val_accuracy: 0.7977\n",
      "Epoch 3/25\n",
      "60/60 [==============================] - 1s 10ms/step - loss: 0.4686 - accuracy: 0.7934 - val_loss: 0.5109 - val_accuracy: 0.8042\n",
      "Epoch 4/25\n",
      "60/60 [==============================] - 1s 10ms/step - loss: 0.4689 - accuracy: 0.7949 - val_loss: 0.4815 - val_accuracy: 0.8083\n",
      "Epoch 5/25\n",
      "60/60 [==============================] - 1s 10ms/step - loss: 0.4139 - accuracy: 0.8213 - val_loss: 0.4820 - val_accuracy: 0.8004\n",
      "Epoch 6/25\n",
      "60/60 [==============================] - 1s 10ms/step - loss: 0.4067 - accuracy: 0.8142 - val_loss: 0.5230 - val_accuracy: 0.8027\n",
      "Epoch 7/25\n",
      "60/60 [==============================] - 1s 10ms/step - loss: 0.3672 - accuracy: 0.8296 - val_loss: 0.6097 - val_accuracy: 0.7836\n",
      "Epoch 1/25\n",
      "60/60 [==============================] - 3s 17ms/step - loss: 0.7749 - accuracy: 0.7006 - val_loss: 0.5194 - val_accuracy: 0.7650\n",
      "Epoch 2/25\n",
      "60/60 [==============================] - 1s 10ms/step - loss: 0.5568 - accuracy: 0.7739 - val_loss: 0.4920 - val_accuracy: 0.7765\n",
      "Epoch 3/25\n",
      "60/60 [==============================] - 1s 10ms/step - loss: 0.5125 - accuracy: 0.7842 - val_loss: 0.4801 - val_accuracy: 0.8048\n",
      "Epoch 4/25\n",
      "60/60 [==============================] - 1s 10ms/step - loss: 0.4932 - accuracy: 0.7939 - val_loss: 0.4830 - val_accuracy: 0.8030\n",
      "Epoch 5/25\n",
      "60/60 [==============================] - 1s 10ms/step - loss: 0.4644 - accuracy: 0.8055 - val_loss: 0.4715 - val_accuracy: 0.8107\n",
      "Epoch 6/25\n",
      "60/60 [==============================] - 1s 10ms/step - loss: 0.4360 - accuracy: 0.8152 - val_loss: 0.4675 - val_accuracy: 0.8101\n",
      "Epoch 7/25\n",
      "60/60 [==============================] - 1s 10ms/step - loss: 0.4347 - accuracy: 0.8159 - val_loss: 0.4721 - val_accuracy: 0.8154\n",
      "Epoch 8/25\n",
      "60/60 [==============================] - 1s 10ms/step - loss: 0.4215 - accuracy: 0.8251 - val_loss: 0.4624 - val_accuracy: 0.8124\n",
      "Epoch 9/25\n",
      "60/60 [==============================] - 1s 10ms/step - loss: 0.4295 - accuracy: 0.8170 - val_loss: 0.4699 - val_accuracy: 0.8098\n",
      "Epoch 10/25\n",
      "60/60 [==============================] - 1s 10ms/step - loss: 0.3970 - accuracy: 0.8262 - val_loss: 0.4892 - val_accuracy: 0.8130\n",
      "Epoch 1/25\n",
      "60/60 [==============================] - 3s 18ms/step - loss: 1.0283 - accuracy: 0.5470 - val_loss: 0.8921 - val_accuracy: 0.7621\n",
      "Epoch 2/25\n",
      "60/60 [==============================] - 1s 10ms/step - loss: 0.8667 - accuracy: 0.7214 - val_loss: 0.6725 - val_accuracy: 0.7621\n",
      "Epoch 3/25\n",
      "60/60 [==============================] - 1s 10ms/step - loss: 0.7427 - accuracy: 0.7478 - val_loss: 0.5835 - val_accuracy: 0.7621\n",
      "Epoch 4/25\n",
      "60/60 [==============================] - 1s 10ms/step - loss: 0.6502 - accuracy: 0.7625 - val_loss: 0.5317 - val_accuracy: 0.7618\n",
      "Epoch 1/25\n",
      "60/60 [==============================] - 3s 18ms/step - loss: 0.7726 - accuracy: 0.6758 - val_loss: 0.5419 - val_accuracy: 0.7621\n",
      "Epoch 2/25\n",
      "60/60 [==============================] - 1s 10ms/step - loss: 0.5442 - accuracy: 0.7764 - val_loss: 0.5113 - val_accuracy: 0.7853\n",
      "Epoch 3/25\n",
      "60/60 [==============================] - 1s 10ms/step - loss: 0.5136 - accuracy: 0.7884 - val_loss: 0.4828 - val_accuracy: 0.7868\n",
      "Epoch 4/25\n",
      "60/60 [==============================] - 1s 10ms/step - loss: 0.4789 - accuracy: 0.7935 - val_loss: 0.5388 - val_accuracy: 0.7624\n",
      "Epoch 5/25\n",
      "60/60 [==============================] - 1s 10ms/step - loss: 0.4848 - accuracy: 0.7895 - val_loss: 0.4826 - val_accuracy: 0.8098\n",
      "Epoch 6/25\n",
      "60/60 [==============================] - 1s 10ms/step - loss: 0.4308 - accuracy: 0.8114 - val_loss: 0.4925 - val_accuracy: 0.8136\n",
      "Epoch 7/25\n",
      "60/60 [==============================] - 1s 10ms/step - loss: 0.3980 - accuracy: 0.8239 - val_loss: 0.5101 - val_accuracy: 0.8124\n",
      "Epoch 8/25\n",
      "60/60 [==============================] - 1s 10ms/step - loss: 0.3921 - accuracy: 0.8197 - val_loss: 0.5068 - val_accuracy: 0.8112\n",
      "Epoch 9/25\n",
      "60/60 [==============================] - 1s 10ms/step - loss: 0.3720 - accuracy: 0.8223 - val_loss: 0.5698 - val_accuracy: 0.8077\n",
      "Epoch 1/25\n",
      "60/60 [==============================] - 3s 17ms/step - loss: 0.9572 - accuracy: 0.5383 - val_loss: 0.5298 - val_accuracy: 0.7621\n",
      "Epoch 2/25\n",
      "60/60 [==============================] - 1s 10ms/step - loss: 0.6435 - accuracy: 0.7516 - val_loss: 0.5071 - val_accuracy: 0.7621\n",
      "Epoch 3/25\n",
      "60/60 [==============================] - 1s 10ms/step - loss: 0.5688 - accuracy: 0.7692 - val_loss: 0.5033 - val_accuracy: 0.7624\n",
      "Epoch 4/25\n",
      "60/60 [==============================] - 1s 10ms/step - loss: 0.5235 - accuracy: 0.7851 - val_loss: 0.4928 - val_accuracy: 0.7727\n",
      "Epoch 5/25\n",
      "60/60 [==============================] - 1s 10ms/step - loss: 0.5196 - accuracy: 0.7883 - val_loss: 0.4809 - val_accuracy: 0.7809\n",
      "Epoch 6/25\n",
      "60/60 [==============================] - 1s 10ms/step - loss: 0.5051 - accuracy: 0.7921 - val_loss: 0.4877 - val_accuracy: 0.7930\n",
      "Epoch 7/25\n",
      "60/60 [==============================] - 1s 10ms/step - loss: 0.4815 - accuracy: 0.7977 - val_loss: 0.4805 - val_accuracy: 0.8036\n",
      "Epoch 8/25\n",
      "60/60 [==============================] - 1s 10ms/step - loss: 0.4674 - accuracy: 0.8047 - val_loss: 0.4727 - val_accuracy: 0.8065\n",
      "Epoch 9/25\n",
      "60/60 [==============================] - 1s 10ms/step - loss: 0.4563 - accuracy: 0.8074 - val_loss: 0.4760 - val_accuracy: 0.8130\n",
      "Epoch 10/25\n",
      "60/60 [==============================] - 1s 10ms/step - loss: 0.4269 - accuracy: 0.8194 - val_loss: 0.4763 - val_accuracy: 0.8148\n",
      "Epoch 11/25\n",
      "60/60 [==============================] - 1s 10ms/step - loss: 0.4247 - accuracy: 0.8130 - val_loss: 0.4708 - val_accuracy: 0.8086\n",
      "Epoch 12/25\n",
      "60/60 [==============================] - 1s 10ms/step - loss: 0.4214 - accuracy: 0.8160 - val_loss: 0.5011 - val_accuracy: 0.8086\n",
      "Epoch 13/25\n",
      "60/60 [==============================] - 1s 10ms/step - loss: 0.3909 - accuracy: 0.8254 - val_loss: 0.5039 - val_accuracy: 0.8133\n",
      "Epoch 1/25\n",
      "60/60 [==============================] - 3s 18ms/step - loss: 1.0651 - accuracy: 0.4081 - val_loss: 0.9415 - val_accuracy: 0.7580\n",
      "Epoch 2/25\n",
      "60/60 [==============================] - 1s 10ms/step - loss: 0.9509 - accuracy: 0.5609 - val_loss: 0.7774 - val_accuracy: 0.7621\n",
      "Epoch 3/25\n",
      "60/60 [==============================] - 1s 10ms/step - loss: 0.8614 - accuracy: 0.6434 - val_loss: 0.6674 - val_accuracy: 0.7624\n",
      "Epoch 4/25\n",
      "60/60 [==============================] - 1s 10ms/step - loss: 0.7906 - accuracy: 0.6814 - val_loss: 0.5873 - val_accuracy: 0.7621\n",
      "Epoch 5/25\n",
      "60/60 [==============================] - 1s 10ms/step - loss: 0.7343 - accuracy: 0.7169 - val_loss: 0.5550 - val_accuracy: 0.7621\n",
      "Epoch 6/25\n",
      "60/60 [==============================] - 1s 10ms/step - loss: 0.6891 - accuracy: 0.7267 - val_loss: 0.5368 - val_accuracy: 0.7621\n"
     ]
    }
   ],
   "source": [
    "# Word2Vec approach\n",
    "early_stop = EarlyStopping(monitor='val_accuracy', mode = 'max', patience = 3)\n",
    "history_dict2 = []\n",
    "emb_method = 'Word2Vec'\n",
    "for layers in [1, 2, 3]:\n",
    "    for dropout_m in [0.2, 0.3, 0.4, 0.5]:\n",
    "        for learning_rate in [0.01, 0.001, 0.0001]:\n",
    "            trained_model = build_model(layers, dropout_m, emb_method)            \n",
    "            adam_opt = Adam(learning_rate=learning_rate)\n",
    "            trained_model.compile(loss = 'categorical_crossentropy', optimizer=adam_opt, metrics = ['accuracy'])\n",
    "            hist = trained_model.fit(X_train_m, Y_train_m, validation_data=(X_val, Y_val), epochs = 25, batch_size = 229, callbacks = [early_stop])\n",
    "            current_values = []\n",
    "            l = layers\n",
    "            dropout = dropout_m\n",
    "            current_value = []\n",
    "            current_value.append(l)\n",
    "            current_value.append(dropout_m)\n",
    "            current_value.append(learning_rate)\n",
    "            current_value.append(len(hist.history['loss']))\n",
    "            current_value.append(hist.history['loss'][-1])\n",
    "            current_value.append(hist.history['accuracy'][-1])\n",
    "            current_value.append(hist.history['val_loss'][-1])\n",
    "            current_value.append(hist.history['val_accuracy'][-1])\n",
    "            current_value.append(hist.history['loss'][-4])\n",
    "            current_value.append(hist.history['accuracy'][-4])\n",
    "            current_value.append(hist.history['val_loss'][-4])\n",
    "            current_value.append(hist.history['val_accuracy'][-4])\n",
    "            history_dict2.append(current_value)\n",
    "            gc.collect()"
   ]
  },
  {
   "cell_type": "code",
   "execution_count": 181,
   "metadata": {
    "executionInfo": {
     "elapsed": 574,
     "status": "ok",
     "timestamp": 1610885833329,
     "user": {
      "displayName": "Claudia Słaboń",
      "photoUrl": "",
      "userId": "11186854387326052161"
     },
     "user_tz": -60
    },
    "id": "10-fjdZGLM43"
   },
   "outputs": [],
   "source": [
    "column_names = [\"layers\", \"dropout\",\"learning_rate\", \"epochs\", \"loss_25\", \"accuracy_25\", \"validation_loss_25\", \"validation_accuracy_25\", \"loss\", \"accuracy\", \"validation_loss\", \"validation_accuracy\"]\n",
    "Glove = pd.DataFrame(history_dict, columns=column_names)\n",
    "Word = pd.DataFrame(history_dict2, columns=column_names)"
   ]
  },
  {
   "cell_type": "markdown",
   "metadata": {
    "id": "Wmw2LtL0Vz2d"
   },
   "source": [
    "# Chosen model basen on highest validation accuracy\n",
    "GloVe - chosen model"
   ]
  },
  {
   "cell_type": "code",
   "execution_count": 182,
   "metadata": {
    "colab": {
     "base_uri": "https://localhost:8080/"
    },
    "executionInfo": {
     "elapsed": 918,
     "status": "ok",
     "timestamp": 1610885834683,
     "user": {
      "displayName": "Claudia Słaboń",
      "photoUrl": "",
      "userId": "11186854387326052161"
     },
     "user_tz": -60
    },
    "id": "FE2b40L5Mhko",
    "outputId": "a403a8b6-d9bf-48c4-8096-dd92d0aebcf9"
   },
   "outputs": [
    {
     "name": "stdout",
     "output_type": "stream",
     "text": [
      "layers                    1.000000\n",
      "dropout                   0.400000\n",
      "learning_rate             0.010000\n",
      "epochs                    8.000000\n",
      "loss_25                   0.354677\n",
      "accuracy_25               0.841505\n",
      "validation_loss_25        0.526902\n",
      "validation_accuracy_25    0.790636\n",
      "loss                      0.445726\n",
      "accuracy                  0.809408\n",
      "validation_loss           0.498840\n",
      "validation_accuracy       0.810365\n",
      "Name: 6, dtype: float64\n",
      "layers                    2.000000\n",
      "dropout                   0.200000\n",
      "learning_rate             0.010000\n",
      "epochs                    8.000000\n",
      "loss_25                   0.360541\n",
      "accuracy_25               0.836057\n",
      "validation_loss_25        0.512010\n",
      "validation_accuracy_25    0.802120\n",
      "loss                      0.451247\n",
      "accuracy                  0.813310\n",
      "validation_loss           0.493711\n",
      "validation_accuracy       0.804770\n",
      "Name: 12, dtype: float64\n"
     ]
    }
   ],
   "source": [
    "print(Glove.iloc[Glove['validation_accuracy'].argmax()])\n",
    "print(Glove.iloc[Glove['validation_accuracy_25'].argmax()])"
   ]
  },
  {
   "cell_type": "markdown",
   "metadata": {
    "id": "GIiT4MT5V9xO"
   },
   "source": [
    "Word2Vec - chosen model"
   ]
  },
  {
   "cell_type": "code",
   "execution_count": 183,
   "metadata": {
    "colab": {
     "base_uri": "https://localhost:8080/"
    },
    "executionInfo": {
     "elapsed": 577,
     "status": "ok",
     "timestamp": 1610885846889,
     "user": {
      "displayName": "Claudia Słaboń",
      "photoUrl": "",
      "userId": "11186854387326052161"
     },
     "user_tz": -60
    },
    "id": "WvRqCNp7MuCu",
    "outputId": "259b8677-a6db-4c29-fabe-0ce0c0a0ee62"
   },
   "outputs": [
    {
     "name": "stdout",
     "output_type": "stream",
     "text": [
      "layers                     2.000000\n",
      "dropout                    0.400000\n",
      "learning_rate              0.001000\n",
      "epochs                    15.000000\n",
      "loss_25                    0.327885\n",
      "accuracy_25                0.853504\n",
      "validation_loss_25         0.557249\n",
      "validation_accuracy_25     0.812426\n",
      "loss                       0.368284\n",
      "accuracy                   0.836499\n",
      "validation_loss            0.479861\n",
      "validation_accuracy        0.820082\n",
      "Name: 19, dtype: float64\n",
      "layers                     2.000000\n",
      "dropout                    0.500000\n",
      "learning_rate              0.001000\n",
      "epochs                    13.000000\n",
      "loss_25                    0.389922\n",
      "accuracy_25                0.823027\n",
      "validation_loss_25         0.506418\n",
      "validation_accuracy_25     0.815371\n",
      "loss                       0.420136\n",
      "accuracy                   0.815886\n",
      "validation_loss            0.513917\n",
      "validation_accuracy        0.816254\n",
      "Name: 22, dtype: float64\n"
     ]
    }
   ],
   "source": [
    "print(Word.iloc[Word['validation_accuracy'].argmax()])\n",
    "print(Word.iloc[Word['validation_accuracy_25'].argmax()])"
   ]
  },
  {
   "cell_type": "markdown",
   "metadata": {
    "id": "06tFQiTTA3v9"
   },
   "source": [
    "Chosen model which uses GloVe"
   ]
  },
  {
   "cell_type": "code",
   "execution_count": 187,
   "metadata": {
    "colab": {
     "base_uri": "https://localhost:8080/"
    },
    "executionInfo": {
     "elapsed": 7022,
     "status": "ok",
     "timestamp": 1610886014811,
     "user": {
      "displayName": "Claudia Słaboń",
      "photoUrl": "",
      "userId": "11186854387326052161"
     },
     "user_tz": -60
    },
    "id": "Pp7dKap5BAp2",
    "outputId": "bc0e0496-4854-4dc0-8b56-456227a12fed"
   },
   "outputs": [
    {
     "data": {
      "text/plain": [
       "<tensorflow.python.keras.callbacks.History at 0x7fda9d0eeb00>"
      ]
     },
     "execution_count": 187,
     "metadata": {
      "tags": []
     },
     "output_type": "execute_result"
    }
   ],
   "source": [
    "emb_method = 'GloVe'\n",
    "early_stop = EarlyStopping(monitor='val_accuracy', mode = 'max', patience = 3)\n",
    "adam_opt = Adam(learning_rate=0.01)\n",
    "model_g = build_model(1, 0.4, emb_method)\n",
    "model_g.compile(loss = 'categorical_crossentropy', optimizer=adam_opt, metrics = ['accuracy'])\n",
    "model_g.fit(X_train, Y_train, validation_data=(X_test, Y_test), epochs = 5, batch_size = 146, callbacks = [early_stop], verbose=0)"
   ]
  },
  {
   "cell_type": "markdown",
   "metadata": {
    "id": "qJK4gJjHWB0N"
   },
   "source": [
    "Chosen model which uses Word2Vec"
   ]
  },
  {
   "cell_type": "code",
   "execution_count": 184,
   "metadata": {
    "colab": {
     "base_uri": "https://localhost:8080/"
    },
    "executionInfo": {
     "elapsed": 10210,
     "status": "ok",
     "timestamp": 1610885891045,
     "user": {
      "displayName": "Claudia Słaboń",
      "photoUrl": "",
      "userId": "11186854387326052161"
     },
     "user_tz": -60
    },
    "id": "bO2jf0TWCevs",
    "outputId": "767ab0e8-35fe-4da6-fb95-ce68f0d24082"
   },
   "outputs": [
    {
     "data": {
      "text/plain": [
       "<tensorflow.python.keras.callbacks.History at 0x7fda977072e8>"
      ]
     },
     "execution_count": 184,
     "metadata": {
      "tags": []
     },
     "output_type": "execute_result"
    }
   ],
   "source": [
    "emb_method = 'Word2Vec'\n",
    "early_stop = EarlyStopping(monitor='val_accuracy', mode = 'max', patience = 3)\n",
    "adam_opt = Adam(learning_rate=0.001)\n",
    "model_w = build_model(2, 0.4, emb_method)\n",
    "model_w.compile(loss = 'categorical_crossentropy', optimizer=adam_opt, metrics = ['accuracy'])\n",
    "model_w.fit(X_train, Y_train, validation_data=(X_test, Y_test), epochs = 13, batch_size =146, callbacks = [early_stop], verbose = 0)"
   ]
  },
  {
   "cell_type": "markdown",
   "metadata": {
    "id": "stjAzib3WFvy"
   },
   "source": [
    "# Predictions"
   ]
  },
  {
   "cell_type": "code",
   "execution_count": 204,
   "metadata": {
    "executionInfo": {
     "elapsed": 1485,
     "status": "ok",
     "timestamp": 1610886336667,
     "user": {
      "displayName": "Claudia Słaboń",
      "photoUrl": "",
      "userId": "11186854387326052161"
     },
     "user_tz": -60
    },
    "id": "95F0ILZiI8LG"
   },
   "outputs": [],
   "source": [
    "model_g_pred = model_g.predict(X_test)\n",
    "model_w_pred = model_w.predict(X_test)"
   ]
  },
  {
   "cell_type": "markdown",
   "metadata": {
    "id": "rq1AXle7WJ5b"
   },
   "source": [
    "Final model as a combination of 2 approaches (GloVe and Word2Vec)"
   ]
  },
  {
   "cell_type": "code",
   "execution_count": 205,
   "metadata": {
    "executionInfo": {
     "elapsed": 622,
     "status": "ok",
     "timestamp": 1610886338969,
     "user": {
      "displayName": "Claudia Słaboń",
      "photoUrl": "",
      "userId": "11186854387326052161"
     },
     "user_tz": -60
    },
    "id": "wVNYyI1qJr1A"
   },
   "outputs": [],
   "source": [
    "final_model = (model_w_pred+model_g_pred)/2"
   ]
  },
  {
   "cell_type": "code",
   "execution_count": 206,
   "metadata": {
    "executionInfo": {
     "elapsed": 622,
     "status": "ok",
     "timestamp": 1610886342878,
     "user": {
      "displayName": "Claudia Słaboń",
      "photoUrl": "",
      "userId": "11186854387326052161"
     },
     "user_tz": -60
    },
    "id": "Q17fp-tYMTx4"
   },
   "outputs": [],
   "source": [
    "model_prediction = np.argmax(final_model, axis=-1)"
   ]
  },
  {
   "cell_type": "code",
   "execution_count": 207,
   "metadata": {
    "executionInfo": {
     "elapsed": 647,
     "status": "ok",
     "timestamp": 1610886344676,
     "user": {
      "displayName": "Claudia Słaboń",
      "photoUrl": "",
      "userId": "11186854387326052161"
     },
     "user_tz": -60
    },
    "id": "hpFonPK1OOd2"
   },
   "outputs": [],
   "source": [
    "final_prediction = []\n",
    "for i in model_prediction:\n",
    "    if i == 0:\n",
    "        i='negative'\n",
    "    elif i ==1:\n",
    "        i='neutral'\n",
    "    else:\n",
    "        i='positive'\n",
    "    final_prediction.append(i)"
   ]
  },
  {
   "cell_type": "markdown",
   "metadata": {
    "id": "jcuqLh7QSp9j"
   },
   "source": [
    "Final model prediction"
   ]
  },
  {
   "cell_type": "code",
   "execution_count": 214,
   "metadata": {
    "colab": {
     "base_uri": "https://localhost:8080/"
    },
    "executionInfo": {
     "elapsed": 642,
     "status": "ok",
     "timestamp": 1610887060297,
     "user": {
      "displayName": "Claudia Słaboń",
      "photoUrl": "",
      "userId": "11186854387326052161"
     },
     "user_tz": -60
    },
    "id": "9qieW3I-FG6Z",
    "outputId": "906df96d-8aff-48d8-9fef-6829ec492f4d"
   },
   "outputs": [
    {
     "name": "stdout",
     "output_type": "stream",
     "text": [
      "Accuracy of the model is equal to: 0.822\n",
      "[[ 370   16  202]\n",
      " [ 266   30  411]\n",
      " [  95   17 4254]]\n"
     ]
    }
   ],
   "source": [
    "ac = accuracy_score(Y_test_m, final_prediction)\n",
    "print(\"Accuracy of the model is equal to:\",ac.round(3))"
   ]
  },
  {
   "cell_type": "code",
   "execution_count": 215,
   "metadata": {
    "colab": {
     "base_uri": "https://localhost:8080/"
    },
    "executionInfo": {
     "elapsed": 619,
     "status": "ok",
     "timestamp": 1610887075466,
     "user": {
      "displayName": "Claudia Słaboń",
      "photoUrl": "",
      "userId": "11186854387326052161"
     },
     "user_tz": -60
    },
    "id": "Ll_ucRWYWf9I",
    "outputId": "2e1ea752-3628-404a-af54-5c0b15faec79"
   },
   "outputs": [
    {
     "name": "stdout",
     "output_type": "stream",
     "text": [
      "[[ 370   16  202]\n",
      " [ 266   30  411]\n",
      " [  95   17 4254]]\n"
     ]
    }
   ],
   "source": [
    "cm = confusion_matrix(Y_test_m, final_prediction)\n",
    "print(cm)"
   ]
  },
  {
   "cell_type": "markdown",
   "metadata": {
    "id": "_8b343YGWi2V"
   },
   "source": [
    "GloVe model prediction"
   ]
  },
  {
   "cell_type": "code",
   "execution_count": 189,
   "metadata": {
    "colab": {
     "base_uri": "https://localhost:8080/"
    },
    "executionInfo": {
     "elapsed": 1081,
     "status": "ok",
     "timestamp": 1610886023681,
     "user": {
      "displayName": "Claudia Słaboń",
      "photoUrl": "",
      "userId": "11186854387326052161"
     },
     "user_tz": -60
    },
    "id": "FbjuuZl6NxfM",
    "outputId": "cfb00306-56c9-48dd-dd06-9c31860f40a9"
   },
   "outputs": [
    {
     "name": "stdout",
     "output_type": "stream",
     "text": [
      "Accuracy of the GloVe model is equal to: 0.811\n"
     ]
    }
   ],
   "source": [
    "model_glove_pred = np.argmax(model_g_pred, axis=-1)\n",
    "glove_prediction = []\n",
    "for i in model_glove_pred:\n",
    "    if i == 0:\n",
    "        i='negative'\n",
    "    elif i ==1:\n",
    "        i='neutral'\n",
    "    else:\n",
    "        i='positive'\n",
    "    glove_prediction.append(i)\n",
    "\n",
    "ac_glove = accuracy_score(Y_test_m, glove_prediction)\n",
    "print(\"Accuracy of the GloVe model is equal to:\",ac_glove.round(3))"
   ]
  },
  {
   "cell_type": "markdown",
   "metadata": {
    "id": "Ur6pckPJWqf0"
   },
   "source": [
    "Word2Vec model prediction"
   ]
  },
  {
   "cell_type": "code",
   "execution_count": 190,
   "metadata": {
    "colab": {
     "base_uri": "https://localhost:8080/"
    },
    "executionInfo": {
     "elapsed": 856,
     "status": "ok",
     "timestamp": 1610886029921,
     "user": {
      "displayName": "Claudia Słaboń",
      "photoUrl": "",
      "userId": "11186854387326052161"
     },
     "user_tz": -60
    },
    "id": "K4WYDLylNxod",
    "outputId": "b91c8522-a9d5-4948-8525-9fd987694562"
   },
   "outputs": [
    {
     "name": "stdout",
     "output_type": "stream",
     "text": [
      "Accuracy of the Word2Vec model is equal to: 0.819\n"
     ]
    }
   ],
   "source": [
    "model_word2vec_pred = np.argmax(model_w_pred, axis=-1)\n",
    "word2vec_prediction = []\n",
    "for i in model_word2vec_pred:\n",
    "    if i == 0:\n",
    "        i='negative'\n",
    "    elif i ==1:\n",
    "        i='neutral'\n",
    "    else:\n",
    "        i='positive'\n",
    "    word2vec_prediction.append(i)\n",
    "\n",
    "ac_word2vec = accuracy_score(Y_test_m, word2vec_prediction)\n",
    "print(\"Accuracy of the Word2Vec model is equal to:\",ac_word2vec.round(3))"
   ]
  },
  {
   "cell_type": "markdown",
   "metadata": {
    "id": "WnceINdtWvjr"
   },
   "source": [
    "# Conclusion\n",
    "Final model confusion matrix"
   ]
  },
  {
   "cell_type": "code",
   "execution_count": 28,
   "metadata": {
    "colab": {
     "base_uri": "https://localhost:8080/"
    },
    "executionInfo": {
     "elapsed": 644,
     "status": "ok",
     "timestamp": 1610886493489,
     "user": {
      "displayName": "Claudia Słaboń",
      "photoUrl": "",
      "userId": "11186854387326052161"
     },
     "user_tz": -60
    },
    "id": "s1pqO-ADbODc",
    "outputId": "cba4144b-cc03-4f34-b7e3-878ba42b0631"
   },
   "outputs": [
    {
     "data": {
      "image/png": "[encoded data removed]",
      "text/plain": [
       "<Figure size 432x288 with 2 Axes>"
      ]
     },
     "metadata": {
      "needs_background": "light"
     },
     "output_type": "display_data"
    }
   ],
   "source": [
    "cm = np.array([[ 370, 16, 202],[266, 30, 411],[95, 17, 4254]])\n",
    "cm_display = ConfusionMatrixDisplay(cm).plot(cmap='viridis')"
   ]
  },
  {
   "cell_type": "markdown",
   "metadata": {},
   "source": [
    "CountVectorizer approach was used regarding benchmark model.\n",
    "<br> Benchmark Model (Multinomial Naive Bayes) obtained 80,6% accuracy.\n",
    "<br> 2 approaches were used regarding student model.\n",
    "<br> First embedding matrix was built using GloVe approach.\n",
    "<br> Second one was built using Word2Vec approach.\n",
    "<br> Final LSTM model which uses GloVe approach has following parameters: 1 hidden layer, 0,4 dropout rate, learning rate equals 0.01 and 5 epochs.\n",
    "<br> Final LSTM model which uses Word2Vec approach has following parameters: 2 hidden layer, 0,4 dropout rate, learning rate equals 0.001 and 13 epochs.\n",
    "<br> Final model predicts reviews based on predictictions from GloVe LSTM model and Word2Vec LSTM model.\n",
    "<br> Accuracy of the student model equals 82,2%."
   ]
  }
 ],
 "metadata": {
  "accelerator": "GPU",
  "colab": {
   "collapsed_sections": [],
   "name": "Kopia ML2 project v2.ipynb",
   "provenance": [],
   "toc_visible": true
  },
  "kernelspec": {
   "display_name": "Python 3",
   "language": "python",
   "name": "python3"
  },
  "language_info": {
   "codemirror_mode": {
    "name": "ipython",
    "version": 3
   },
   "file_extension": ".py",
   "mimetype": "text/x-python",
   "name": "python",
   "nbconvert_exporter": "python",
   "pygments_lexer": "ipython3",
   "version": "3.7.4"
  }
 },
 "nbformat": 4,
 "nbformat_minor": 1
}
